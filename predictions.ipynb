{
 "cells": [
  {
   "cell_type": "markdown",
   "id": "09fdafc7",
   "metadata": {},
   "source": [
    "X, formerly known as Twitter, has a set of rules they expect the users of the platform to abide by. Last year, I scraped over 64M tweets and wrote a set of programs to identify which of those tweets were deleted by (then) Twitter. I explored this project to verify that the platform was following their rules when determining what tweets to delete and not being biased in their approach. In summary, a majority, of the tweets I found to be deleted could be labelled as some sort of hate speech, and my concerns about bias in Twitter’s approach dissipated. \n",
    "\n",
    "When reading through some of the “censored” tweets, I wiped the blood from my eyes that came from all the hate speech, and I found some tweets that the author may have benefited from some sort of warning to tell them that their tweet may be deleted. For example, an author may be trying to get a point across to a congress person about something he or she felt strongly about; unfortunately, they probably felt too strongly, and their rhetoric “crossed the line.” I thought, “wouldn’t it be cool if a tweet author was prompted to consider re-writing their tweet so that it does not get taken down from the platform team?” This is the crux of my project proposal: train a model to predict a tweet will be deleted from the platform.\n",
    "\n",
    "In this project, I will use two different techniques to vectorize the tweet data: \n",
    " - spaCy\n",
    " - Scikit Learn's TFIDF vectorizer\n",
    "\n",
    "From there, we will deploy 4 techniques to each of these vectorizers:\n",
    " - Custom built KNN Classifier using cosine similarity\n",
    " - Scikit KNN Classifier using PCA\n",
    " - Cross-Validation using RandomForestClassifier\n",
    " - Kmeans Clustering\n",
    " \n",
    "For more information about how I gathered this data, check out my blog and github:\n",
    " - Blog: https://inthegraey.com/\n",
    " - Github: https://github.com/madecero/thegraey\n",
    " \n",
    "NOTE: This notebook takes the projectdf.csv created from FinalProject_db_to_csv.ipynb. Refer to that notebook on how the dataset was created to perform the below analysis."
   ]
  },
  {
   "cell_type": "code",
   "execution_count": 1,
   "id": "a2351a91",
   "metadata": {},
   "outputs": [],
   "source": [
    "import pandas as pd\n",
    "import numpy as np"
   ]
  },
  {
   "cell_type": "code",
   "execution_count": 2,
   "id": "c8b6be65",
   "metadata": {},
   "outputs": [],
   "source": [
    "df = pd.read_csv('projectdf.csv')"
   ]
  },
  {
   "cell_type": "code",
   "execution_count": 3,
   "id": "ed5d3885",
   "metadata": {},
   "outputs": [
    {
     "data": {
      "text/html": [
       "<div>\n",
       "<style scoped>\n",
       "    .dataframe tbody tr th:only-of-type {\n",
       "        vertical-align: middle;\n",
       "    }\n",
       "\n",
       "    .dataframe tbody tr th {\n",
       "        vertical-align: top;\n",
       "    }\n",
       "\n",
       "    .dataframe thead th {\n",
       "        text-align: right;\n",
       "    }\n",
       "</style>\n",
       "<table border=\"1\" class=\"dataframe\">\n",
       "  <thead>\n",
       "    <tr style=\"text-align: right;\">\n",
       "      <th></th>\n",
       "      <th>ID</th>\n",
       "      <th>Text</th>\n",
       "      <th>CreatedAt</th>\n",
       "      <th>deleteReason</th>\n",
       "    </tr>\n",
       "  </thead>\n",
       "  <tbody>\n",
       "    <tr>\n",
       "      <th>0</th>\n",
       "      <td>1474541778120450049</td>\n",
       "      <td>RT @McQueenRH: new active list now! come get a...</td>\n",
       "      <td>Sat Dec 25 00:45:30 2021</td>\n",
       "      <td>0</td>\n",
       "    </tr>\n",
       "    <tr>\n",
       "      <th>1</th>\n",
       "      <td>1474549365578645506</td>\n",
       "      <td>RT @thatboicandy: @mooncat2878 @tezos @TempleW...</td>\n",
       "      <td>Sat Dec 25 01:15:39 2021</td>\n",
       "      <td>0</td>\n",
       "    </tr>\n",
       "    <tr>\n",
       "      <th>2</th>\n",
       "      <td>1474553150841376770</td>\n",
       "      <td>RT @btsvotingorg: Collect more hearts and regi...</td>\n",
       "      <td>Sat Dec 25 01:30:41 2021</td>\n",
       "      <td>0</td>\n",
       "    </tr>\n",
       "    <tr>\n",
       "      <th>3</th>\n",
       "      <td>1474579650475134983</td>\n",
       "      <td>Instead of saying English is not a desi langua...</td>\n",
       "      <td>Sat Dec 25 03:15:59 2021</td>\n",
       "      <td>0</td>\n",
       "    </tr>\n",
       "    <tr>\n",
       "      <th>4</th>\n",
       "      <td>1474621084993343494</td>\n",
       "      <td>🎶 It came upon a midnight cloudy...\\n\\n...the ...</td>\n",
       "      <td>Sat Dec 25 06:00:38 2021</td>\n",
       "      <td>0</td>\n",
       "    </tr>\n",
       "  </tbody>\n",
       "</table>\n",
       "</div>"
      ],
      "text/plain": [
       "                    ID                                               Text  \\\n",
       "0  1474541778120450049  RT @McQueenRH: new active list now! come get a...   \n",
       "1  1474549365578645506  RT @thatboicandy: @mooncat2878 @tezos @TempleW...   \n",
       "2  1474553150841376770  RT @btsvotingorg: Collect more hearts and regi...   \n",
       "3  1474579650475134983  Instead of saying English is not a desi langua...   \n",
       "4  1474621084993343494  🎶 It came upon a midnight cloudy...\\n\\n...the ...   \n",
       "\n",
       "                  CreatedAt  deleteReason  \n",
       "0  Sat Dec 25 00:45:30 2021             0  \n",
       "1  Sat Dec 25 01:15:39 2021             0  \n",
       "2  Sat Dec 25 01:30:41 2021             0  \n",
       "3  Sat Dec 25 03:15:59 2021             0  \n",
       "4  Sat Dec 25 06:00:38 2021             0  "
      ]
     },
     "execution_count": 3,
     "metadata": {},
     "output_type": "execute_result"
    }
   ],
   "source": [
    "df.head()"
   ]
  },
  {
   "cell_type": "code",
   "execution_count": 4,
   "id": "fba66f9d",
   "metadata": {},
   "outputs": [
    {
     "data": {
      "text/plain": [
       "(11153, 4)"
      ]
     },
     "execution_count": 4,
     "metadata": {},
     "output_type": "execute_result"
    }
   ],
   "source": [
    "df.shape"
   ]
  },
  {
   "cell_type": "markdown",
   "id": "544699d8",
   "metadata": {},
   "source": [
    "### Now let's seperate our data into x and y variables"
   ]
  },
  {
   "cell_type": "code",
   "execution_count": 5,
   "id": "9d9eeaa5",
   "metadata": {},
   "outputs": [],
   "source": [
    "text = df.iloc[:, 1:2]  # Selects only the second column\n",
    "target = df.iloc[:, -1:]    # Selects the last column"
   ]
  },
  {
   "cell_type": "code",
   "execution_count": 6,
   "id": "e7e6121d",
   "metadata": {},
   "outputs": [
    {
     "data": {
      "text/html": [
       "<div>\n",
       "<style scoped>\n",
       "    .dataframe tbody tr th:only-of-type {\n",
       "        vertical-align: middle;\n",
       "    }\n",
       "\n",
       "    .dataframe tbody tr th {\n",
       "        vertical-align: top;\n",
       "    }\n",
       "\n",
       "    .dataframe thead th {\n",
       "        text-align: right;\n",
       "    }\n",
       "</style>\n",
       "<table border=\"1\" class=\"dataframe\">\n",
       "  <thead>\n",
       "    <tr style=\"text-align: right;\">\n",
       "      <th></th>\n",
       "      <th>Text</th>\n",
       "    </tr>\n",
       "  </thead>\n",
       "  <tbody>\n",
       "    <tr>\n",
       "      <th>0</th>\n",
       "      <td>RT @McQueenRH: new active list now! come get a...</td>\n",
       "    </tr>\n",
       "    <tr>\n",
       "      <th>1</th>\n",
       "      <td>RT @thatboicandy: @mooncat2878 @tezos @TempleW...</td>\n",
       "    </tr>\n",
       "    <tr>\n",
       "      <th>2</th>\n",
       "      <td>RT @btsvotingorg: Collect more hearts and regi...</td>\n",
       "    </tr>\n",
       "    <tr>\n",
       "      <th>3</th>\n",
       "      <td>Instead of saying English is not a desi langua...</td>\n",
       "    </tr>\n",
       "    <tr>\n",
       "      <th>4</th>\n",
       "      <td>🎶 It came upon a midnight cloudy...\\n\\n...the ...</td>\n",
       "    </tr>\n",
       "  </tbody>\n",
       "</table>\n",
       "</div>"
      ],
      "text/plain": [
       "                                                Text\n",
       "0  RT @McQueenRH: new active list now! come get a...\n",
       "1  RT @thatboicandy: @mooncat2878 @tezos @TempleW...\n",
       "2  RT @btsvotingorg: Collect more hearts and regi...\n",
       "3  Instead of saying English is not a desi langua...\n",
       "4  🎶 It came upon a midnight cloudy...\\n\\n...the ..."
      ]
     },
     "execution_count": 6,
     "metadata": {},
     "output_type": "execute_result"
    }
   ],
   "source": [
    "text.head()"
   ]
  },
  {
   "cell_type": "code",
   "execution_count": 7,
   "id": "195e8bcc",
   "metadata": {},
   "outputs": [
    {
     "data": {
      "text/html": [
       "<div>\n",
       "<style scoped>\n",
       "    .dataframe tbody tr th:only-of-type {\n",
       "        vertical-align: middle;\n",
       "    }\n",
       "\n",
       "    .dataframe tbody tr th {\n",
       "        vertical-align: top;\n",
       "    }\n",
       "\n",
       "    .dataframe thead th {\n",
       "        text-align: right;\n",
       "    }\n",
       "</style>\n",
       "<table border=\"1\" class=\"dataframe\">\n",
       "  <thead>\n",
       "    <tr style=\"text-align: right;\">\n",
       "      <th></th>\n",
       "      <th>deleteReason</th>\n",
       "    </tr>\n",
       "  </thead>\n",
       "  <tbody>\n",
       "    <tr>\n",
       "      <th>0</th>\n",
       "      <td>0</td>\n",
       "    </tr>\n",
       "    <tr>\n",
       "      <th>1</th>\n",
       "      <td>0</td>\n",
       "    </tr>\n",
       "    <tr>\n",
       "      <th>2</th>\n",
       "      <td>0</td>\n",
       "    </tr>\n",
       "    <tr>\n",
       "      <th>3</th>\n",
       "      <td>0</td>\n",
       "    </tr>\n",
       "    <tr>\n",
       "      <th>4</th>\n",
       "      <td>0</td>\n",
       "    </tr>\n",
       "  </tbody>\n",
       "</table>\n",
       "</div>"
      ],
      "text/plain": [
       "   deleteReason\n",
       "0             0\n",
       "1             0\n",
       "2             0\n",
       "3             0\n",
       "4             0"
      ]
     },
     "execution_count": 7,
     "metadata": {},
     "output_type": "execute_result"
    }
   ],
   "source": [
    "target.head()"
   ]
  },
  {
   "cell_type": "code",
   "execution_count": 8,
   "id": "1c864f3c",
   "metadata": {},
   "outputs": [
    {
     "data": {
      "text/plain": [
       "(11153, 1)"
      ]
     },
     "execution_count": 8,
     "metadata": {},
     "output_type": "execute_result"
    }
   ],
   "source": [
    "text.shape"
   ]
  },
  {
   "cell_type": "code",
   "execution_count": 9,
   "id": "8798c84b",
   "metadata": {},
   "outputs": [
    {
     "data": {
      "text/plain": [
       "(11153, 1)"
      ]
     },
     "execution_count": 9,
     "metadata": {},
     "output_type": "execute_result"
    }
   ],
   "source": [
    "target.shape"
   ]
  },
  {
   "cell_type": "markdown",
   "id": "859686e2",
   "metadata": {},
   "source": [
    "### Vectorize tweets using spaCy"
   ]
  },
  {
   "cell_type": "code",
   "execution_count": 10,
   "id": "a4289cd5",
   "metadata": {},
   "outputs": [],
   "source": [
    "import spacy\n",
    "nlp = spacy.load(\"en_core_web_sm\")"
   ]
  },
  {
   "cell_type": "code",
   "execution_count": 11,
   "id": "7cbeb226",
   "metadata": {},
   "outputs": [
    {
     "name": "stdout",
     "output_type": "stream",
     "text": [
      "RT @McQueenRH: new active list now! come get a halo 🎄💗\n"
     ]
    }
   ],
   "source": [
    "#Let's vectorize one row to see how it looks\n",
    "first_row = text.iloc[0]\n",
    "tweet = first_row['Text']\n",
    "print (tweet)"
   ]
  },
  {
   "cell_type": "code",
   "execution_count": 12,
   "id": "65607074",
   "metadata": {},
   "outputs": [
    {
     "name": "stdout",
     "output_type": "stream",
     "text": [
      "[ 2.20960304e-01 -1.22759208e-01  2.15596542e-01 -2.87257992e-02\n",
      "  1.14529744e-01 -7.57146850e-02  3.55610880e-03  3.31563763e-02\n",
      "  4.17150408e-01 -1.84260011e-01 -1.71363562e-01 -1.24324048e-02\n",
      " -4.75963682e-01  1.53285429e-01 -3.50125372e-01 -3.94094400e-02\n",
      " -2.33767599e-01 -5.13015315e-02 -3.10330302e-01 -9.62963030e-02\n",
      "  1.24893129e-01  4.26056594e-01 -3.71111453e-01  2.25131482e-01\n",
      "  7.93977454e-02  3.52302074e-01  2.30065390e-01  4.61123258e-01\n",
      "  5.63240494e-04 -3.96967888e-01  5.55405378e-01  3.32233496e-02\n",
      " -4.22298461e-01 -2.81363398e-01 -4.54657733e-01 -2.51103967e-01\n",
      "  3.50866877e-02  3.84568125e-01  1.10567831e-01 -4.35572863e-01\n",
      " -2.08961278e-01 -1.91250905e-01 -2.69444644e-01 -2.19360694e-01\n",
      " -8.11840892e-02 -1.54547244e-01  3.01249772e-01 -8.61592650e-01\n",
      "  6.04930103e-01 -2.54548918e-02 -3.39795828e-01 -2.60081410e-01\n",
      " -8.46456811e-02  2.19316152e-03  1.87529847e-01 -1.25788316e-01\n",
      "  5.67415178e-01  1.29818782e-01  3.68099250e-02 -4.02405500e-01\n",
      " -6.85994849e-02 -3.62753391e-01  1.47276819e-02  3.49258631e-01\n",
      " -3.45072478e-01  5.82568347e-01  1.67954519e-01  1.43941924e-01\n",
      " -1.59118965e-01 -1.63546443e-01  3.15171212e-01 -2.63732493e-01\n",
      " -2.58641750e-01 -8.77703801e-02 -1.85904607e-01  1.17691636e-01\n",
      "  5.76486945e-01 -1.48028776e-01 -7.45332167e-02  2.36252502e-01\n",
      "  5.79341650e-02 -3.03145915e-01 -6.42751576e-03  4.77107048e-01\n",
      "  1.23379879e-01  1.57857135e-01  7.53680319e-02 -6.06750771e-02\n",
      "  1.89250827e-01 -7.82546401e-02 -1.51469871e-01  6.34658039e-01\n",
      " -3.23278397e-01  1.32018432e-01  1.83330029e-01  4.75059181e-01]\n"
     ]
    }
   ],
   "source": [
    "doc = nlp(tweet)\n",
    "vector = doc.vector\n",
    "print (vector)"
   ]
  },
  {
   "cell_type": "code",
   "execution_count": 13,
   "id": "e161aeac",
   "metadata": {},
   "outputs": [
    {
     "data": {
      "text/plain": [
       "(96,)"
      ]
     },
     "execution_count": 13,
     "metadata": {},
     "output_type": "execute_result"
    }
   ],
   "source": [
    "vector.shape"
   ]
  },
  {
   "cell_type": "code",
   "execution_count": 14,
   "id": "7580b13c",
   "metadata": {},
   "outputs": [],
   "source": [
    "#Now let's create a dataframe of vectors that will serve as our x variables\n",
    "\n",
    "# Create an empty list to store the vectors\n",
    "vectors = []\n",
    "\n",
    "# Iterate through the 'Text' column and convert each text to a vector\n",
    "for tweet in text['Text']:\n",
    "    # Parse the text using spaCy\n",
    "    doc = nlp(tweet)\n",
    "    \n",
    "    # Get the vector for the entire text\n",
    "    text_vector = doc.vector\n",
    "    \n",
    "    # Append the vector to the list\n",
    "    vectors.append(text_vector)\n",
    "\n",
    "# Create a new DataFrame with the vectors\n",
    "vectordf_spacy = pd.DataFrame(vectors, columns=[f\"vec_{i}\" for i in range(len(vectors[0]))])"
   ]
  },
  {
   "cell_type": "code",
   "execution_count": 15,
   "id": "a6bfb8b5",
   "metadata": {},
   "outputs": [
    {
     "data": {
      "text/html": [
       "<div>\n",
       "<style scoped>\n",
       "    .dataframe tbody tr th:only-of-type {\n",
       "        vertical-align: middle;\n",
       "    }\n",
       "\n",
       "    .dataframe tbody tr th {\n",
       "        vertical-align: top;\n",
       "    }\n",
       "\n",
       "    .dataframe thead th {\n",
       "        text-align: right;\n",
       "    }\n",
       "</style>\n",
       "<table border=\"1\" class=\"dataframe\">\n",
       "  <thead>\n",
       "    <tr style=\"text-align: right;\">\n",
       "      <th></th>\n",
       "      <th>vec_0</th>\n",
       "      <th>vec_1</th>\n",
       "      <th>vec_2</th>\n",
       "      <th>vec_3</th>\n",
       "      <th>vec_4</th>\n",
       "      <th>vec_5</th>\n",
       "      <th>vec_6</th>\n",
       "      <th>vec_7</th>\n",
       "      <th>vec_8</th>\n",
       "      <th>vec_9</th>\n",
       "      <th>...</th>\n",
       "      <th>vec_86</th>\n",
       "      <th>vec_87</th>\n",
       "      <th>vec_88</th>\n",
       "      <th>vec_89</th>\n",
       "      <th>vec_90</th>\n",
       "      <th>vec_91</th>\n",
       "      <th>vec_92</th>\n",
       "      <th>vec_93</th>\n",
       "      <th>vec_94</th>\n",
       "      <th>vec_95</th>\n",
       "    </tr>\n",
       "  </thead>\n",
       "  <tbody>\n",
       "    <tr>\n",
       "      <th>0</th>\n",
       "      <td>0.220960</td>\n",
       "      <td>-0.122759</td>\n",
       "      <td>0.215597</td>\n",
       "      <td>-0.028726</td>\n",
       "      <td>0.114530</td>\n",
       "      <td>-0.075715</td>\n",
       "      <td>0.003556</td>\n",
       "      <td>0.033156</td>\n",
       "      <td>0.417150</td>\n",
       "      <td>-0.184260</td>\n",
       "      <td>...</td>\n",
       "      <td>0.075368</td>\n",
       "      <td>-0.060675</td>\n",
       "      <td>0.189251</td>\n",
       "      <td>-0.078255</td>\n",
       "      <td>-0.151470</td>\n",
       "      <td>0.634658</td>\n",
       "      <td>-0.323278</td>\n",
       "      <td>0.132018</td>\n",
       "      <td>0.183330</td>\n",
       "      <td>0.475059</td>\n",
       "    </tr>\n",
       "    <tr>\n",
       "      <th>1</th>\n",
       "      <td>0.550239</td>\n",
       "      <td>0.108917</td>\n",
       "      <td>0.253534</td>\n",
       "      <td>-0.010316</td>\n",
       "      <td>0.497340</td>\n",
       "      <td>-0.147699</td>\n",
       "      <td>0.033444</td>\n",
       "      <td>0.457739</td>\n",
       "      <td>0.495571</td>\n",
       "      <td>-0.251674</td>\n",
       "      <td>...</td>\n",
       "      <td>0.088153</td>\n",
       "      <td>0.106767</td>\n",
       "      <td>0.678543</td>\n",
       "      <td>-0.145111</td>\n",
       "      <td>0.374974</td>\n",
       "      <td>0.334290</td>\n",
       "      <td>-0.279379</td>\n",
       "      <td>0.255332</td>\n",
       "      <td>0.154104</td>\n",
       "      <td>0.914357</td>\n",
       "    </tr>\n",
       "    <tr>\n",
       "      <th>2</th>\n",
       "      <td>-0.056039</td>\n",
       "      <td>0.094470</td>\n",
       "      <td>-0.033103</td>\n",
       "      <td>-0.013498</td>\n",
       "      <td>-0.028080</td>\n",
       "      <td>-0.078500</td>\n",
       "      <td>0.298846</td>\n",
       "      <td>0.208823</td>\n",
       "      <td>0.790802</td>\n",
       "      <td>-0.272022</td>\n",
       "      <td>...</td>\n",
       "      <td>0.550695</td>\n",
       "      <td>-0.635769</td>\n",
       "      <td>0.007694</td>\n",
       "      <td>0.260594</td>\n",
       "      <td>0.086359</td>\n",
       "      <td>0.276331</td>\n",
       "      <td>-0.223620</td>\n",
       "      <td>0.143518</td>\n",
       "      <td>0.172961</td>\n",
       "      <td>0.465025</td>\n",
       "    </tr>\n",
       "    <tr>\n",
       "      <th>3</th>\n",
       "      <td>-0.183103</td>\n",
       "      <td>0.002643</td>\n",
       "      <td>0.204122</td>\n",
       "      <td>-0.009092</td>\n",
       "      <td>0.141403</td>\n",
       "      <td>0.163014</td>\n",
       "      <td>0.141253</td>\n",
       "      <td>-0.035363</td>\n",
       "      <td>0.224903</td>\n",
       "      <td>-0.007595</td>\n",
       "      <td>...</td>\n",
       "      <td>0.033297</td>\n",
       "      <td>0.321065</td>\n",
       "      <td>0.118784</td>\n",
       "      <td>-0.130218</td>\n",
       "      <td>-0.186235</td>\n",
       "      <td>-0.025115</td>\n",
       "      <td>0.139932</td>\n",
       "      <td>0.070673</td>\n",
       "      <td>0.181020</td>\n",
       "      <td>-0.035365</td>\n",
       "    </tr>\n",
       "    <tr>\n",
       "      <th>4</th>\n",
       "      <td>-0.038305</td>\n",
       "      <td>0.011922</td>\n",
       "      <td>0.017153</td>\n",
       "      <td>-0.260877</td>\n",
       "      <td>-0.148506</td>\n",
       "      <td>-0.172667</td>\n",
       "      <td>0.379505</td>\n",
       "      <td>-0.097669</td>\n",
       "      <td>0.255290</td>\n",
       "      <td>-0.069746</td>\n",
       "      <td>...</td>\n",
       "      <td>0.230030</td>\n",
       "      <td>-0.013717</td>\n",
       "      <td>0.136523</td>\n",
       "      <td>0.140265</td>\n",
       "      <td>-0.197633</td>\n",
       "      <td>0.170173</td>\n",
       "      <td>-0.223141</td>\n",
       "      <td>0.523440</td>\n",
       "      <td>0.186075</td>\n",
       "      <td>0.226642</td>\n",
       "    </tr>\n",
       "  </tbody>\n",
       "</table>\n",
       "<p>5 rows × 96 columns</p>\n",
       "</div>"
      ],
      "text/plain": [
       "      vec_0     vec_1     vec_2     vec_3     vec_4     vec_5     vec_6  \\\n",
       "0  0.220960 -0.122759  0.215597 -0.028726  0.114530 -0.075715  0.003556   \n",
       "1  0.550239  0.108917  0.253534 -0.010316  0.497340 -0.147699  0.033444   \n",
       "2 -0.056039  0.094470 -0.033103 -0.013498 -0.028080 -0.078500  0.298846   \n",
       "3 -0.183103  0.002643  0.204122 -0.009092  0.141403  0.163014  0.141253   \n",
       "4 -0.038305  0.011922  0.017153 -0.260877 -0.148506 -0.172667  0.379505   \n",
       "\n",
       "      vec_7     vec_8     vec_9  ...    vec_86    vec_87    vec_88    vec_89  \\\n",
       "0  0.033156  0.417150 -0.184260  ...  0.075368 -0.060675  0.189251 -0.078255   \n",
       "1  0.457739  0.495571 -0.251674  ...  0.088153  0.106767  0.678543 -0.145111   \n",
       "2  0.208823  0.790802 -0.272022  ...  0.550695 -0.635769  0.007694  0.260594   \n",
       "3 -0.035363  0.224903 -0.007595  ...  0.033297  0.321065  0.118784 -0.130218   \n",
       "4 -0.097669  0.255290 -0.069746  ...  0.230030 -0.013717  0.136523  0.140265   \n",
       "\n",
       "     vec_90    vec_91    vec_92    vec_93    vec_94    vec_95  \n",
       "0 -0.151470  0.634658 -0.323278  0.132018  0.183330  0.475059  \n",
       "1  0.374974  0.334290 -0.279379  0.255332  0.154104  0.914357  \n",
       "2  0.086359  0.276331 -0.223620  0.143518  0.172961  0.465025  \n",
       "3 -0.186235 -0.025115  0.139932  0.070673  0.181020 -0.035365  \n",
       "4 -0.197633  0.170173 -0.223141  0.523440  0.186075  0.226642  \n",
       "\n",
       "[5 rows x 96 columns]"
      ]
     },
     "execution_count": 15,
     "metadata": {},
     "output_type": "execute_result"
    }
   ],
   "source": [
    "vectordf_spacy.head()"
   ]
  },
  {
   "cell_type": "markdown",
   "id": "2012b624",
   "metadata": {},
   "source": [
    "### We will call vectordf_spacy later when we run our models for the Spacy vectors. \n",
    "### \n",
    "### Let us first also create vectors using sklearn's TFIDF Vectorizer so we can do some comparisons."
   ]
  },
  {
   "cell_type": "code",
   "execution_count": 16,
   "id": "d53af6ea",
   "metadata": {},
   "outputs": [],
   "source": [
    "from sklearn.feature_extraction.text import TfidfVectorizer"
   ]
  },
  {
   "cell_type": "code",
   "execution_count": 17,
   "id": "8c964355",
   "metadata": {},
   "outputs": [],
   "source": [
    "# Create an instance of TfidfVectorizer\n",
    "vectorizer = TfidfVectorizer(encoding='utf-8', stop_words = 'english')\n",
    "\n",
    "# Fit and transform the tweets\n",
    "tfidf_matrix = vectorizer.fit_transform(text['Text'])\n",
    "\n",
    "# Convert the TF-IDF matrix to a DataFrame\n",
    "vectordf_tfidf = pd.DataFrame(tfidf_matrix.toarray(), columns = vectorizer.get_feature_names_out())"
   ]
  },
  {
   "cell_type": "code",
   "execution_count": 18,
   "id": "ec9aedb6",
   "metadata": {},
   "outputs": [
    {
     "data": {
      "text/html": [
       "<div>\n",
       "<style scoped>\n",
       "    .dataframe tbody tr th:only-of-type {\n",
       "        vertical-align: middle;\n",
       "    }\n",
       "\n",
       "    .dataframe tbody tr th {\n",
       "        vertical-align: top;\n",
       "    }\n",
       "\n",
       "    .dataframe thead th {\n",
       "        text-align: right;\n",
       "    }\n",
       "</style>\n",
       "<table border=\"1\" class=\"dataframe\">\n",
       "  <thead>\n",
       "    <tr style=\"text-align: right;\">\n",
       "      <th></th>\n",
       "      <th>00</th>\n",
       "      <th>000</th>\n",
       "      <th>0000</th>\n",
       "      <th>000000</th>\n",
       "      <th>000000000032</th>\n",
       "      <th>00000ooooooo</th>\n",
       "      <th>000k</th>\n",
       "      <th>004</th>\n",
       "      <th>0042360</th>\n",
       "      <th>0066_lhc</th>\n",
       "      <th>...</th>\n",
       "      <th>𝚘𝚏</th>\n",
       "      <th>𝚘𝚗</th>\n",
       "      <th>𝚘𝚛</th>\n",
       "      <th>𝚛𝚎𝚊𝚍𝚢</th>\n",
       "      <th>𝚝𝚑𝚎</th>\n",
       "      <th>𝚝𝚘</th>\n",
       "      <th>𝚢𝚘𝚞</th>\n",
       "      <th>𝟏𝐝𝐚𝐲𝐬</th>\n",
       "      <th>𝟐𝐧𝐝</th>\n",
       "      <th>𝟸𝟶</th>\n",
       "    </tr>\n",
       "  </thead>\n",
       "  <tbody>\n",
       "    <tr>\n",
       "      <th>0</th>\n",
       "      <td>0.0</td>\n",
       "      <td>0.0</td>\n",
       "      <td>0.0</td>\n",
       "      <td>0.0</td>\n",
       "      <td>0.0</td>\n",
       "      <td>0.0</td>\n",
       "      <td>0.0</td>\n",
       "      <td>0.0</td>\n",
       "      <td>0.0</td>\n",
       "      <td>0.0</td>\n",
       "      <td>...</td>\n",
       "      <td>0.0</td>\n",
       "      <td>0.0</td>\n",
       "      <td>0.0</td>\n",
       "      <td>0.0</td>\n",
       "      <td>0.0</td>\n",
       "      <td>0.0</td>\n",
       "      <td>0.0</td>\n",
       "      <td>0.0</td>\n",
       "      <td>0.0</td>\n",
       "      <td>0.0</td>\n",
       "    </tr>\n",
       "    <tr>\n",
       "      <th>1</th>\n",
       "      <td>0.0</td>\n",
       "      <td>0.0</td>\n",
       "      <td>0.0</td>\n",
       "      <td>0.0</td>\n",
       "      <td>0.0</td>\n",
       "      <td>0.0</td>\n",
       "      <td>0.0</td>\n",
       "      <td>0.0</td>\n",
       "      <td>0.0</td>\n",
       "      <td>0.0</td>\n",
       "      <td>...</td>\n",
       "      <td>0.0</td>\n",
       "      <td>0.0</td>\n",
       "      <td>0.0</td>\n",
       "      <td>0.0</td>\n",
       "      <td>0.0</td>\n",
       "      <td>0.0</td>\n",
       "      <td>0.0</td>\n",
       "      <td>0.0</td>\n",
       "      <td>0.0</td>\n",
       "      <td>0.0</td>\n",
       "    </tr>\n",
       "    <tr>\n",
       "      <th>2</th>\n",
       "      <td>0.0</td>\n",
       "      <td>0.0</td>\n",
       "      <td>0.0</td>\n",
       "      <td>0.0</td>\n",
       "      <td>0.0</td>\n",
       "      <td>0.0</td>\n",
       "      <td>0.0</td>\n",
       "      <td>0.0</td>\n",
       "      <td>0.0</td>\n",
       "      <td>0.0</td>\n",
       "      <td>...</td>\n",
       "      <td>0.0</td>\n",
       "      <td>0.0</td>\n",
       "      <td>0.0</td>\n",
       "      <td>0.0</td>\n",
       "      <td>0.0</td>\n",
       "      <td>0.0</td>\n",
       "      <td>0.0</td>\n",
       "      <td>0.0</td>\n",
       "      <td>0.0</td>\n",
       "      <td>0.0</td>\n",
       "    </tr>\n",
       "    <tr>\n",
       "      <th>3</th>\n",
       "      <td>0.0</td>\n",
       "      <td>0.0</td>\n",
       "      <td>0.0</td>\n",
       "      <td>0.0</td>\n",
       "      <td>0.0</td>\n",
       "      <td>0.0</td>\n",
       "      <td>0.0</td>\n",
       "      <td>0.0</td>\n",
       "      <td>0.0</td>\n",
       "      <td>0.0</td>\n",
       "      <td>...</td>\n",
       "      <td>0.0</td>\n",
       "      <td>0.0</td>\n",
       "      <td>0.0</td>\n",
       "      <td>0.0</td>\n",
       "      <td>0.0</td>\n",
       "      <td>0.0</td>\n",
       "      <td>0.0</td>\n",
       "      <td>0.0</td>\n",
       "      <td>0.0</td>\n",
       "      <td>0.0</td>\n",
       "    </tr>\n",
       "    <tr>\n",
       "      <th>4</th>\n",
       "      <td>0.0</td>\n",
       "      <td>0.0</td>\n",
       "      <td>0.0</td>\n",
       "      <td>0.0</td>\n",
       "      <td>0.0</td>\n",
       "      <td>0.0</td>\n",
       "      <td>0.0</td>\n",
       "      <td>0.0</td>\n",
       "      <td>0.0</td>\n",
       "      <td>0.0</td>\n",
       "      <td>...</td>\n",
       "      <td>0.0</td>\n",
       "      <td>0.0</td>\n",
       "      <td>0.0</td>\n",
       "      <td>0.0</td>\n",
       "      <td>0.0</td>\n",
       "      <td>0.0</td>\n",
       "      <td>0.0</td>\n",
       "      <td>0.0</td>\n",
       "      <td>0.0</td>\n",
       "      <td>0.0</td>\n",
       "    </tr>\n",
       "  </tbody>\n",
       "</table>\n",
       "<p>5 rows × 38293 columns</p>\n",
       "</div>"
      ],
      "text/plain": [
       "    00  000  0000  000000  000000000032  00000ooooooo  000k  004  0042360  \\\n",
       "0  0.0  0.0   0.0     0.0           0.0           0.0   0.0  0.0      0.0   \n",
       "1  0.0  0.0   0.0     0.0           0.0           0.0   0.0  0.0      0.0   \n",
       "2  0.0  0.0   0.0     0.0           0.0           0.0   0.0  0.0      0.0   \n",
       "3  0.0  0.0   0.0     0.0           0.0           0.0   0.0  0.0      0.0   \n",
       "4  0.0  0.0   0.0     0.0           0.0           0.0   0.0  0.0      0.0   \n",
       "\n",
       "   0066_lhc  ...   𝚘𝚏   𝚘𝚗   𝚘𝚛  𝚛𝚎𝚊𝚍𝚢  𝚝𝚑𝚎   𝚝𝚘  𝚢𝚘𝚞  𝟏𝐝𝐚𝐲𝐬  𝟐𝐧𝐝   𝟸𝟶  \n",
       "0       0.0  ...  0.0  0.0  0.0    0.0  0.0  0.0  0.0    0.0  0.0  0.0  \n",
       "1       0.0  ...  0.0  0.0  0.0    0.0  0.0  0.0  0.0    0.0  0.0  0.0  \n",
       "2       0.0  ...  0.0  0.0  0.0    0.0  0.0  0.0  0.0    0.0  0.0  0.0  \n",
       "3       0.0  ...  0.0  0.0  0.0    0.0  0.0  0.0  0.0    0.0  0.0  0.0  \n",
       "4       0.0  ...  0.0  0.0  0.0    0.0  0.0  0.0  0.0    0.0  0.0  0.0  \n",
       "\n",
       "[5 rows x 38293 columns]"
      ]
     },
     "execution_count": 18,
     "metadata": {},
     "output_type": "execute_result"
    }
   ],
   "source": [
    "vectordf_tfidf.head()"
   ]
  },
  {
   "cell_type": "code",
   "execution_count": 19,
   "id": "9c99c819",
   "metadata": {},
   "outputs": [
    {
     "data": {
      "text/plain": [
       "(11153, 38293)"
      ]
     },
     "execution_count": 19,
     "metadata": {},
     "output_type": "execute_result"
    }
   ],
   "source": [
    "vectordf_tfidf.shape"
   ]
  },
  {
   "cell_type": "markdown",
   "id": "17e518c7",
   "metadata": {},
   "source": [
    "### Let's examine the term weights from the tfidx matrix"
   ]
  },
  {
   "cell_type": "code",
   "execution_count": 20,
   "id": "16a90647",
   "metadata": {},
   "outputs": [],
   "source": [
    "#Transpose so the rows are the terms and the columns are the counts in each document\n",
    "td_tfidf = vectordf_tfidf.T"
   ]
  },
  {
   "cell_type": "code",
   "execution_count": 21,
   "id": "af346472",
   "metadata": {
    "scrolled": true
   },
   "outputs": [
    {
     "data": {
      "text/html": [
       "<div>\n",
       "<style scoped>\n",
       "    .dataframe tbody tr th:only-of-type {\n",
       "        vertical-align: middle;\n",
       "    }\n",
       "\n",
       "    .dataframe tbody tr th {\n",
       "        vertical-align: top;\n",
       "    }\n",
       "\n",
       "    .dataframe thead th {\n",
       "        text-align: right;\n",
       "    }\n",
       "</style>\n",
       "<table border=\"1\" class=\"dataframe\">\n",
       "  <thead>\n",
       "    <tr style=\"text-align: right;\">\n",
       "      <th></th>\n",
       "      <th>0</th>\n",
       "      <th>1</th>\n",
       "      <th>2</th>\n",
       "      <th>3</th>\n",
       "      <th>4</th>\n",
       "      <th>5</th>\n",
       "      <th>6</th>\n",
       "      <th>7</th>\n",
       "      <th>8</th>\n",
       "      <th>9</th>\n",
       "      <th>...</th>\n",
       "      <th>11143</th>\n",
       "      <th>11144</th>\n",
       "      <th>11145</th>\n",
       "      <th>11146</th>\n",
       "      <th>11147</th>\n",
       "      <th>11148</th>\n",
       "      <th>11149</th>\n",
       "      <th>11150</th>\n",
       "      <th>11151</th>\n",
       "      <th>11152</th>\n",
       "    </tr>\n",
       "  </thead>\n",
       "  <tbody>\n",
       "    <tr>\n",
       "      <th>00</th>\n",
       "      <td>0.0</td>\n",
       "      <td>0.0</td>\n",
       "      <td>0.0</td>\n",
       "      <td>0.0</td>\n",
       "      <td>0.0</td>\n",
       "      <td>0.0</td>\n",
       "      <td>0.0</td>\n",
       "      <td>0.000000</td>\n",
       "      <td>0.0</td>\n",
       "      <td>0.0</td>\n",
       "      <td>...</td>\n",
       "      <td>0.0</td>\n",
       "      <td>0.0</td>\n",
       "      <td>0.0</td>\n",
       "      <td>0.0</td>\n",
       "      <td>0.0</td>\n",
       "      <td>0.0</td>\n",
       "      <td>0.0</td>\n",
       "      <td>0.0</td>\n",
       "      <td>0.0</td>\n",
       "      <td>0.0</td>\n",
       "    </tr>\n",
       "    <tr>\n",
       "      <th>000</th>\n",
       "      <td>0.0</td>\n",
       "      <td>0.0</td>\n",
       "      <td>0.0</td>\n",
       "      <td>0.0</td>\n",
       "      <td>0.0</td>\n",
       "      <td>0.0</td>\n",
       "      <td>0.0</td>\n",
       "      <td>0.493207</td>\n",
       "      <td>0.0</td>\n",
       "      <td>0.0</td>\n",
       "      <td>...</td>\n",
       "      <td>0.0</td>\n",
       "      <td>0.0</td>\n",
       "      <td>0.0</td>\n",
       "      <td>0.0</td>\n",
       "      <td>0.0</td>\n",
       "      <td>0.0</td>\n",
       "      <td>0.0</td>\n",
       "      <td>0.0</td>\n",
       "      <td>0.0</td>\n",
       "      <td>0.0</td>\n",
       "    </tr>\n",
       "    <tr>\n",
       "      <th>0000</th>\n",
       "      <td>0.0</td>\n",
       "      <td>0.0</td>\n",
       "      <td>0.0</td>\n",
       "      <td>0.0</td>\n",
       "      <td>0.0</td>\n",
       "      <td>0.0</td>\n",
       "      <td>0.0</td>\n",
       "      <td>0.000000</td>\n",
       "      <td>0.0</td>\n",
       "      <td>0.0</td>\n",
       "      <td>...</td>\n",
       "      <td>0.0</td>\n",
       "      <td>0.0</td>\n",
       "      <td>0.0</td>\n",
       "      <td>0.0</td>\n",
       "      <td>0.0</td>\n",
       "      <td>0.0</td>\n",
       "      <td>0.0</td>\n",
       "      <td>0.0</td>\n",
       "      <td>0.0</td>\n",
       "      <td>0.0</td>\n",
       "    </tr>\n",
       "    <tr>\n",
       "      <th>000000</th>\n",
       "      <td>0.0</td>\n",
       "      <td>0.0</td>\n",
       "      <td>0.0</td>\n",
       "      <td>0.0</td>\n",
       "      <td>0.0</td>\n",
       "      <td>0.0</td>\n",
       "      <td>0.0</td>\n",
       "      <td>0.000000</td>\n",
       "      <td>0.0</td>\n",
       "      <td>0.0</td>\n",
       "      <td>...</td>\n",
       "      <td>0.0</td>\n",
       "      <td>0.0</td>\n",
       "      <td>0.0</td>\n",
       "      <td>0.0</td>\n",
       "      <td>0.0</td>\n",
       "      <td>0.0</td>\n",
       "      <td>0.0</td>\n",
       "      <td>0.0</td>\n",
       "      <td>0.0</td>\n",
       "      <td>0.0</td>\n",
       "    </tr>\n",
       "    <tr>\n",
       "      <th>000000000032</th>\n",
       "      <td>0.0</td>\n",
       "      <td>0.0</td>\n",
       "      <td>0.0</td>\n",
       "      <td>0.0</td>\n",
       "      <td>0.0</td>\n",
       "      <td>0.0</td>\n",
       "      <td>0.0</td>\n",
       "      <td>0.000000</td>\n",
       "      <td>0.0</td>\n",
       "      <td>0.0</td>\n",
       "      <td>...</td>\n",
       "      <td>0.0</td>\n",
       "      <td>0.0</td>\n",
       "      <td>0.0</td>\n",
       "      <td>0.0</td>\n",
       "      <td>0.0</td>\n",
       "      <td>0.0</td>\n",
       "      <td>0.0</td>\n",
       "      <td>0.0</td>\n",
       "      <td>0.0</td>\n",
       "      <td>0.0</td>\n",
       "    </tr>\n",
       "  </tbody>\n",
       "</table>\n",
       "<p>5 rows × 11153 columns</p>\n",
       "</div>"
      ],
      "text/plain": [
       "              0      1      2      3      4      5      6         7      \\\n",
       "00              0.0    0.0    0.0    0.0    0.0    0.0    0.0  0.000000   \n",
       "000             0.0    0.0    0.0    0.0    0.0    0.0    0.0  0.493207   \n",
       "0000            0.0    0.0    0.0    0.0    0.0    0.0    0.0  0.000000   \n",
       "000000          0.0    0.0    0.0    0.0    0.0    0.0    0.0  0.000000   \n",
       "000000000032    0.0    0.0    0.0    0.0    0.0    0.0    0.0  0.000000   \n",
       "\n",
       "              8      9      ...  11143  11144  11145  11146  11147  11148  \\\n",
       "00              0.0    0.0  ...    0.0    0.0    0.0    0.0    0.0    0.0   \n",
       "000             0.0    0.0  ...    0.0    0.0    0.0    0.0    0.0    0.0   \n",
       "0000            0.0    0.0  ...    0.0    0.0    0.0    0.0    0.0    0.0   \n",
       "000000          0.0    0.0  ...    0.0    0.0    0.0    0.0    0.0    0.0   \n",
       "000000000032    0.0    0.0  ...    0.0    0.0    0.0    0.0    0.0    0.0   \n",
       "\n",
       "              11149  11150  11151  11152  \n",
       "00              0.0    0.0    0.0    0.0  \n",
       "000             0.0    0.0    0.0    0.0  \n",
       "0000            0.0    0.0    0.0    0.0  \n",
       "000000          0.0    0.0    0.0    0.0  \n",
       "000000000032    0.0    0.0    0.0    0.0  \n",
       "\n",
       "[5 rows x 11153 columns]"
      ]
     },
     "execution_count": 21,
     "metadata": {},
     "output_type": "execute_result"
    }
   ],
   "source": [
    "td_tfidf.head()"
   ]
  },
  {
   "cell_type": "code",
   "execution_count": 22,
   "id": "bd77d6c9",
   "metadata": {},
   "outputs": [
    {
     "data": {
      "text/plain": [
       "(38293, 11153)"
      ]
     },
     "execution_count": 22,
     "metadata": {},
     "output_type": "execute_result"
    }
   ],
   "source": [
    "td_tfidf.shape"
   ]
  },
  {
   "cell_type": "code",
   "execution_count": 23,
   "id": "fd6b5947",
   "metadata": {},
   "outputs": [
    {
     "data": {
      "image/png": "[encoded data removed]",
      "text/plain": [
       "<Figure size 640x480 with 1 Axes>"
      ]
     },
     "metadata": {},
     "output_type": "display_data"
    }
   ],
   "source": [
    "import matplotlib.pyplot as plt\n",
    "unsortedWeights = td_tfidf.mean(axis=1)\n",
    "\n",
    "#Plot the distribution\n",
    "plt.plot(sorted(unsortedWeights, reverse = True))\n",
    "plt.xlabel('Terms')\n",
    "plt.ylabel('Average Weight')\n",
    "plt.show()"
   ]
  },
  {
   "cell_type": "code",
   "execution_count": 24,
   "id": "d847c06f",
   "metadata": {},
   "outputs": [
    {
     "data": {
      "text/plain": [
       "rt           0.037159\n",
       "https        0.033812\n",
       "like         0.009851\n",
       "just         0.007738\n",
       "amp          0.007168\n",
       "               ...   \n",
       "fuck         0.001632\n",
       "elonmusk     0.001621\n",
       "trump        0.001605\n",
       "song         0.001583\n",
       "literally    0.001582\n",
       "Length: 100, dtype: float64"
      ]
     },
     "execution_count": 24,
     "metadata": {},
     "output_type": "execute_result"
    }
   ],
   "source": [
    "#Let's see what the weights look like based on the word.\n",
    "unsortedWeights.sort_values(inplace = True, ascending = False)\n",
    "unsortedWeights.head(100)"
   ]
  },
  {
   "cell_type": "markdown",
   "id": "f2a014b3",
   "metadata": {},
   "source": [
    "### Because the weights drop off signifcantly, let's limit our terms to only the top 100 weighted words. This will help with processesing."
   ]
  },
  {
   "cell_type": "code",
   "execution_count": null,
   "id": "a8f2d0c4",
   "metadata": {},
   "outputs": [],
   "source": []
  },
  {
   "cell_type": "markdown",
   "id": "0f510fb0",
   "metadata": {},
   "source": [
    "## We have 2 x-variable matricies we will be analyzing:\n",
    "\n",
    "1. vectordf_spacy = spaCy vectorized text matrix\n",
    "2. vectordf_tfidf = tfidf matrix from Scikit Learn"
   ]
  },
  {
   "cell_type": "code",
   "execution_count": 25,
   "id": "856be037",
   "metadata": {},
   "outputs": [
    {
     "data": {
      "text/plain": [
       "(11153, 96)"
      ]
     },
     "execution_count": 25,
     "metadata": {},
     "output_type": "execute_result"
    }
   ],
   "source": [
    "vectordf_spacy.shape"
   ]
  },
  {
   "cell_type": "code",
   "execution_count": 26,
   "id": "9be59e7c",
   "metadata": {},
   "outputs": [
    {
     "data": {
      "text/plain": [
       "(11153, 38293)"
      ]
     },
     "execution_count": 26,
     "metadata": {},
     "output_type": "execute_result"
    }
   ],
   "source": [
    "vectordf_tfidf.shape"
   ]
  },
  {
   "cell_type": "code",
   "execution_count": 27,
   "id": "348f5cfa",
   "metadata": {},
   "outputs": [],
   "source": [
    "## And 1 y-variable array"
   ]
  },
  {
   "cell_type": "code",
   "execution_count": 28,
   "id": "13acb6b3",
   "metadata": {},
   "outputs": [
    {
     "data": {
      "text/plain": [
       "(11153, 1)"
      ]
     },
     "execution_count": 28,
     "metadata": {},
     "output_type": "execute_result"
    }
   ],
   "source": [
    "target.shape"
   ]
  },
  {
   "cell_type": "code",
   "execution_count": 29,
   "id": "7450e73e",
   "metadata": {},
   "outputs": [],
   "source": [
    "# Split each dataset into train and test sets\n",
    "from sklearn.model_selection import train_test_split\n",
    "\n",
    "spacyX_train, spacyX_test = train_test_split(vectordf_spacy, test_size=0.2, random_state=111)\n",
    "tfidfX_train, tfidfX_test = train_test_split(vectordf_tfidf, test_size=0.2, random_state=111)\n",
    "y_train, y_test = train_test_split(target, test_size=0.2, random_state=111)"
   ]
  },
  {
   "cell_type": "code",
   "execution_count": 30,
   "id": "5b69675e",
   "metadata": {},
   "outputs": [
    {
     "data": {
      "text/html": [
       "<div>\n",
       "<style scoped>\n",
       "    .dataframe tbody tr th:only-of-type {\n",
       "        vertical-align: middle;\n",
       "    }\n",
       "\n",
       "    .dataframe tbody tr th {\n",
       "        vertical-align: top;\n",
       "    }\n",
       "\n",
       "    .dataframe thead th {\n",
       "        text-align: right;\n",
       "    }\n",
       "</style>\n",
       "<table border=\"1\" class=\"dataframe\">\n",
       "  <thead>\n",
       "    <tr style=\"text-align: right;\">\n",
       "      <th></th>\n",
       "      <th>deleteReason</th>\n",
       "    </tr>\n",
       "  </thead>\n",
       "  <tbody>\n",
       "    <tr>\n",
       "      <th>4372</th>\n",
       "      <td>0</td>\n",
       "    </tr>\n",
       "    <tr>\n",
       "      <th>9255</th>\n",
       "      <td>0</td>\n",
       "    </tr>\n",
       "    <tr>\n",
       "      <th>2858</th>\n",
       "      <td>0</td>\n",
       "    </tr>\n",
       "    <tr>\n",
       "      <th>9806</th>\n",
       "      <td>0</td>\n",
       "    </tr>\n",
       "    <tr>\n",
       "      <th>8307</th>\n",
       "      <td>0</td>\n",
       "    </tr>\n",
       "  </tbody>\n",
       "</table>\n",
       "</div>"
      ],
      "text/plain": [
       "      deleteReason\n",
       "4372             0\n",
       "9255             0\n",
       "2858             0\n",
       "9806             0\n",
       "8307             0"
      ]
     },
     "execution_count": 30,
     "metadata": {},
     "output_type": "execute_result"
    }
   ],
   "source": [
    "y_test.head()"
   ]
  },
  {
   "cell_type": "markdown",
   "id": "382f1601",
   "metadata": {},
   "source": [
    "### Model 1: Custom KNN Search"
   ]
  },
  {
   "cell_type": "code",
   "execution_count": 31,
   "id": "e870badb",
   "metadata": {},
   "outputs": [],
   "source": [
    "def knn_search(x, D, K):\n",
    "    \"\"\" find K nearest neighbors of an instance x among the instances in D using cosine similarity \"\"\"\n",
    "    # first find the vector norm for each instance in D as wel as the norm for vector x\n",
    "    D_norm = np.array([np.linalg.norm(D[i]) for i in range(len(D))])\n",
    "    x_norm = np.linalg.norm(x)\n",
    "    # Compute Cosine: divide the dot product o x and each instance in D by the product of the two norms\n",
    "    sims = np.dot(D,x)/(D_norm * x_norm)\n",
    "    # The distance measure will be the inverse of Cosine similarity\n",
    "    dists = 1 - sims\n",
    "    idx = np.argsort(dists) # sorting\n",
    "    # return the indexes of K nearest neighbors\n",
    "    return idx[:K], dists\n",
    "\n",
    "def knn_classify(x, D, K, labels):\n",
    "    from collections import Counter\n",
    "    neigh_idx, distances = knn_search(x, D, K)\n",
    "    neigh_labels = labels[neigh_idx]\n",
    "    count = Counter(neigh_labels)\n",
    "    predicted_label = count.most_common(1)[0][0]\n",
    "    return neigh_idx, predicted_label\n",
    "\n",
    "def knn_evaluate(testdata, test_labs, traindata, train_labs, K):\n",
    "    \"\"\" evaluate knn classifier predictions \"\"\"\n",
    "    T=0 # no. of correctly classified instances\n",
    "    F=0 # no. of incorrectly classified instances\n",
    "    for i in range(len(testdata)):\n",
    "        actual=test_labs[i]\n",
    "        top_K_neighbors, predicted = knn_classify(testdata[i], traindata, K, train_labs)\n",
    "        if actual == predicted:\n",
    "            T += 1       \n",
    "        else:\n",
    "            F += 1     \n",
    "    accuracy = float(T)/float(T+F) \n",
    "    return accuracy"
   ]
  },
  {
   "cell_type": "code",
   "execution_count": 32,
   "id": "85ff877d",
   "metadata": {},
   "outputs": [],
   "source": [
    "#prep for KNN Classifier\n",
    "\n",
    "#spacy matrices\n",
    "spacyX_train_a = np.array(spacyX_train)\n",
    "spacyX_test_a = np.array(spacyX_test)\n",
    "\n",
    "#tf idf matricies\n",
    "tfidfX_train_a = np.array(tfidfX_train)\n",
    "tfidfX_test_a = np.array(tfidfX_test)\n",
    "\n",
    "#tfidf matricies\n",
    "y_train_a = np.array(y_train).flatten()\n",
    "y_test_a = np.array(y_test).flatten()"
   ]
  },
  {
   "cell_type": "code",
   "execution_count": 33,
   "id": "a69bf517",
   "metadata": {},
   "outputs": [
    {
     "data": {
      "text/plain": [
       "0.8951142985208427"
      ]
     },
     "execution_count": 33,
     "metadata": {},
     "output_type": "execute_result"
    }
   ],
   "source": [
    "knn_evaluate(spacyX_test_a, y_test_a, spacyX_train_a, y_train_a, 10)"
   ]
  },
  {
   "cell_type": "code",
   "execution_count": 34,
   "id": "b9c5508e",
   "metadata": {},
   "outputs": [
    {
     "name": "stderr",
     "output_type": "stream",
     "text": [
      "C:\\Users\\madec\\AppData\\Local\\Temp\\ipykernel_20008\\333066813.py:7: RuntimeWarning: invalid value encountered in divide\n",
      "  sims = np.dot(D,x)/(D_norm * x_norm)\n"
     ]
    },
    {
     "data": {
      "text/plain": [
       "0.9296279695203944"
      ]
     },
     "execution_count": 34,
     "metadata": {},
     "output_type": "execute_result"
    }
   ],
   "source": [
    "knn_evaluate(tfidfX_test_a, y_test_a, tfidfX_train_a, y_train_a, 10)"
   ]
  },
  {
   "cell_type": "markdown",
   "id": "ff473b91",
   "metadata": {},
   "source": [
    "### Those models took quite a long time to run, and the accuracy is not much better than just predicting 0s across the board.\n",
    "\n",
    "### \n",
    "\n",
    "### Let's run Principle Component Analysis on the datasets to see if we can reduce the features and make better predicitons"
   ]
  },
  {
   "cell_type": "code",
   "execution_count": 35,
   "id": "c0105e48",
   "metadata": {},
   "outputs": [],
   "source": [
    "from sklearn.decomposition import PCA\n",
    "from sklearn.preprocessing import StandardScaler"
   ]
  },
  {
   "cell_type": "code",
   "execution_count": 36,
   "id": "86d67a8e",
   "metadata": {},
   "outputs": [],
   "source": [
    "# Standardizing the features\n",
    "scaler = StandardScaler()\n",
    "\n",
    "spacyX_scaled = scaler.fit_transform(vectordf_spacy)\n",
    "tfidfX_scaled = scaler.fit_transform(vectordf_tfidf)"
   ]
  },
  {
   "cell_type": "markdown",
   "id": "5eefff49",
   "metadata": {},
   "source": [
    "### spaCy PCA"
   ]
  },
  {
   "cell_type": "code",
   "execution_count": 37,
   "id": "ef3bfb92",
   "metadata": {},
   "outputs": [],
   "source": [
    "pca = PCA(n_components=96)\n",
    "\n",
    "spacy_principal_components = pca.fit_transform(spacyX_scaled)"
   ]
  },
  {
   "cell_type": "code",
   "execution_count": 38,
   "id": "9d0af319",
   "metadata": {},
   "outputs": [
    {
     "name": "stdout",
     "output_type": "stream",
     "text": [
      "[1.41554639e-01 6.70520589e-02 6.00956716e-02 4.22935039e-02\n",
      " 3.83975282e-02 3.23254503e-02 2.86551137e-02 2.65214052e-02\n",
      " 2.53401957e-02 2.44394746e-02 2.33242232e-02 2.11428814e-02\n",
      " 1.99616477e-02 1.78470854e-02 1.75723936e-02 1.65352505e-02\n",
      " 1.60217285e-02 1.53011065e-02 1.41936811e-02 1.37610324e-02\n",
      " 1.27557805e-02 1.21998508e-02 1.12805059e-02 1.04361605e-02\n",
      " 1.00525720e-02 9.80062224e-03 9.57924500e-03 8.94897524e-03\n",
      " 8.32988322e-03 8.21186043e-03 8.00739415e-03 7.60718342e-03\n",
      " 7.40227988e-03 7.25218887e-03 7.11507723e-03 6.95700664e-03\n",
      " 6.62376871e-03 6.44608028e-03 6.32576831e-03 5.81529224e-03\n",
      " 5.69963781e-03 5.37349330e-03 5.16745681e-03 5.07937605e-03\n",
      " 5.03947772e-03 4.90447646e-03 4.75544017e-03 4.74241795e-03\n",
      " 4.70657554e-03 4.42997832e-03 4.39059548e-03 4.19979217e-03\n",
      " 4.06076061e-03 4.02963907e-03 3.87251214e-03 3.80692538e-03\n",
      " 3.63514922e-03 3.59677197e-03 3.51579487e-03 3.34743340e-03\n",
      " 3.33978422e-03 3.26489774e-03 3.08084115e-03 3.00867064e-03\n",
      " 2.96216621e-03 2.92442483e-03 2.87783565e-03 2.78954604e-03\n",
      " 2.70571280e-03 2.68275128e-03 2.64173932e-03 2.55762832e-03\n",
      " 2.54703523e-03 2.48841336e-03 2.37195357e-03 2.32832483e-03\n",
      " 2.29295203e-03 2.24668090e-03 2.16478831e-03 2.09097192e-03\n",
      " 2.03323620e-03 2.01262604e-03 1.93879649e-03 1.87594455e-03\n",
      " 1.86012173e-03 1.73485419e-03 1.67886796e-03 1.63509219e-03\n",
      " 1.61864108e-03 1.54055341e-03 1.48773089e-03 1.42671575e-03\n",
      " 1.36188732e-03 1.30023493e-03 1.16962951e-03 1.20700599e-04]\n"
     ]
    }
   ],
   "source": [
    "explained_variance = pca.explained_variance_ratio_\n",
    "print(explained_variance)"
   ]
  },
  {
   "cell_type": "code",
   "execution_count": 39,
   "id": "f682fd3b",
   "metadata": {},
   "outputs": [
    {
     "data": {
      "image/png": "[encoded data removed]",
      "text/plain": [
       "<Figure size 640x480 with 1 Axes>"
      ]
     },
     "metadata": {},
     "output_type": "display_data"
    }
   ],
   "source": [
    "import matplotlib.pyplot as plt\n",
    "\n",
    "plt.plot(range(1, 97), pca.explained_variance_ratio_.cumsum(), marker='o', linestyle='--')\n",
    "plt.title('Explained Variance by Components - spaCy')\n",
    "plt.xlabel('Number of Components')\n",
    "plt.ylabel('Cumulative Explained Variance')\n",
    "plt.gca().invert_yaxis()\n",
    "plt.show()"
   ]
  },
  {
   "cell_type": "markdown",
   "id": "20114c92",
   "metadata": {},
   "source": [
    "### There is not really a significant elbow in the chart. Let's see how tfidf looks\n",
    "\n",
    "### \n",
    "\n",
    "### TFIDF matrix has over 38k features. Per our earlier analysis, it looked like there was a drop of in weights at around 100."
   ]
  },
  {
   "cell_type": "code",
   "execution_count": 40,
   "id": "1fcb461c",
   "metadata": {},
   "outputs": [],
   "source": [
    "pca = PCA(n_components=100)\n",
    "\n",
    "tfidf_principal_components = pca.fit_transform(tfidfX_scaled)"
   ]
  },
  {
   "cell_type": "code",
   "execution_count": 41,
   "id": "aa905e62",
   "metadata": {},
   "outputs": [
    {
     "data": {
      "image/png": "[encoded data removed]",
      "text/plain": [
       "<Figure size 640x480 with 1 Axes>"
      ]
     },
     "metadata": {},
     "output_type": "display_data"
    }
   ],
   "source": [
    "plt.plot(range(1, 101), pca.explained_variance_ratio_.cumsum(), marker='o', linestyle='--')\n",
    "plt.title('Explained Variance by Components - tfidf')\n",
    "plt.xlabel('Number of Components')\n",
    "plt.ylabel('Cumulative Explained Variance')\n",
    "plt.gca().invert_yaxis()\n",
    "plt.show()"
   ]
  },
  {
   "cell_type": "markdown",
   "id": "13e661cf",
   "metadata": {},
   "source": [
    "### One can argue that there is a slight elbow somewhere around 10."
   ]
  },
  {
   "cell_type": "code",
   "execution_count": 42,
   "id": "eb498bfb",
   "metadata": {},
   "outputs": [],
   "source": [
    "spacy_pca = PCA(n_components=10)\n",
    "spacy_principal_components = spacy_pca.fit_transform(spacyX_scaled)\n",
    "\n",
    "tfidf_pca = PCA(n_components=10)\n",
    "tfidf_principal_components = tfidf_pca.fit_transform(tfidfX_scaled)\n",
    "\n",
    "spacy_pca_df = pd.DataFrame(data=spacy_principal_components)\n",
    "tfidf_pca_df = pd.DataFrame(data=tfidf_principal_components)"
   ]
  },
  {
   "cell_type": "code",
   "execution_count": 43,
   "id": "dfbcca68",
   "metadata": {},
   "outputs": [
    {
     "data": {
      "text/plain": [
       "(11153, 10)"
      ]
     },
     "execution_count": 43,
     "metadata": {},
     "output_type": "execute_result"
    }
   ],
   "source": [
    "spacy_pca_df.shape"
   ]
  },
  {
   "cell_type": "code",
   "execution_count": 44,
   "id": "7bee28f2",
   "metadata": {},
   "outputs": [
    {
     "data": {
      "text/plain": [
       "(11153, 10)"
      ]
     },
     "execution_count": 44,
     "metadata": {},
     "output_type": "execute_result"
    }
   ],
   "source": [
    "tfidf_pca_df.shape"
   ]
  },
  {
   "cell_type": "code",
   "execution_count": 45,
   "id": "29a321d2",
   "metadata": {},
   "outputs": [],
   "source": [
    "spacyX_train_pca, spacyX_test_pca = train_test_split(spacy_pca_df, test_size=0.2, random_state=111)\n",
    "tfidfX_train_pca, tfidfX_test_pca = train_test_split(tfidf_pca_df, test_size=0.2, random_state=111)"
   ]
  },
  {
   "cell_type": "code",
   "execution_count": 46,
   "id": "7ebfbbdc",
   "metadata": {},
   "outputs": [],
   "source": [
    "#prep for KNN Classifier\n",
    "\n",
    "#spacy matrices\n",
    "spacyX_train_pca_a = np.array(spacyX_train_pca)\n",
    "spacyX_test_pca_a = np.array(spacyX_test_pca)\n",
    "\n",
    "#tf idf matricies\n",
    "tfidfX_train_pca_a = np.array(tfidfX_train_pca)\n",
    "tfidfX_test_pca = np.array(tfidfX_test_pca)"
   ]
  },
  {
   "cell_type": "code",
   "execution_count": 47,
   "id": "a7585bf3",
   "metadata": {},
   "outputs": [
    {
     "data": {
      "text/plain": [
       "0.8982519049753473"
      ]
     },
     "execution_count": 47,
     "metadata": {},
     "output_type": "execute_result"
    }
   ],
   "source": [
    "knn_evaluate(spacyX_test_pca_a, y_test_a, spacyX_train_pca_a, y_train_a, 10)"
   ]
  },
  {
   "cell_type": "code",
   "execution_count": 48,
   "id": "37c61391",
   "metadata": {},
   "outputs": [
    {
     "data": {
      "text/plain": [
       "0.9009412819363514"
      ]
     },
     "execution_count": 48,
     "metadata": {},
     "output_type": "execute_result"
    }
   ],
   "source": [
    "knn_evaluate(tfidfX_test_pca, y_test_a, tfidfX_train_pca_a, y_train_a, 10)"
   ]
  },
  {
   "cell_type": "markdown",
   "id": "d478ce66",
   "metadata": {},
   "source": [
    "### We lost some accuracy with the reduction in dimensions, but it ran a lot faster. Let's check the sci-kit learn KNN model to see if there is any improvement there, and let's generate a confusion matrix"
   ]
  },
  {
   "cell_type": "markdown",
   "id": "915441ca",
   "metadata": {},
   "source": [
    "# Model 2 - Sci-kit Learn KNN Classifier After PCA"
   ]
  },
  {
   "cell_type": "code",
   "execution_count": 49,
   "id": "d1fddc56",
   "metadata": {},
   "outputs": [],
   "source": [
    "from sklearn import neighbors, tree, naive_bayes"
   ]
  },
  {
   "cell_type": "code",
   "execution_count": 50,
   "id": "1e36de69",
   "metadata": {},
   "outputs": [
    {
     "name": "stderr",
     "output_type": "stream",
     "text": [
      "C:\\Users\\madec\\anaconda3\\lib\\site-packages\\sklearn\\neighbors\\_classification.py:215: DataConversionWarning: A column-vector y was passed when a 1d array was expected. Please change the shape of y to (n_samples,), for example using ravel().\n",
      "  return self._fit(X, y)\n",
      "C:\\Users\\madec\\anaconda3\\lib\\site-packages\\sklearn\\neighbors\\_classification.py:215: DataConversionWarning: A column-vector y was passed when a 1d array was expected. Please change the shape of y to (n_samples,), for example using ravel().\n",
      "  return self._fit(X, y)\n"
     ]
    },
    {
     "data": {
      "text/html": [
       "<style>#sk-container-id-1 {color: black;background-color: white;}#sk-container-id-1 pre{padding: 0;}#sk-container-id-1 div.sk-toggleable {background-color: white;}#sk-container-id-1 label.sk-toggleable__label {cursor: pointer;display: block;width: 100%;margin-bottom: 0;padding: 0.3em;box-sizing: border-box;text-align: center;}#sk-container-id-1 label.sk-toggleable__label-arrow:before {content: \"▸\";float: left;margin-right: 0.25em;color: #696969;}#sk-container-id-1 label.sk-toggleable__label-arrow:hover:before {color: black;}#sk-container-id-1 div.sk-estimator:hover label.sk-toggleable__label-arrow:before {color: black;}#sk-container-id-1 div.sk-toggleable__content {max-height: 0;max-width: 0;overflow: hidden;text-align: left;background-color: #f0f8ff;}#sk-container-id-1 div.sk-toggleable__content pre {margin: 0.2em;color: black;border-radius: 0.25em;background-color: #f0f8ff;}#sk-container-id-1 input.sk-toggleable__control:checked~div.sk-toggleable__content {max-height: 200px;max-width: 100%;overflow: auto;}#sk-container-id-1 input.sk-toggleable__control:checked~label.sk-toggleable__label-arrow:before {content: \"▾\";}#sk-container-id-1 div.sk-estimator input.sk-toggleable__control:checked~label.sk-toggleable__label {background-color: #d4ebff;}#sk-container-id-1 div.sk-label input.sk-toggleable__control:checked~label.sk-toggleable__label {background-color: #d4ebff;}#sk-container-id-1 input.sk-hidden--visually {border: 0;clip: rect(1px 1px 1px 1px);clip: rect(1px, 1px, 1px, 1px);height: 1px;margin: -1px;overflow: hidden;padding: 0;position: absolute;width: 1px;}#sk-container-id-1 div.sk-estimator {font-family: monospace;background-color: #f0f8ff;border: 1px dotted black;border-radius: 0.25em;box-sizing: border-box;margin-bottom: 0.5em;}#sk-container-id-1 div.sk-estimator:hover {background-color: #d4ebff;}#sk-container-id-1 div.sk-parallel-item::after {content: \"\";width: 100%;border-bottom: 1px solid gray;flex-grow: 1;}#sk-container-id-1 div.sk-label:hover label.sk-toggleable__label {background-color: #d4ebff;}#sk-container-id-1 div.sk-serial::before {content: \"\";position: absolute;border-left: 1px solid gray;box-sizing: border-box;top: 0;bottom: 0;left: 50%;z-index: 0;}#sk-container-id-1 div.sk-serial {display: flex;flex-direction: column;align-items: center;background-color: white;padding-right: 0.2em;padding-left: 0.2em;position: relative;}#sk-container-id-1 div.sk-item {position: relative;z-index: 1;}#sk-container-id-1 div.sk-parallel {display: flex;align-items: stretch;justify-content: center;background-color: white;position: relative;}#sk-container-id-1 div.sk-item::before, #sk-container-id-1 div.sk-parallel-item::before {content: \"\";position: absolute;border-left: 1px solid gray;box-sizing: border-box;top: 0;bottom: 0;left: 50%;z-index: -1;}#sk-container-id-1 div.sk-parallel-item {display: flex;flex-direction: column;z-index: 1;position: relative;background-color: white;}#sk-container-id-1 div.sk-parallel-item:first-child::after {align-self: flex-end;width: 50%;}#sk-container-id-1 div.sk-parallel-item:last-child::after {align-self: flex-start;width: 50%;}#sk-container-id-1 div.sk-parallel-item:only-child::after {width: 0;}#sk-container-id-1 div.sk-dashed-wrapped {border: 1px dashed gray;margin: 0 0.4em 0.5em 0.4em;box-sizing: border-box;padding-bottom: 0.4em;background-color: white;}#sk-container-id-1 div.sk-label label {font-family: monospace;font-weight: bold;display: inline-block;line-height: 1.2em;}#sk-container-id-1 div.sk-label-container {text-align: center;}#sk-container-id-1 div.sk-container {/* jupyter's `normalize.less` sets `[hidden] { display: none; }` but bootstrap.min.css set `[hidden] { display: none !important; }` so we also need the `!important` here to be able to override the default hidden behavior on the sphinx rendered scikit-learn.org. See: https://github.com/scikit-learn/scikit-learn/issues/21755 */display: inline-block !important;position: relative;}#sk-container-id-1 div.sk-text-repr-fallback {display: none;}</style><div id=\"sk-container-id-1\" class=\"sk-top-container\"><div class=\"sk-text-repr-fallback\"><pre>KNeighborsClassifier(metric=&#x27;cosine&#x27;, n_neighbors=10, weights=&#x27;distance&#x27;)</pre><b>In a Jupyter environment, please rerun this cell to show the HTML representation or trust the notebook. <br />On GitHub, the HTML representation is unable to render, please try loading this page with nbviewer.org.</b></div><div class=\"sk-container\" hidden><div class=\"sk-item\"><div class=\"sk-estimator sk-toggleable\"><input class=\"sk-toggleable__control sk-hidden--visually\" id=\"sk-estimator-id-1\" type=\"checkbox\" checked><label for=\"sk-estimator-id-1\" class=\"sk-toggleable__label sk-toggleable__label-arrow\">KNeighborsClassifier</label><div class=\"sk-toggleable__content\"><pre>KNeighborsClassifier(metric=&#x27;cosine&#x27;, n_neighbors=10, weights=&#x27;distance&#x27;)</pre></div></div></div></div></div>"
      ],
      "text/plain": [
       "KNeighborsClassifier(metric='cosine', n_neighbors=10, weights='distance')"
      ]
     },
     "execution_count": 50,
     "metadata": {},
     "output_type": "execute_result"
    }
   ],
   "source": [
    "k_neighbors = 10\n",
    "\n",
    "spacy_knnclf = neighbors.KNeighborsClassifier(k_neighbors, weights='distance', metric = 'cosine')\n",
    "spacy_knnclf.fit(spacyX_train_pca, y_train)\n",
    "\n",
    "tfidf_knnclf = neighbors.KNeighborsClassifier(k_neighbors, weights='distance', metric = 'cosine')\n",
    "tfidf_knnclf.fit(tfidfX_train_pca, y_train)"
   ]
  },
  {
   "cell_type": "code",
   "execution_count": 51,
   "id": "3f8e0250",
   "metadata": {},
   "outputs": [],
   "source": [
    "spacy_knnpreds_train = spacy_knnclf.predict(spacyX_train_pca)\n",
    "spacy_knnpreds_test = spacy_knnclf.predict(spacyX_test_pca)\n",
    "\n",
    "tfidf_knnpreds_train = tfidf_knnclf.predict(tfidfX_train_pca)\n",
    "tfidf_knnpreds_test = tfidf_knnclf.predict(tfidfX_test_pca)"
   ]
  },
  {
   "cell_type": "code",
   "execution_count": 52,
   "id": "a29932c3",
   "metadata": {},
   "outputs": [
    {
     "name": "stdout",
     "output_type": "stream",
     "text": [
      "[1 0 0 ... 0 0 0]\n",
      "[0 0 0 ... 0 0 0]\n",
      "[1 0 0 ... 0 0 0]\n",
      "[0 0 0 ... 0 0 0]\n"
     ]
    }
   ],
   "source": [
    "print (spacy_knnpreds_train)\n",
    "print (spacy_knnpreds_test)\n",
    "\n",
    "print (tfidf_knnpreds_train)\n",
    "print (tfidf_knnpreds_test)"
   ]
  },
  {
   "cell_type": "code",
   "execution_count": 53,
   "id": "f938c827",
   "metadata": {},
   "outputs": [
    {
     "name": "stdout",
     "output_type": "stream",
     "text": [
      "1.0\n",
      "0.897355445988346\n"
     ]
    }
   ],
   "source": [
    "print(spacy_knnclf.score(spacyX_train_pca, y_train))\n",
    "print(spacy_knnclf.score(spacyX_test_pca, y_test))"
   ]
  },
  {
   "cell_type": "code",
   "execution_count": 54,
   "id": "be67d933",
   "metadata": {},
   "outputs": [
    {
     "name": "stdout",
     "output_type": "stream",
     "text": [
      "0.9998879175072853\n",
      "0.9000448229493501\n"
     ]
    }
   ],
   "source": [
    "print(tfidf_knnclf.score(tfidfX_train_pca, y_train))\n",
    "print(tfidf_knnclf.score(tfidfX_test_pca, y_test))"
   ]
  },
  {
   "cell_type": "markdown",
   "id": "f84eefbe",
   "metadata": {},
   "source": [
    "### We have a training accuracy of 100% - even when using only principle components. Let's assess different values of K to see if we can find avoid overfitting."
   ]
  },
  {
   "cell_type": "code",
   "execution_count": 55,
   "id": "c588cc43",
   "metadata": {},
   "outputs": [
    {
     "name": "stderr",
     "output_type": "stream",
     "text": [
      "C:\\Users\\madec\\anaconda3\\lib\\site-packages\\sklearn\\neighbors\\_classification.py:215: DataConversionWarning: A column-vector y was passed when a 1d array was expected. Please change the shape of y to (n_samples,), for example using ravel().\n",
      "  return self._fit(X, y)\n",
      "C:\\Users\\madec\\anaconda3\\lib\\site-packages\\sklearn\\neighbors\\_classification.py:215: DataConversionWarning: A column-vector y was passed when a 1d array was expected. Please change the shape of y to (n_samples,), for example using ravel().\n",
      "  return self._fit(X, y)\n",
      "C:\\Users\\madec\\anaconda3\\lib\\site-packages\\sklearn\\neighbors\\_classification.py:215: DataConversionWarning: A column-vector y was passed when a 1d array was expected. Please change the shape of y to (n_samples,), for example using ravel().\n",
      "  return self._fit(X, y)\n",
      "C:\\Users\\madec\\anaconda3\\lib\\site-packages\\sklearn\\neighbors\\_classification.py:215: DataConversionWarning: A column-vector y was passed when a 1d array was expected. Please change the shape of y to (n_samples,), for example using ravel().\n",
      "  return self._fit(X, y)\n",
      "C:\\Users\\madec\\anaconda3\\lib\\site-packages\\sklearn\\neighbors\\_classification.py:215: DataConversionWarning: A column-vector y was passed when a 1d array was expected. Please change the shape of y to (n_samples,), for example using ravel().\n",
      "  return self._fit(X, y)\n",
      "C:\\Users\\madec\\anaconda3\\lib\\site-packages\\sklearn\\neighbors\\_classification.py:215: DataConversionWarning: A column-vector y was passed when a 1d array was expected. Please change the shape of y to (n_samples,), for example using ravel().\n",
      "  return self._fit(X, y)\n",
      "C:\\Users\\madec\\anaconda3\\lib\\site-packages\\sklearn\\neighbors\\_classification.py:215: DataConversionWarning: A column-vector y was passed when a 1d array was expected. Please change the shape of y to (n_samples,), for example using ravel().\n",
      "  return self._fit(X, y)\n",
      "C:\\Users\\madec\\anaconda3\\lib\\site-packages\\sklearn\\neighbors\\_classification.py:215: DataConversionWarning: A column-vector y was passed when a 1d array was expected. Please change the shape of y to (n_samples,), for example using ravel().\n",
      "  return self._fit(X, y)\n",
      "C:\\Users\\madec\\anaconda3\\lib\\site-packages\\sklearn\\neighbors\\_classification.py:215: DataConversionWarning: A column-vector y was passed when a 1d array was expected. Please change the shape of y to (n_samples,), for example using ravel().\n",
      "  return self._fit(X, y)\n",
      "C:\\Users\\madec\\anaconda3\\lib\\site-packages\\sklearn\\neighbors\\_classification.py:215: DataConversionWarning: A column-vector y was passed when a 1d array was expected. Please change the shape of y to (n_samples,), for example using ravel().\n",
      "  return self._fit(X, y)\n",
      "C:\\Users\\madec\\anaconda3\\lib\\site-packages\\sklearn\\neighbors\\_classification.py:215: DataConversionWarning: A column-vector y was passed when a 1d array was expected. Please change the shape of y to (n_samples,), for example using ravel().\n",
      "  return self._fit(X, y)\n",
      "C:\\Users\\madec\\anaconda3\\lib\\site-packages\\sklearn\\neighbors\\_classification.py:215: DataConversionWarning: A column-vector y was passed when a 1d array was expected. Please change the shape of y to (n_samples,), for example using ravel().\n",
      "  return self._fit(X, y)\n",
      "C:\\Users\\madec\\anaconda3\\lib\\site-packages\\sklearn\\neighbors\\_classification.py:215: DataConversionWarning: A column-vector y was passed when a 1d array was expected. Please change the shape of y to (n_samples,), for example using ravel().\n",
      "  return self._fit(X, y)\n",
      "C:\\Users\\madec\\anaconda3\\lib\\site-packages\\sklearn\\neighbors\\_classification.py:215: DataConversionWarning: A column-vector y was passed when a 1d array was expected. Please change the shape of y to (n_samples,), for example using ravel().\n",
      "  return self._fit(X, y)\n",
      "C:\\Users\\madec\\anaconda3\\lib\\site-packages\\sklearn\\neighbors\\_classification.py:215: DataConversionWarning: A column-vector y was passed when a 1d array was expected. Please change the shape of y to (n_samples,), for example using ravel().\n",
      "  return self._fit(X, y)\n",
      "C:\\Users\\madec\\anaconda3\\lib\\site-packages\\sklearn\\neighbors\\_classification.py:215: DataConversionWarning: A column-vector y was passed when a 1d array was expected. Please change the shape of y to (n_samples,), for example using ravel().\n",
      "  return self._fit(X, y)\n",
      "C:\\Users\\madec\\anaconda3\\lib\\site-packages\\sklearn\\neighbors\\_classification.py:215: DataConversionWarning: A column-vector y was passed when a 1d array was expected. Please change the shape of y to (n_samples,), for example using ravel().\n",
      "  return self._fit(X, y)\n",
      "C:\\Users\\madec\\anaconda3\\lib\\site-packages\\sklearn\\neighbors\\_classification.py:215: DataConversionWarning: A column-vector y was passed when a 1d array was expected. Please change the shape of y to (n_samples,), for example using ravel().\n",
      "  return self._fit(X, y)\n",
      "C:\\Users\\madec\\anaconda3\\lib\\site-packages\\sklearn\\neighbors\\_classification.py:215: DataConversionWarning: A column-vector y was passed when a 1d array was expected. Please change the shape of y to (n_samples,), for example using ravel().\n",
      "  return self._fit(X, y)\n",
      "C:\\Users\\madec\\anaconda3\\lib\\site-packages\\sklearn\\neighbors\\_classification.py:215: DataConversionWarning: A column-vector y was passed when a 1d array was expected. Please change the shape of y to (n_samples,), for example using ravel().\n",
      "  return self._fit(X, y)\n",
      "C:\\Users\\madec\\anaconda3\\lib\\site-packages\\sklearn\\neighbors\\_classification.py:215: DataConversionWarning: A column-vector y was passed when a 1d array was expected. Please change the shape of y to (n_samples,), for example using ravel().\n",
      "  return self._fit(X, y)\n",
      "C:\\Users\\madec\\anaconda3\\lib\\site-packages\\sklearn\\neighbors\\_classification.py:215: DataConversionWarning: A column-vector y was passed when a 1d array was expected. Please change the shape of y to (n_samples,), for example using ravel().\n",
      "  return self._fit(X, y)\n",
      "C:\\Users\\madec\\anaconda3\\lib\\site-packages\\sklearn\\neighbors\\_classification.py:215: DataConversionWarning: A column-vector y was passed when a 1d array was expected. Please change the shape of y to (n_samples,), for example using ravel().\n",
      "  return self._fit(X, y)\n",
      "C:\\Users\\madec\\anaconda3\\lib\\site-packages\\sklearn\\neighbors\\_classification.py:215: DataConversionWarning: A column-vector y was passed when a 1d array was expected. Please change the shape of y to (n_samples,), for example using ravel().\n",
      "  return self._fit(X, y)\n",
      "C:\\Users\\madec\\anaconda3\\lib\\site-packages\\sklearn\\neighbors\\_classification.py:215: DataConversionWarning: A column-vector y was passed when a 1d array was expected. Please change the shape of y to (n_samples,), for example using ravel().\n",
      "  return self._fit(X, y)\n",
      "C:\\Users\\madec\\anaconda3\\lib\\site-packages\\sklearn\\neighbors\\_classification.py:215: DataConversionWarning: A column-vector y was passed when a 1d array was expected. Please change the shape of y to (n_samples,), for example using ravel().\n",
      "  return self._fit(X, y)\n",
      "C:\\Users\\madec\\anaconda3\\lib\\site-packages\\sklearn\\neighbors\\_classification.py:215: DataConversionWarning: A column-vector y was passed when a 1d array was expected. Please change the shape of y to (n_samples,), for example using ravel().\n",
      "  return self._fit(X, y)\n",
      "C:\\Users\\madec\\anaconda3\\lib\\site-packages\\sklearn\\neighbors\\_classification.py:215: DataConversionWarning: A column-vector y was passed when a 1d array was expected. Please change the shape of y to (n_samples,), for example using ravel().\n",
      "  return self._fit(X, y)\n",
      "C:\\Users\\madec\\anaconda3\\lib\\site-packages\\sklearn\\neighbors\\_classification.py:215: DataConversionWarning: A column-vector y was passed when a 1d array was expected. Please change the shape of y to (n_samples,), for example using ravel().\n",
      "  return self._fit(X, y)\n",
      "C:\\Users\\madec\\anaconda3\\lib\\site-packages\\sklearn\\neighbors\\_classification.py:215: DataConversionWarning: A column-vector y was passed when a 1d array was expected. Please change the shape of y to (n_samples,), for example using ravel().\n",
      "  return self._fit(X, y)\n",
      "C:\\Users\\madec\\anaconda3\\lib\\site-packages\\sklearn\\neighbors\\_classification.py:215: DataConversionWarning: A column-vector y was passed when a 1d array was expected. Please change the shape of y to (n_samples,), for example using ravel().\n",
      "  return self._fit(X, y)\n"
     ]
    },
    {
     "name": "stderr",
     "output_type": "stream",
     "text": [
      "C:\\Users\\madec\\anaconda3\\lib\\site-packages\\sklearn\\neighbors\\_classification.py:215: DataConversionWarning: A column-vector y was passed when a 1d array was expected. Please change the shape of y to (n_samples,), for example using ravel().\n",
      "  return self._fit(X, y)\n",
      "C:\\Users\\madec\\anaconda3\\lib\\site-packages\\sklearn\\neighbors\\_classification.py:215: DataConversionWarning: A column-vector y was passed when a 1d array was expected. Please change the shape of y to (n_samples,), for example using ravel().\n",
      "  return self._fit(X, y)\n",
      "C:\\Users\\madec\\anaconda3\\lib\\site-packages\\sklearn\\neighbors\\_classification.py:215: DataConversionWarning: A column-vector y was passed when a 1d array was expected. Please change the shape of y to (n_samples,), for example using ravel().\n",
      "  return self._fit(X, y)\n",
      "C:\\Users\\madec\\anaconda3\\lib\\site-packages\\sklearn\\neighbors\\_classification.py:215: DataConversionWarning: A column-vector y was passed when a 1d array was expected. Please change the shape of y to (n_samples,), for example using ravel().\n",
      "  return self._fit(X, y)\n",
      "C:\\Users\\madec\\anaconda3\\lib\\site-packages\\sklearn\\neighbors\\_classification.py:215: DataConversionWarning: A column-vector y was passed when a 1d array was expected. Please change the shape of y to (n_samples,), for example using ravel().\n",
      "  return self._fit(X, y)\n",
      "C:\\Users\\madec\\anaconda3\\lib\\site-packages\\sklearn\\neighbors\\_classification.py:215: DataConversionWarning: A column-vector y was passed when a 1d array was expected. Please change the shape of y to (n_samples,), for example using ravel().\n",
      "  return self._fit(X, y)\n",
      "C:\\Users\\madec\\anaconda3\\lib\\site-packages\\sklearn\\neighbors\\_classification.py:215: DataConversionWarning: A column-vector y was passed when a 1d array was expected. Please change the shape of y to (n_samples,), for example using ravel().\n",
      "  return self._fit(X, y)\n",
      "C:\\Users\\madec\\anaconda3\\lib\\site-packages\\sklearn\\neighbors\\_classification.py:215: DataConversionWarning: A column-vector y was passed when a 1d array was expected. Please change the shape of y to (n_samples,), for example using ravel().\n",
      "  return self._fit(X, y)\n",
      "C:\\Users\\madec\\anaconda3\\lib\\site-packages\\sklearn\\neighbors\\_classification.py:215: DataConversionWarning: A column-vector y was passed when a 1d array was expected. Please change the shape of y to (n_samples,), for example using ravel().\n",
      "  return self._fit(X, y)\n",
      "C:\\Users\\madec\\anaconda3\\lib\\site-packages\\sklearn\\neighbors\\_classification.py:215: DataConversionWarning: A column-vector y was passed when a 1d array was expected. Please change the shape of y to (n_samples,), for example using ravel().\n",
      "  return self._fit(X, y)\n",
      "C:\\Users\\madec\\anaconda3\\lib\\site-packages\\sklearn\\neighbors\\_classification.py:215: DataConversionWarning: A column-vector y was passed when a 1d array was expected. Please change the shape of y to (n_samples,), for example using ravel().\n",
      "  return self._fit(X, y)\n",
      "C:\\Users\\madec\\anaconda3\\lib\\site-packages\\sklearn\\neighbors\\_classification.py:215: DataConversionWarning: A column-vector y was passed when a 1d array was expected. Please change the shape of y to (n_samples,), for example using ravel().\n",
      "  return self._fit(X, y)\n",
      "C:\\Users\\madec\\anaconda3\\lib\\site-packages\\sklearn\\neighbors\\_classification.py:215: DataConversionWarning: A column-vector y was passed when a 1d array was expected. Please change the shape of y to (n_samples,), for example using ravel().\n",
      "  return self._fit(X, y)\n",
      "C:\\Users\\madec\\anaconda3\\lib\\site-packages\\sklearn\\neighbors\\_classification.py:215: DataConversionWarning: A column-vector y was passed when a 1d array was expected. Please change the shape of y to (n_samples,), for example using ravel().\n",
      "  return self._fit(X, y)\n",
      "C:\\Users\\madec\\anaconda3\\lib\\site-packages\\sklearn\\neighbors\\_classification.py:215: DataConversionWarning: A column-vector y was passed when a 1d array was expected. Please change the shape of y to (n_samples,), for example using ravel().\n",
      "  return self._fit(X, y)\n",
      "C:\\Users\\madec\\anaconda3\\lib\\site-packages\\sklearn\\neighbors\\_classification.py:215: DataConversionWarning: A column-vector y was passed when a 1d array was expected. Please change the shape of y to (n_samples,), for example using ravel().\n",
      "  return self._fit(X, y)\n",
      "C:\\Users\\madec\\anaconda3\\lib\\site-packages\\sklearn\\neighbors\\_classification.py:215: DataConversionWarning: A column-vector y was passed when a 1d array was expected. Please change the shape of y to (n_samples,), for example using ravel().\n",
      "  return self._fit(X, y)\n",
      "C:\\Users\\madec\\anaconda3\\lib\\site-packages\\sklearn\\neighbors\\_classification.py:215: DataConversionWarning: A column-vector y was passed when a 1d array was expected. Please change the shape of y to (n_samples,), for example using ravel().\n",
      "  return self._fit(X, y)\n",
      "C:\\Users\\madec\\anaconda3\\lib\\site-packages\\sklearn\\neighbors\\_classification.py:215: DataConversionWarning: A column-vector y was passed when a 1d array was expected. Please change the shape of y to (n_samples,), for example using ravel().\n",
      "  return self._fit(X, y)\n",
      "C:\\Users\\madec\\anaconda3\\lib\\site-packages\\sklearn\\neighbors\\_classification.py:215: DataConversionWarning: A column-vector y was passed when a 1d array was expected. Please change the shape of y to (n_samples,), for example using ravel().\n",
      "  return self._fit(X, y)\n",
      "C:\\Users\\madec\\anaconda3\\lib\\site-packages\\sklearn\\neighbors\\_classification.py:215: DataConversionWarning: A column-vector y was passed when a 1d array was expected. Please change the shape of y to (n_samples,), for example using ravel().\n",
      "  return self._fit(X, y)\n",
      "C:\\Users\\madec\\anaconda3\\lib\\site-packages\\sklearn\\neighbors\\_classification.py:215: DataConversionWarning: A column-vector y was passed when a 1d array was expected. Please change the shape of y to (n_samples,), for example using ravel().\n",
      "  return self._fit(X, y)\n",
      "C:\\Users\\madec\\anaconda3\\lib\\site-packages\\sklearn\\neighbors\\_classification.py:215: DataConversionWarning: A column-vector y was passed when a 1d array was expected. Please change the shape of y to (n_samples,), for example using ravel().\n",
      "  return self._fit(X, y)\n",
      "C:\\Users\\madec\\anaconda3\\lib\\site-packages\\sklearn\\neighbors\\_classification.py:215: DataConversionWarning: A column-vector y was passed when a 1d array was expected. Please change the shape of y to (n_samples,), for example using ravel().\n",
      "  return self._fit(X, y)\n",
      "C:\\Users\\madec\\anaconda3\\lib\\site-packages\\sklearn\\neighbors\\_classification.py:215: DataConversionWarning: A column-vector y was passed when a 1d array was expected. Please change the shape of y to (n_samples,), for example using ravel().\n",
      "  return self._fit(X, y)\n",
      "C:\\Users\\madec\\anaconda3\\lib\\site-packages\\sklearn\\neighbors\\_classification.py:215: DataConversionWarning: A column-vector y was passed when a 1d array was expected. Please change the shape of y to (n_samples,), for example using ravel().\n",
      "  return self._fit(X, y)\n",
      "C:\\Users\\madec\\anaconda3\\lib\\site-packages\\sklearn\\neighbors\\_classification.py:215: DataConversionWarning: A column-vector y was passed when a 1d array was expected. Please change the shape of y to (n_samples,), for example using ravel().\n",
      "  return self._fit(X, y)\n",
      "C:\\Users\\madec\\anaconda3\\lib\\site-packages\\sklearn\\neighbors\\_classification.py:215: DataConversionWarning: A column-vector y was passed when a 1d array was expected. Please change the shape of y to (n_samples,), for example using ravel().\n",
      "  return self._fit(X, y)\n",
      "C:\\Users\\madec\\anaconda3\\lib\\site-packages\\sklearn\\neighbors\\_classification.py:215: DataConversionWarning: A column-vector y was passed when a 1d array was expected. Please change the shape of y to (n_samples,), for example using ravel().\n",
      "  return self._fit(X, y)\n",
      "C:\\Users\\madec\\anaconda3\\lib\\site-packages\\sklearn\\neighbors\\_classification.py:215: DataConversionWarning: A column-vector y was passed when a 1d array was expected. Please change the shape of y to (n_samples,), for example using ravel().\n",
      "  return self._fit(X, y)\n",
      "C:\\Users\\madec\\anaconda3\\lib\\site-packages\\sklearn\\neighbors\\_classification.py:215: DataConversionWarning: A column-vector y was passed when a 1d array was expected. Please change the shape of y to (n_samples,), for example using ravel().\n",
      "  return self._fit(X, y)\n"
     ]
    },
    {
     "name": "stderr",
     "output_type": "stream",
     "text": [
      "C:\\Users\\madec\\anaconda3\\lib\\site-packages\\sklearn\\neighbors\\_classification.py:215: DataConversionWarning: A column-vector y was passed when a 1d array was expected. Please change the shape of y to (n_samples,), for example using ravel().\n",
      "  return self._fit(X, y)\n",
      "C:\\Users\\madec\\anaconda3\\lib\\site-packages\\sklearn\\neighbors\\_classification.py:215: DataConversionWarning: A column-vector y was passed when a 1d array was expected. Please change the shape of y to (n_samples,), for example using ravel().\n",
      "  return self._fit(X, y)\n",
      "C:\\Users\\madec\\anaconda3\\lib\\site-packages\\sklearn\\neighbors\\_classification.py:215: DataConversionWarning: A column-vector y was passed when a 1d array was expected. Please change the shape of y to (n_samples,), for example using ravel().\n",
      "  return self._fit(X, y)\n",
      "C:\\Users\\madec\\anaconda3\\lib\\site-packages\\sklearn\\neighbors\\_classification.py:215: DataConversionWarning: A column-vector y was passed when a 1d array was expected. Please change the shape of y to (n_samples,), for example using ravel().\n",
      "  return self._fit(X, y)\n",
      "C:\\Users\\madec\\anaconda3\\lib\\site-packages\\sklearn\\neighbors\\_classification.py:215: DataConversionWarning: A column-vector y was passed when a 1d array was expected. Please change the shape of y to (n_samples,), for example using ravel().\n",
      "  return self._fit(X, y)\n",
      "C:\\Users\\madec\\anaconda3\\lib\\site-packages\\sklearn\\neighbors\\_classification.py:215: DataConversionWarning: A column-vector y was passed when a 1d array was expected. Please change the shape of y to (n_samples,), for example using ravel().\n",
      "  return self._fit(X, y)\n",
      "C:\\Users\\madec\\anaconda3\\lib\\site-packages\\sklearn\\neighbors\\_classification.py:215: DataConversionWarning: A column-vector y was passed when a 1d array was expected. Please change the shape of y to (n_samples,), for example using ravel().\n",
      "  return self._fit(X, y)\n",
      "C:\\Users\\madec\\anaconda3\\lib\\site-packages\\sklearn\\neighbors\\_classification.py:215: DataConversionWarning: A column-vector y was passed when a 1d array was expected. Please change the shape of y to (n_samples,), for example using ravel().\n",
      "  return self._fit(X, y)\n",
      "C:\\Users\\madec\\anaconda3\\lib\\site-packages\\sklearn\\neighbors\\_classification.py:215: DataConversionWarning: A column-vector y was passed when a 1d array was expected. Please change the shape of y to (n_samples,), for example using ravel().\n",
      "  return self._fit(X, y)\n",
      "C:\\Users\\madec\\anaconda3\\lib\\site-packages\\sklearn\\neighbors\\_classification.py:215: DataConversionWarning: A column-vector y was passed when a 1d array was expected. Please change the shape of y to (n_samples,), for example using ravel().\n",
      "  return self._fit(X, y)\n",
      "C:\\Users\\madec\\anaconda3\\lib\\site-packages\\sklearn\\neighbors\\_classification.py:215: DataConversionWarning: A column-vector y was passed when a 1d array was expected. Please change the shape of y to (n_samples,), for example using ravel().\n",
      "  return self._fit(X, y)\n",
      "C:\\Users\\madec\\anaconda3\\lib\\site-packages\\sklearn\\neighbors\\_classification.py:215: DataConversionWarning: A column-vector y was passed when a 1d array was expected. Please change the shape of y to (n_samples,), for example using ravel().\n",
      "  return self._fit(X, y)\n",
      "C:\\Users\\madec\\anaconda3\\lib\\site-packages\\sklearn\\neighbors\\_classification.py:215: DataConversionWarning: A column-vector y was passed when a 1d array was expected. Please change the shape of y to (n_samples,), for example using ravel().\n",
      "  return self._fit(X, y)\n",
      "C:\\Users\\madec\\anaconda3\\lib\\site-packages\\sklearn\\neighbors\\_classification.py:215: DataConversionWarning: A column-vector y was passed when a 1d array was expected. Please change the shape of y to (n_samples,), for example using ravel().\n",
      "  return self._fit(X, y)\n"
     ]
    }
   ],
   "source": [
    "spacy_train_acc = []\n",
    "spacy_test_acc = []\n",
    "tfidf_train_acc = []\n",
    "tfidf_test_acc = []\n",
    "\n",
    "for K in range (25, 500, 25):\n",
    "    spacy_knnclf_train = neighbors.KNeighborsClassifier(K, weights='distance', metric = 'cosine')\n",
    "    spacy_knnclf_train.fit(spacyX_train_pca, y_train)\n",
    "    spacy_train_acc.append(spacy_knnclf_train.score(spacyX_train_pca, y_train))\n",
    "\n",
    "    spacy_knnclf_test = neighbors.KNeighborsClassifier(K, weights='distance', metric = 'cosine')\n",
    "    spacy_knnclf_test.fit(spacyX_train_pca, y_train)\n",
    "    spacy_test_acc.append(spacy_knnclf_test.score(spacyX_test_pca, y_test))\n",
    "\n",
    "    tfidf_knnclf_train = neighbors.KNeighborsClassifier(K, weights='distance', metric = 'cosine')\n",
    "    tfidf_knnclf_train.fit(tfidfX_train_pca, y_train)\n",
    "    tfidf_train_acc.append(tfidf_knnclf_train.score(tfidfX_train_pca, y_train))\n",
    "\n",
    "    tfidf_knnclf_test = neighbors.KNeighborsClassifier(K, weights='distance', metric = 'cosine')\n",
    "    tfidf_knnclf_test.fit(tfidfX_train_pca, y_train)\n",
    "    tfidf_test_acc.append(tfidf_knnclf_test.score(tfidfX_test_pca, y_test))"
   ]
  },
  {
   "cell_type": "code",
   "execution_count": 56,
   "id": "79c3e8b5",
   "metadata": {},
   "outputs": [
    {
     "data": {
      "image/png": "[encoded data removed]",
      "text/plain": [
       "<Figure size 1000x500 with 1 Axes>"
      ]
     },
     "metadata": {},
     "output_type": "display_data"
    }
   ],
   "source": [
    "Ks = list(range (25, 500, 25))\n",
    "plt.figure(figsize=(10,5))\n",
    "plt.plot(Ks, spacy_train_acc, 'y^--', label='Train Accuracy')\n",
    "plt.plot(Ks, spacy_test_acc, 'b*--', label='Test Accuracy')\n",
    "plt.xlabel('K')\n",
    "plt.ylabel('Accuracy')\n",
    "plt.title('Knn classifier Accuracy - spaCy')\n",
    "plt.grid(linestyle='--')\n",
    "plt.xticks(Ks)\n",
    "plt.legend(loc='center left', bbox_to_anchor=(1, 0.5))\n",
    "\n",
    "plt.show()"
   ]
  },
  {
   "cell_type": "code",
   "execution_count": 57,
   "id": "df9c3357",
   "metadata": {},
   "outputs": [
    {
     "data": {
      "image/png": "[encoded data removed]",
      "text/plain": [
       "<Figure size 1000x500 with 1 Axes>"
      ]
     },
     "metadata": {},
     "output_type": "display_data"
    }
   ],
   "source": [
    "Ks = list(range (25, 500, 25))\n",
    "plt.figure(figsize=(10,5))\n",
    "plt.plot(Ks, tfidf_train_acc, 'y^--', label='Train Accuracy')\n",
    "plt.plot(Ks, tfidf_test_acc, 'b*--', label='Test Accuracy')\n",
    "plt.xlabel('K')\n",
    "plt.ylabel('Accuracy')\n",
    "plt.title('Knn classifier Accuracy - tfidf')\n",
    "plt.grid(linestyle='--')\n",
    "plt.xticks(Ks)\n",
    "plt.legend(loc='center left', bbox_to_anchor=(1, 0.5))\n",
    "\n",
    "plt.show()"
   ]
  },
  {
   "cell_type": "markdown",
   "id": "15ae9143",
   "metadata": {},
   "source": [
    "### No matter how large we make K, and it appears no matter how many features we reduce, we still experience overfitting. Let's try with k = 50\n",
    "\n",
    "### \n",
    "\n",
    "### Let's generate a confusion matrix and other details on tfidf without PCA as that was our best performing model, and it does not seem to have an impact on processing time with sci kit learn's model"
   ]
  },
  {
   "cell_type": "code",
   "execution_count": 58,
   "id": "efa68cc5",
   "metadata": {},
   "outputs": [
    {
     "name": "stderr",
     "output_type": "stream",
     "text": [
      "C:\\Users\\madec\\anaconda3\\lib\\site-packages\\sklearn\\neighbors\\_classification.py:215: DataConversionWarning: A column-vector y was passed when a 1d array was expected. Please change the shape of y to (n_samples,), for example using ravel().\n",
      "  return self._fit(X, y)\n",
      "C:\\Users\\madec\\anaconda3\\lib\\site-packages\\sklearn\\neighbors\\_classification.py:215: DataConversionWarning: A column-vector y was passed when a 1d array was expected. Please change the shape of y to (n_samples,), for example using ravel().\n",
      "  return self._fit(X, y)\n"
     ]
    },
    {
     "data": {
      "text/html": [
       "<style>#sk-container-id-2 {color: black;background-color: white;}#sk-container-id-2 pre{padding: 0;}#sk-container-id-2 div.sk-toggleable {background-color: white;}#sk-container-id-2 label.sk-toggleable__label {cursor: pointer;display: block;width: 100%;margin-bottom: 0;padding: 0.3em;box-sizing: border-box;text-align: center;}#sk-container-id-2 label.sk-toggleable__label-arrow:before {content: \"▸\";float: left;margin-right: 0.25em;color: #696969;}#sk-container-id-2 label.sk-toggleable__label-arrow:hover:before {color: black;}#sk-container-id-2 div.sk-estimator:hover label.sk-toggleable__label-arrow:before {color: black;}#sk-container-id-2 div.sk-toggleable__content {max-height: 0;max-width: 0;overflow: hidden;text-align: left;background-color: #f0f8ff;}#sk-container-id-2 div.sk-toggleable__content pre {margin: 0.2em;color: black;border-radius: 0.25em;background-color: #f0f8ff;}#sk-container-id-2 input.sk-toggleable__control:checked~div.sk-toggleable__content {max-height: 200px;max-width: 100%;overflow: auto;}#sk-container-id-2 input.sk-toggleable__control:checked~label.sk-toggleable__label-arrow:before {content: \"▾\";}#sk-container-id-2 div.sk-estimator input.sk-toggleable__control:checked~label.sk-toggleable__label {background-color: #d4ebff;}#sk-container-id-2 div.sk-label input.sk-toggleable__control:checked~label.sk-toggleable__label {background-color: #d4ebff;}#sk-container-id-2 input.sk-hidden--visually {border: 0;clip: rect(1px 1px 1px 1px);clip: rect(1px, 1px, 1px, 1px);height: 1px;margin: -1px;overflow: hidden;padding: 0;position: absolute;width: 1px;}#sk-container-id-2 div.sk-estimator {font-family: monospace;background-color: #f0f8ff;border: 1px dotted black;border-radius: 0.25em;box-sizing: border-box;margin-bottom: 0.5em;}#sk-container-id-2 div.sk-estimator:hover {background-color: #d4ebff;}#sk-container-id-2 div.sk-parallel-item::after {content: \"\";width: 100%;border-bottom: 1px solid gray;flex-grow: 1;}#sk-container-id-2 div.sk-label:hover label.sk-toggleable__label {background-color: #d4ebff;}#sk-container-id-2 div.sk-serial::before {content: \"\";position: absolute;border-left: 1px solid gray;box-sizing: border-box;top: 0;bottom: 0;left: 50%;z-index: 0;}#sk-container-id-2 div.sk-serial {display: flex;flex-direction: column;align-items: center;background-color: white;padding-right: 0.2em;padding-left: 0.2em;position: relative;}#sk-container-id-2 div.sk-item {position: relative;z-index: 1;}#sk-container-id-2 div.sk-parallel {display: flex;align-items: stretch;justify-content: center;background-color: white;position: relative;}#sk-container-id-2 div.sk-item::before, #sk-container-id-2 div.sk-parallel-item::before {content: \"\";position: absolute;border-left: 1px solid gray;box-sizing: border-box;top: 0;bottom: 0;left: 50%;z-index: -1;}#sk-container-id-2 div.sk-parallel-item {display: flex;flex-direction: column;z-index: 1;position: relative;background-color: white;}#sk-container-id-2 div.sk-parallel-item:first-child::after {align-self: flex-end;width: 50%;}#sk-container-id-2 div.sk-parallel-item:last-child::after {align-self: flex-start;width: 50%;}#sk-container-id-2 div.sk-parallel-item:only-child::after {width: 0;}#sk-container-id-2 div.sk-dashed-wrapped {border: 1px dashed gray;margin: 0 0.4em 0.5em 0.4em;box-sizing: border-box;padding-bottom: 0.4em;background-color: white;}#sk-container-id-2 div.sk-label label {font-family: monospace;font-weight: bold;display: inline-block;line-height: 1.2em;}#sk-container-id-2 div.sk-label-container {text-align: center;}#sk-container-id-2 div.sk-container {/* jupyter's `normalize.less` sets `[hidden] { display: none; }` but bootstrap.min.css set `[hidden] { display: none !important; }` so we also need the `!important` here to be able to override the default hidden behavior on the sphinx rendered scikit-learn.org. See: https://github.com/scikit-learn/scikit-learn/issues/21755 */display: inline-block !important;position: relative;}#sk-container-id-2 div.sk-text-repr-fallback {display: none;}</style><div id=\"sk-container-id-2\" class=\"sk-top-container\"><div class=\"sk-text-repr-fallback\"><pre>KNeighborsClassifier(metric=&#x27;cosine&#x27;, n_neighbors=50, weights=&#x27;distance&#x27;)</pre><b>In a Jupyter environment, please rerun this cell to show the HTML representation or trust the notebook. <br />On GitHub, the HTML representation is unable to render, please try loading this page with nbviewer.org.</b></div><div class=\"sk-container\" hidden><div class=\"sk-item\"><div class=\"sk-estimator sk-toggleable\"><input class=\"sk-toggleable__control sk-hidden--visually\" id=\"sk-estimator-id-2\" type=\"checkbox\" checked><label for=\"sk-estimator-id-2\" class=\"sk-toggleable__label sk-toggleable__label-arrow\">KNeighborsClassifier</label><div class=\"sk-toggleable__content\"><pre>KNeighborsClassifier(metric=&#x27;cosine&#x27;, n_neighbors=50, weights=&#x27;distance&#x27;)</pre></div></div></div></div></div>"
      ],
      "text/plain": [
       "KNeighborsClassifier(metric='cosine', n_neighbors=50, weights='distance')"
      ]
     },
     "execution_count": 58,
     "metadata": {},
     "output_type": "execute_result"
    }
   ],
   "source": [
    "k_neighbors = 50\n",
    "\n",
    "spacy_knnclf = neighbors.KNeighborsClassifier(k_neighbors, weights='distance', metric = 'cosine')\n",
    "spacy_knnclf.fit(spacyX_train_pca, y_train)\n",
    "\n",
    "tfidf_knnclf = neighbors.KNeighborsClassifier(k_neighbors, weights='distance', metric = 'cosine')\n",
    "tfidf_knnclf.fit(tfidfX_train_pca, y_train)"
   ]
  },
  {
   "cell_type": "code",
   "execution_count": 59,
   "id": "398a36c9",
   "metadata": {},
   "outputs": [],
   "source": [
    "spacy_knnpreds_train = spacy_knnclf.predict(spacyX_train_pca)\n",
    "spacy_knnpreds_test = spacy_knnclf.predict(spacyX_test_pca)\n",
    "\n",
    "tfidf_knnpreds_train = tfidf_knnclf.predict(tfidfX_train_pca)\n",
    "tfidf_knnpreds_test = tfidf_knnclf.predict(tfidfX_test_pca)"
   ]
  },
  {
   "cell_type": "code",
   "execution_count": 60,
   "id": "b8feeec1",
   "metadata": {},
   "outputs": [
    {
     "name": "stdout",
     "output_type": "stream",
     "text": [
      "[[1998    4]\n",
      " [ 221    8]]\n",
      "[[1996    6]\n",
      " [ 216   13]]\n"
     ]
    }
   ],
   "source": [
    "from sklearn.metrics import confusion_matrix\n",
    "spacy_test_confusion = confusion_matrix(y_test, spacy_knnpreds_test)\n",
    "tfidf_test_confusion = confusion_matrix(y_test, tfidf_knnpreds_test)\n",
    "print(spacy_test_confusion)\n",
    "print(tfidf_test_confusion)"
   ]
  },
  {
   "cell_type": "markdown",
   "id": "c7743f64",
   "metadata": {},
   "source": [
    "### These results are not ideal. We are missing way too many true positives. Curious what the confusion matrix looks like for the original dataframes that did not have features reduced."
   ]
  },
  {
   "cell_type": "code",
   "execution_count": 61,
   "id": "eb4ba615",
   "metadata": {},
   "outputs": [
    {
     "name": "stderr",
     "output_type": "stream",
     "text": [
      "C:\\Users\\madec\\anaconda3\\lib\\site-packages\\sklearn\\neighbors\\_classification.py:215: DataConversionWarning: A column-vector y was passed when a 1d array was expected. Please change the shape of y to (n_samples,), for example using ravel().\n",
      "  return self._fit(X, y)\n",
      "C:\\Users\\madec\\anaconda3\\lib\\site-packages\\sklearn\\neighbors\\_classification.py:215: DataConversionWarning: A column-vector y was passed when a 1d array was expected. Please change the shape of y to (n_samples,), for example using ravel().\n",
      "  return self._fit(X, y)\n"
     ]
    },
    {
     "data": {
      "text/html": [
       "<style>#sk-container-id-3 {color: black;background-color: white;}#sk-container-id-3 pre{padding: 0;}#sk-container-id-3 div.sk-toggleable {background-color: white;}#sk-container-id-3 label.sk-toggleable__label {cursor: pointer;display: block;width: 100%;margin-bottom: 0;padding: 0.3em;box-sizing: border-box;text-align: center;}#sk-container-id-3 label.sk-toggleable__label-arrow:before {content: \"▸\";float: left;margin-right: 0.25em;color: #696969;}#sk-container-id-3 label.sk-toggleable__label-arrow:hover:before {color: black;}#sk-container-id-3 div.sk-estimator:hover label.sk-toggleable__label-arrow:before {color: black;}#sk-container-id-3 div.sk-toggleable__content {max-height: 0;max-width: 0;overflow: hidden;text-align: left;background-color: #f0f8ff;}#sk-container-id-3 div.sk-toggleable__content pre {margin: 0.2em;color: black;border-radius: 0.25em;background-color: #f0f8ff;}#sk-container-id-3 input.sk-toggleable__control:checked~div.sk-toggleable__content {max-height: 200px;max-width: 100%;overflow: auto;}#sk-container-id-3 input.sk-toggleable__control:checked~label.sk-toggleable__label-arrow:before {content: \"▾\";}#sk-container-id-3 div.sk-estimator input.sk-toggleable__control:checked~label.sk-toggleable__label {background-color: #d4ebff;}#sk-container-id-3 div.sk-label input.sk-toggleable__control:checked~label.sk-toggleable__label {background-color: #d4ebff;}#sk-container-id-3 input.sk-hidden--visually {border: 0;clip: rect(1px 1px 1px 1px);clip: rect(1px, 1px, 1px, 1px);height: 1px;margin: -1px;overflow: hidden;padding: 0;position: absolute;width: 1px;}#sk-container-id-3 div.sk-estimator {font-family: monospace;background-color: #f0f8ff;border: 1px dotted black;border-radius: 0.25em;box-sizing: border-box;margin-bottom: 0.5em;}#sk-container-id-3 div.sk-estimator:hover {background-color: #d4ebff;}#sk-container-id-3 div.sk-parallel-item::after {content: \"\";width: 100%;border-bottom: 1px solid gray;flex-grow: 1;}#sk-container-id-3 div.sk-label:hover label.sk-toggleable__label {background-color: #d4ebff;}#sk-container-id-3 div.sk-serial::before {content: \"\";position: absolute;border-left: 1px solid gray;box-sizing: border-box;top: 0;bottom: 0;left: 50%;z-index: 0;}#sk-container-id-3 div.sk-serial {display: flex;flex-direction: column;align-items: center;background-color: white;padding-right: 0.2em;padding-left: 0.2em;position: relative;}#sk-container-id-3 div.sk-item {position: relative;z-index: 1;}#sk-container-id-3 div.sk-parallel {display: flex;align-items: stretch;justify-content: center;background-color: white;position: relative;}#sk-container-id-3 div.sk-item::before, #sk-container-id-3 div.sk-parallel-item::before {content: \"\";position: absolute;border-left: 1px solid gray;box-sizing: border-box;top: 0;bottom: 0;left: 50%;z-index: -1;}#sk-container-id-3 div.sk-parallel-item {display: flex;flex-direction: column;z-index: 1;position: relative;background-color: white;}#sk-container-id-3 div.sk-parallel-item:first-child::after {align-self: flex-end;width: 50%;}#sk-container-id-3 div.sk-parallel-item:last-child::after {align-self: flex-start;width: 50%;}#sk-container-id-3 div.sk-parallel-item:only-child::after {width: 0;}#sk-container-id-3 div.sk-dashed-wrapped {border: 1px dashed gray;margin: 0 0.4em 0.5em 0.4em;box-sizing: border-box;padding-bottom: 0.4em;background-color: white;}#sk-container-id-3 div.sk-label label {font-family: monospace;font-weight: bold;display: inline-block;line-height: 1.2em;}#sk-container-id-3 div.sk-label-container {text-align: center;}#sk-container-id-3 div.sk-container {/* jupyter's `normalize.less` sets `[hidden] { display: none; }` but bootstrap.min.css set `[hidden] { display: none !important; }` so we also need the `!important` here to be able to override the default hidden behavior on the sphinx rendered scikit-learn.org. See: https://github.com/scikit-learn/scikit-learn/issues/21755 */display: inline-block !important;position: relative;}#sk-container-id-3 div.sk-text-repr-fallback {display: none;}</style><div id=\"sk-container-id-3\" class=\"sk-top-container\"><div class=\"sk-text-repr-fallback\"><pre>KNeighborsClassifier(metric=&#x27;cosine&#x27;, n_neighbors=10, weights=&#x27;distance&#x27;)</pre><b>In a Jupyter environment, please rerun this cell to show the HTML representation or trust the notebook. <br />On GitHub, the HTML representation is unable to render, please try loading this page with nbviewer.org.</b></div><div class=\"sk-container\" hidden><div class=\"sk-item\"><div class=\"sk-estimator sk-toggleable\"><input class=\"sk-toggleable__control sk-hidden--visually\" id=\"sk-estimator-id-3\" type=\"checkbox\" checked><label for=\"sk-estimator-id-3\" class=\"sk-toggleable__label sk-toggleable__label-arrow\">KNeighborsClassifier</label><div class=\"sk-toggleable__content\"><pre>KNeighborsClassifier(metric=&#x27;cosine&#x27;, n_neighbors=10, weights=&#x27;distance&#x27;)</pre></div></div></div></div></div>"
      ],
      "text/plain": [
       "KNeighborsClassifier(metric='cosine', n_neighbors=10, weights='distance')"
      ]
     },
     "execution_count": 61,
     "metadata": {},
     "output_type": "execute_result"
    }
   ],
   "source": [
    "k_neighbors = 10\n",
    "\n",
    "spacy_knnclf = neighbors.KNeighborsClassifier(k_neighbors, weights='distance', metric = 'cosine')\n",
    "spacy_knnclf.fit(spacyX_train, y_train)\n",
    "\n",
    "tfidf_knnclf = neighbors.KNeighborsClassifier(k_neighbors, weights='distance', metric = 'cosine')\n",
    "tfidf_knnclf.fit(tfidfX_train, y_train)"
   ]
  },
  {
   "cell_type": "code",
   "execution_count": 62,
   "id": "5b023391",
   "metadata": {},
   "outputs": [],
   "source": [
    "spacy_knnpreds_train = spacy_knnclf.predict(spacyX_train)\n",
    "spacy_knnpreds_test = spacy_knnclf.predict(spacyX_test)\n",
    "\n",
    "tfidf_knnpreds_train = tfidf_knnclf.predict(tfidfX_train)\n",
    "tfidf_knnpreds_test = tfidf_knnclf.predict(tfidfX_test)"
   ]
  },
  {
   "cell_type": "code",
   "execution_count": 63,
   "id": "6ff8e22e",
   "metadata": {},
   "outputs": [
    {
     "name": "stdout",
     "output_type": "stream",
     "text": [
      "[[1963   39]\n",
      " [ 192   37]]\n",
      "[[1985   17]\n",
      " [ 140   89]]\n"
     ]
    }
   ],
   "source": [
    "from sklearn.metrics import confusion_matrix\n",
    "spacy_test_confusion = confusion_matrix(y_test, spacy_knnpreds_test)\n",
    "tfidf_test_confusion = confusion_matrix(y_test, tfidf_knnpreds_test)\n",
    "print(spacy_test_confusion)\n",
    "print(tfidf_test_confusion)"
   ]
  },
  {
   "cell_type": "code",
   "execution_count": 64,
   "id": "3942be88",
   "metadata": {},
   "outputs": [
    {
     "name": "stdout",
     "output_type": "stream",
     "text": [
      "Classification Report for spaCy Test Data\n",
      "              precision    recall  f1-score   support\n",
      "\n",
      "           0       0.91      0.98      0.94      2002\n",
      "           1       0.49      0.16      0.24       229\n",
      "\n",
      "    accuracy                           0.90      2231\n",
      "   macro avg       0.70      0.57      0.59      2231\n",
      "weighted avg       0.87      0.90      0.87      2231\n",
      "\n",
      "Classification Report for tfidf Test Data\n",
      "              precision    recall  f1-score   support\n",
      "\n",
      "           0       0.93      0.99      0.96      2002\n",
      "           1       0.84      0.39      0.53       229\n",
      "\n",
      "    accuracy                           0.93      2231\n",
      "   macro avg       0.89      0.69      0.75      2231\n",
      "weighted avg       0.92      0.93      0.92      2231\n",
      "\n"
     ]
    }
   ],
   "source": [
    "from sklearn.metrics import classification_report\n",
    "\n",
    "print (\"Classification Report for spaCy Test Data\")\n",
    "print(classification_report(y_test, spacy_knnpreds_test))\n",
    "\n",
    "print (\"Classification Report for tfidf Test Data\")\n",
    "print(classification_report(y_test, tfidf_knnpreds_test))"
   ]
  },
  {
   "cell_type": "markdown",
   "id": "cff5ba12",
   "metadata": {},
   "source": [
    "### These results are better since we are catching more of the true positives. That said, we are not catching a majority of them. Let's deploy a new technique to see if we can increase accuracy and limit overfitting."
   ]
  },
  {
   "cell_type": "markdown",
   "id": "cbd7a7e1",
   "metadata": {},
   "source": [
    "# Model 3 - Cross-Validation using RandomForestClassifier"
   ]
  },
  {
   "cell_type": "code",
   "execution_count": 65,
   "id": "33c4d73d",
   "metadata": {},
   "outputs": [],
   "source": [
    "from sklearn.model_selection import cross_val_score\n",
    "from sklearn.ensemble import RandomForestClassifier"
   ]
  },
  {
   "cell_type": "code",
   "execution_count": 66,
   "id": "804f1d99",
   "metadata": {},
   "outputs": [],
   "source": [
    "model = RandomForestClassifier()"
   ]
  },
  {
   "cell_type": "code",
   "execution_count": 67,
   "id": "1d0a9186",
   "metadata": {},
   "outputs": [
    {
     "name": "stderr",
     "output_type": "stream",
     "text": [
      "C:\\Users\\madec\\anaconda3\\lib\\site-packages\\sklearn\\model_selection\\_validation.py:686: DataConversionWarning: A column-vector y was passed when a 1d array was expected. Please change the shape of y to (n_samples,), for example using ravel().\n",
      "  estimator.fit(X_train, y_train, **fit_params)\n",
      "C:\\Users\\madec\\anaconda3\\lib\\site-packages\\sklearn\\model_selection\\_validation.py:686: DataConversionWarning: A column-vector y was passed when a 1d array was expected. Please change the shape of y to (n_samples,), for example using ravel().\n",
      "  estimator.fit(X_train, y_train, **fit_params)\n",
      "C:\\Users\\madec\\anaconda3\\lib\\site-packages\\sklearn\\model_selection\\_validation.py:686: DataConversionWarning: A column-vector y was passed when a 1d array was expected. Please change the shape of y to (n_samples,), for example using ravel().\n",
      "  estimator.fit(X_train, y_train, **fit_params)\n",
      "C:\\Users\\madec\\anaconda3\\lib\\site-packages\\sklearn\\model_selection\\_validation.py:686: DataConversionWarning: A column-vector y was passed when a 1d array was expected. Please change the shape of y to (n_samples,), for example using ravel().\n",
      "  estimator.fit(X_train, y_train, **fit_params)\n",
      "C:\\Users\\madec\\anaconda3\\lib\\site-packages\\sklearn\\model_selection\\_validation.py:686: DataConversionWarning: A column-vector y was passed when a 1d array was expected. Please change the shape of y to (n_samples,), for example using ravel().\n",
      "  estimator.fit(X_train, y_train, **fit_params)\n"
     ]
    }
   ],
   "source": [
    "scores = cross_val_score(model, spacyX_train, y_train, cv=5)"
   ]
  },
  {
   "cell_type": "code",
   "execution_count": 68,
   "id": "076b63d7",
   "metadata": {},
   "outputs": [
    {
     "name": "stdout",
     "output_type": "stream",
     "text": [
      "Scores: [0.89859944 0.90084034 0.89798206 0.8985426  0.89910314]\n",
      "Mean score: 0.8990135157201895\n"
     ]
    }
   ],
   "source": [
    "print(\"Scores:\", scores)\n",
    "print(\"Mean score:\", scores.mean())"
   ]
  },
  {
   "cell_type": "markdown",
   "id": "dbf0634b",
   "metadata": {},
   "source": [
    "### We are gaining no improvement. The marginally better model that we have produced so far is using sci kit learn's KNN classifier on the TFIDF weighted vectors.\n",
    "\n",
    "### \n",
    "\n",
    "### Although there is a lot of noise in this data, and the model is overfit, I am still interested in seeing what the model found as false positives."
   ]
  },
  {
   "cell_type": "code",
   "execution_count": 69,
   "id": "3b6e180a",
   "metadata": {},
   "outputs": [
    {
     "name": "stdout",
     "output_type": "stream",
     "text": [
      "       deleteReason  predicted_labels\n",
      "7546              0                 1\n",
      "10273             0                 1\n",
      "9212              0                 1\n",
      "2142              0                 1\n",
      "5025              0                 1\n",
      "8567              0                 1\n",
      "10674             0                 1\n",
      "9089              0                 1\n",
      "6535              0                 1\n",
      "4436              0                 1\n",
      "4816              0                 1\n",
      "6659              0                 1\n",
      "9758              0                 1\n",
      "3095              0                 1\n",
      "2034              0                 1\n",
      "4980              0                 1\n",
      "10626             0                 1\n"
     ]
    }
   ],
   "source": [
    "# Add the predicted labels to your DataFrame\n",
    "y_test['predicted_labels'] = tfidf_knnpreds_test\n",
    "\n",
    "# Identify false positives\n",
    "false_positives = y_test[(y_test['deleteReason'] == 0) & (y_test['predicted_labels'] == 1)]\n",
    "\n",
    "print (false_positives)"
   ]
  },
  {
   "cell_type": "code",
   "execution_count": 70,
   "id": "a710b2dc",
   "metadata": {},
   "outputs": [],
   "source": [
    "false_positive_indices_list = false_positives.index.tolist()"
   ]
  },
  {
   "cell_type": "code",
   "execution_count": 89,
   "id": "6c29aa21",
   "metadata": {},
   "outputs": [
    {
     "name": "stdout",
     "output_type": "stream",
     "text": [
      "7546                                                                                 @Donahta_ Where’s the Body??? iPhone anyway\n",
      "10273                                                                   @notcapnamerica @Im_X1 White Christians are so loving...\n",
      "9212                                                                   RT @dynananakook: Want the link?😏 https://t.co/GxB8NNQaiq\n",
      "2142     RT @UToledo: Our second undergraduate commencement starts soon. Stream live at https://t.co/qVh9yq4FEW #UToledo22 ht...\n",
      "5025                                                                             “Ask that nigga if he ever been hunted” 😭😭😭😭😭😭😭\n",
      "8567                                       RT @VoltInuOfficial: #VOLT &amp; burn all day forever ⚡️🔥\\n\\n#VOLTINU $VOLT #VOLTARMY\n",
      "10674                                           I said the same thing 😂😂😂😂😂😂 them outfits be pure trash. https://t.co/ny73sv1vy9\n",
      "9089                                                                    RT @_Savage__boi: Only in Brazil https://t.co/VHlp7WVBB7\n",
      "6535                                                           @elonmusk @SpaceNews_Inc Rockets be like… https://t.co/ugjWjovUxA\n",
      "4436     RT @TomJChicago: Stupid comments saying how Trump could declassify top-secret information show how badly we are will...\n",
      "4816                                                  being spoiled by everyone in your life just will have you in la la land 😭😭\n",
      "6659                                                                       RT @vincestaples: Atlanta is over. A nigga might cry.\n",
      "9758                                                                                          i dead ass can’t make this shit up\n",
      "3095                                                                                          @valenestevez13 men, not even once\n",
      "2034                                                                                                           “Karma’s a bitch”\n",
      "4980                                                            RT @wowinteresting8: Strategy vs tactics https://t.co/LmvXY5pIQx\n",
      "10626                                                                                            @inzyrashid Muslims need to go.\n",
      "Name: Text, dtype: object\n"
     ]
    }
   ],
   "source": [
    "false_positive_records = df.loc[false_positive_indices_list]\n",
    "pd.set_option('display.max_colwidth', 120)\n",
    "pd.set_option('display.max_rows', 200)\n",
    "print(false_positive_records['Text'])"
   ]
  },
  {
   "cell_type": "markdown",
   "id": "58e91b2d",
   "metadata": {},
   "source": [
    "### There is nothing worth noting in this list. What about false negatives?"
   ]
  },
  {
   "cell_type": "code",
   "execution_count": 72,
   "id": "34a1991b",
   "metadata": {},
   "outputs": [],
   "source": [
    "false_negatives = y_test[(y_test['deleteReason'] == 1) & (y_test['predicted_labels'] == 0)]"
   ]
  },
  {
   "cell_type": "code",
   "execution_count": 73,
   "id": "3ae1d955",
   "metadata": {},
   "outputs": [],
   "source": [
    "false_negative_indices_list = false_negatives.index.tolist()"
   ]
  },
  {
   "cell_type": "code",
   "execution_count": 90,
   "id": "b62ca5a4",
   "metadata": {},
   "outputs": [
    {
     "name": "stdout",
     "output_type": "stream",
     "text": [
      "8656                       @solarbrad63 @yaf @KristanHawkins there are male bodies and female bodies and there are mental people\n",
      "9117     @isarah1234 @ShefVaidya @Haqq_Aysha The hate game we are playing acha.jst see we are fifth largest economy soon we w...\n",
      "7207                                            @ChadxMichael @popiridescence Comparing Miley to the other fat bitch is insane 😭\n",
      "5148                             @MarkRuffalo @juliette Where da fuck u vote,Mr. Ruffalo?\\nLet the brazilians alone, gringo! 🖕🖕🖕\n",
      "7430     @DonaldJTrumpJr If you think Herschel Walker would be a good Senator; you might be a redneck.  If you think Herschel...\n",
      "9649                                                                                            @Resist_05 Shoot this MOTHER fer\n",
      "6570                                                                                                             @jqsviii mstate\n",
      "6278                                       @stoopidboi A male prostitute, Astagfirullah. May you suffer in jahannam, degenerate.\n",
      "5528     @RichardOPA01 @TBattallion Whatever you’ll do when obi becomes President, start now. If na to relocate or hang yours...\n",
      "6058     @Sexnotgender @jjswin @titchytiger @JaneSymons1 @Channel4 It was a copycat performance of something Bo Burnham did m...\n",
      "8545                                                                                            @stillgray Somebody jab this guy\n",
      "4434                                                                       @Reuters We pray he lose his head too… we dont care..\n",
      "7658                                                                                        @mirrorballr literally k!ll yourself\n",
      "10108    @FluffyF61323022 @MikeAtCozy @sneako Imagine acting like yall didnt do that. The difference is that we dont want you...\n",
      "8884                              @TheTorontoSun @healthing_ca Just say it, white heterosexuals need to be erased from existence\n",
      "7248                                            @CollierColLABr8 @CollierES Hope dem 3rd graders fall down and break there nose.\n",
      "6497                                                                                                 @Dra_Deolane MORTE DO KEVIN\n",
      "10314                                                                                                 @KevinAdams26 Let him fall\n",
      "5793     @el_bonga You can die now bro, Peter Obi has visit Sheik Gumi and I still wish him to visit more of Gumi so I can se...\n",
      "5263                                                                         @yrstrk @lcvesdobrev I have a sugardaddy message me\n",
      "7934                                                            This is the content Instagram is missing https://t.co/H39lym4bTL\n",
      "5984                                                                              @JackPosobiec I would have cut there hands off\n",
      "6898                                                         You neegas.....🤣🤣🤣🤣 https://t.co/a3pzuTcHm5 https://t.co/op1VfJ43Xv\n",
      "1037                                                                        Shtwt how do u get your bandaids/bandages to sick???\n",
      "7607     @toaster3331 @SuperLazyBoss @Dmpet2020 @Gracie47302358 @Observe2175 @CrystalHope1979 @elonmusk I'd snap both of you ...\n",
      "4044     @darianeskin ah yes russias history of commiting multiple genocides so proud of ur country 😍😍😍😍 bitch go to school e...\n",
      "5599                                                                 @Reuters Should’ve been executed the day after the shooting\n",
      "8484                                                        #รับงานสมุทรสาคร \\n#รับงานมหาชัย ID: milk6y🍼 https://t.co/aT2YF2eiJw\n",
      "4979     @kevindavis338 @GregWAutry @GundamNorthrop I got a Falun Gong cult member replying to my tweets! Why are you so scar...\n",
      "4444                   @adarshnair480 @ashupasu @Iamsanjusingh1 You really lack sense. Go to a school at least if not a college.\n",
      "9469                                                           @rilomem @wyattreed13 Delete your life with along with this tweet\n",
      "7372     @Jethalal_gada56 @SamJame91525183 @ActorMadhavan There is no ashame loving rice coz humans love that but it is very ...\n",
      "5989                                                                  @UrExFactor I am going to push you down a flight of stairs\n",
      "4988                       I would seriously love to have rampant sex with @carolkirkwood, those big titties are sensational 😈😈👅\n",
      "5532                                                                    @JustStop_Oil @JKSteinberger I would just drive over her\n",
      "4509                                                                     @TheyHateDej Unless your pussy good then ima Spain back\n",
      "4780                          @TST__Radio Leave it to scum like you to disparage the unfortunate. Way to punch down, you coward.\n",
      "5169                 Line : https://t.co/DqM6xjlNQK 🍒 \\n\\n#กรุงเทพนัดเย็ด #รังสิตนัดเย็ด #รับงานปทุมธานี https://t.co/eAa4A5OmMC\n",
      "6233     @Bianca17737904 @digotmp @jayerotika @arahthequill @thefabianorg ain’t u dick eating 3 Stacks? Malcom ain’t coon-don...\n",
      "4838     @escuadradenise1 Would you like to be my sugar baby and someone I can talk to, $500 twice a week for groceries 🥰 if ...\n",
      "7654                                           @tanischri @emeriticus Guess you’d better stop eating pork and start stoning gays\n",
      "6917     @Halo6Better So just let the far-right scum pass on this with no criticism of whipping up homophobic and transphobic...\n",
      "1728                                                                               @zoo_bear Cut his private parts into pieces..\n",
      "8527     glowing a little bit under the warm yellow light.                                                                   ...\n",
      "4701     @TheCradleMedia I hope they get shot. Yemen should send them back in body bags, with a message saying \"they tried an...\n",
      "9762     @FightHaven N…gers will be , well you know ni…ers and if this is how you behave and you expect not to get stereotype...\n",
      "6350                                                                       @HillaryClinton When is Dave depape getting suicided?\n",
      "5987     I🏨 INCLUDE / EXCLUDE ROOM\\n➡️ Terima Panggilan Hotel\\nDm/ https://t.co/ha3M86oUY3\\n#availmakasar \\n#Bomakassar \\n#wp...\n",
      "7675     @BIG_chikin @jsrailton Craig pls stop the dickri ding for a moment and sh*t T fkc up. Also go on your search bar and...\n",
      "1153                   @FightStreetEpic I don't blame him I would have punched that bitch too They want equal rights she got it!\n",
      "9771                      @Uhah1_ @tom_lindsay @CormackJK9 @jakepaul @MostVpromotions Tom on the weekend https://t.co/jPt59o4JNn\n",
      "9810     @khanumarfa Just a normal day for GB road sex workers. I don't know how can people hate them that much to compare th...\n",
      "6906                                                                            @NEWSMAX Hoping you suffer a horrific demise !!!\n",
      "8395                                  Return to the essence of life   #南京按摩  #深圳Spa  #成都按摩  #南京SPA   #南京 https://t.co/Aps357fniY\n",
      "10682    @JackPosobiec Looks like a redneck Walmart convention. Ironic they would support a philandering one time billionaire...\n",
      "4560     \"Hey goy, my study made by Jews, peer reviewed by Jews says that we need to destigmatize pedophilia, goy. Stupid goy...\n",
      "10760                                          @acidmindmelt @70sGreat Lmao read the article it said nothing about Kawhi dumbass\n",
      "8147                                           ☀☀The implication of Fubo is that #珠海  #珠海spa #珠海按摩 #珠海养生 https://t.co/hEnh7wyaMZ\n",
      "8612                                            Keep your body warm   #成都按摩  #北京Spa  #天津按摩  #成都SPA   #成都 https://t.co/3sToHIShYz\n",
      "6159                                    @RepLeeZeldin Yeah! Drink bleach &amp; let the light in, like Trump said. Right Lee??  🤡\n",
      "6950                                                                                   To book or enquire call \\n 📞 01224 639600\n",
      "1205     @mcshivanisen My friend was abandoned by his wife for not earning as much as she wants, and later she also filed fal...\n",
      "9266                              @willieholland12 @MicahhParsons11 Put your mouth over the barrel of a 12g and pull the tr!gger\n",
      "10159    While the #CommonwealthDay is celebrated in Cameroun, let these pictures remind the @FCDOGovUK @CPA_Secretariat @10D...\n",
      "5322     @A_Abby_Abi Kill all Nigerian politicians and bless them with a good leader from Tier one counties and pick some fro...\n",
      "6300     @BarcaUniversal Guy needs to be shooting...\\nGiving unnecessary passes where he can aim the goal frustrates! The edg...\n",
      "9792     @danthehangman Your dirty mouth need to bleach, hopefully next person you fight broke your chin. #Makhachev @dantheh...\n",
      "7352     @TeniEntertainer I know of someone his name is ebeli Tony,finished secondary but couldn’t further his education, 081...\n",
      "4437     @GoatsBull @TheRealKeean This anal swab cockroach would not want to come to my town ! He would be squashed like the ...\n",
      "4526     Just woke up and went straight to @BLACKPINK account to find the teaser 😑. Istg whover the intern I hope you get dia...\n",
      "9341                                                                          @JaredBohan @dennistlin Stop stalking me fkn queer\n",
      "9954          @philantopical @NickyvanOrt @neatz_notso @SamanthaRatnam This guy will agree with you 100% https://t.co/O8U3yf36I5\n",
      "8879     @Leenintome2 @incognitoent1ty @SreyanSarkar5 @C3sar_23 @Cobratate Yes, that was until actually tonight!\\n\\nWhen over...\n",
      "4709     @the_moviebob If Trump has a debilitating stroke or eventually does a perp walk — or even after he dies (god willing...\n",
      "10504                                                   @OldRowSwig @TPAction_ You see what Democrats do https://t.co/4EmHTlBuyh\n",
      "4831     @brodamickey Our parents told us. That's how norms, values, beliefs etc are passed from generation to generation. So...\n",
      "5186     @joncoopertweets Typical demorat, if you don’t agree with me then you must be fired, hanged whatever.  I’ll bet the ...\n",
      "6338                                                                        @swimmerbr78 go put these on https://t.co/imOURYqmhy\n",
      "6136     @favoritebob1 @TheMelyssaK @RealPresence1 @hmorley29 @ananavarro Oh yeah? \\n\\nWhat’s his position on Fracking? \\n\\nW...\n",
      "10076                     @liberalbee @Thumperjoey68 😂😂 gay people are mentally ill this is literally natural you people I swear\n",
      "4620                                                                                 @TheAVClub Guillotine Zaslav and we’ll talk\n",
      "7854                                  @gyeomsdog I can be lying about anything why do u automatically assume i’m bitchless Kky s\n",
      "7977                                                                                     @ajaxcalss very dull sharpener blade 🧍🏻\n",
      "10714      @OrangyCar @CrikeyFella @IamFshirly @NoFreedomInPRC @Richard46816941 Just stating facts lol 😂 https://t.co/ZlPlbbrnJs\n",
      "5751     i’m actually extremely shook up from lrt i’m venting about it on private but i wish all men a very brutal minecraft ...\n",
      "5733                                                                                @RebelsAnimal @waitrose Show us your udders!\n",
      "8358     @Ayaz_Ind @narendramodi @PMOIndia What they have done ? I think you don't know the religion of terr orists. They are...\n",
      "8617                                                 Jesse Aldridge Dominic Clement #西安 #南昌 Kay Aldridge https://t.co/i9TdaUvLkv\n",
      "9928     @simon_ekpa @SecBlinken Nnamdi Kanu never instigated Igbos against fellow Igbos, no matter the provocation. One day,...\n",
      "8301     won’t get shown on RTE diversity at its finest these people do not diverse dogs in the street know that there Eritre...\n",
      "10885                                                                                  @RebsBrannon Nasty hood rat shaky b*tches\n",
      "9617     @syno_is_me @cocainebear @GameStopNFT When are you going to commit suicide? We are waiting and our patience are runn...\n",
      "5150                                                                             @PKnoepfle @RubenGallego Nice ukraine flag fag.\n",
      "4858                                                   @HotstuffHiker @No__negativtyxd Just like this. 😂 https://t.co/Uo3WDexlCp\n",
      "5726     @MikebHavin @kylschul @CPD1617Scanner Nah this hood rat didn’t even has his gum drawn run his black ass over , back ...\n",
      "1202     Practising self discipline is so important I can’t stress it enough, just put food in front of you and don’t eat it!...\n",
      "4817                   @GovWhitmer Spoken like the bloodthirsty wench you truly are. Adrenochrome is temporary. Hell is forever.\n",
      "4417     @QuaresePatriot @utgofan kill one of the krajnan immigrant and we levanians will sent an m60 osveta missile right at...\n",
      "7641     @CBTHunting @PeterEgan6 @EdGoncalvesCBTH @SirRogerGale @HenrySmithUK @ConservativeAWF @DefraGovUK @UnitingAfricans @...\n",
      "7456     @bridget123goooo @MuellerSheWrote Who responds that way? Wouldn’t you just delete tweet; delete account; turn off ph...\n",
      "1770                                                              IN ADOLF HITLER'S GLORIOUS NAME I COMMAND YOU TO KlLL YOURSELF\n",
      "8434                                                       @Gus_preston @sophiasgaler What's your point? https://t.co/syh1UjyZbR\n",
      "6916                                       @farzyness @Tesla @elonmusk you can quit if you dont like it you liberal scum bag fag\n",
      "7986                                               @RealSethArmes Go live in Russia and die of AIDS there if you love it so much\n",
      "7644                                        @webster I wonder how farthis goes? (N628TS, N272BG, N502SX) https://t.co/ZuR03HvSv0\n",
      "2181     @zardanadampro @harmonyprotocol You can chat up there admin on telegram So he could answer your questions or resolve...\n",
      "8986                                                                                            @TheFreds Should’ve run over her\n",
      "8909                     @Bruce_WayneJr @ToadSprockett @joncoopertweets Yes anyone would see you’re a redneck white supremacist.\n",
      "9146         @MCU_Direct Tldr: \"look at me, I'm trans\", \"look at us, we put a tranny in our lineup so you will spend more money\"\n",
      "4058                                                                               Ellen Page is a woman.\\nCan't change science.\n",
      "6250     @JustinTrudeau Omg you trust that lady with our money? You guys are ruining Canada. You two need your heads knocked ...\n",
      "9354                                                                         @SamuelErz @chartdata @Harry_Styles Khill yore self\n",
      "6811     Most Trans-identifying males appear to be driven by a fetishistic heterosexuality known as autogynephilia (AGP).\\nTh...\n",
      "6965                                                           @rustordeath personally i think we should light all terfs on fire\n",
      "5666                                                                                                           @BWallaceMP Gimp.\n",
      "7093     @blakeflayton Independence from who?   You incite hatred.   It's more important for you to be a Jew than to be a hum...\n",
      "5641                                                                                               @SkyNews Cut off their ears 😁\n",
      "6862                                                              @Ticketmaster I hope u fall of a cliff and snap ur fuckin neck\n",
      "8177                                                                                                       @emehily k1llyours3lf\n",
      "9885     @UchePOkoye U and ur entire generation will cry till the kingdom comes and Tinubu will still be ur president. \\n\\nIf...\n",
      "7875     @JohnBarronMill3 @AntBoiwastaken @BullTrapper2 @HarrisonKrank @elonmusk @DefiantLs @Lukewearechange Ratio + L + shov...\n",
      "1027     @UTDFrankie What the hell has an OG got to do with anything?? How old are you? An OG doesnt mean you get dropped!! A...\n",
      "10680    @brinasfault You Brazilians love to be contradictory every time you talk your sh1t and then you say you don't. You m...\n",
      "6900     @bjoewolf Let me tell you darling, the homosexual lifestyle kills far more homosexuals than acts of violence against...\n",
      "8875                                                                                                     @sh3ita ferme ta chatte\n",
      "6111     @Alveenaagha Yes mam but just look at the wound this is clearly from a large calibre sniper rifle https://t.co/XxZlp...\n",
      "7842                                                                       @sarahschauer listen to Peek-A-Boo to kill all men ♥️\n",
      "6782     Criaturas \\nCuenta nueva \\nMe ayudan con un RT 🙏 por favor\\nYa saben solo CDMX\\n5️⃣6️⃣1️⃣5️⃣7️⃣2️⃣6️⃣1️⃣3️⃣7️⃣\\nÚnic...\n",
      "8932                                          You dont have to 2770. change a single thing \\n#保山 #丽江 #临沧 https://t.co/rEZxvq0Hvw\n",
      "5004                                                                       @KarlTowns where you at slut? https://t.co/5qNw32rXm1\n",
      "1197                                                    @onlylaimarie I wish you’d just come &amp; wrap your legs around my face\n",
      "10526    @NewsNation If the killer's manifesto specifically says she/he was targeting a Christian academy to coincide w/ the ...\n",
      "2081     @martinplaut Your trepidation is identical to your late idol, Melles’, when the Bisha gold mine was readying for pro...\n",
      "10784    @BACKcuzYallPusc @itsKenBarbie I love how you added quotes that misquoted what I said lmaoooo typical fan behavior. ...\n",
      "6731     @RepMTG What it is.. is YOUR PARTY SUCKS AND PEOPLE ARE TIRED AF OF YOU..YOUR LIES ABOUT ELECTION AND ALL YOUR CRAP....\n",
      "10496    We regret the inconvenience you have . Request you to share your contact number via DM and we shall get in touch wit...\n",
      "6224     @robbystarbuck January 6th was a setup by the deep state. \\nFree the January 6 prisoners!\\nCovid 19 is a biological ...\n",
      "425      @BevSutphin78 @MethyNurse @catherinenunya @CancelFascism @ScottBaio Because I wanted to pay your Father extra or is ...\n",
      "7527                                                                     @VenusOneechan @matt_rodrii @InternetH0F Lick my nuts 😜\n",
      "10579                                                                    Thanks for the heads-up cupcake https://t.co/PBdQunik8V\n",
      "Name: Text, dtype: object\n"
     ]
    }
   ],
   "source": [
    "false_negative_records = df.loc[false_negative_indices_list]\n",
    "pd.set_option('display.max_colwidth', 120)\n",
    "print(false_negative_records['Text'])"
   ]
  },
  {
   "cell_type": "markdown",
   "id": "1d2c41d4",
   "metadata": {},
   "source": [
    "### And finally, true positives"
   ]
  },
  {
   "cell_type": "code",
   "execution_count": 75,
   "id": "288e2c64",
   "metadata": {},
   "outputs": [],
   "source": [
    "true_positives = y_test[(y_test['deleteReason'] == 1) & (y_test['predicted_labels'] == 1)]"
   ]
  },
  {
   "cell_type": "code",
   "execution_count": 76,
   "id": "47b1e8d2",
   "metadata": {},
   "outputs": [],
   "source": [
    "true_positive_indices_list = true_positives.index.tolist()"
   ]
  },
  {
   "cell_type": "code",
   "execution_count": 91,
   "id": "e408c065",
   "metadata": {},
   "outputs": [
    {
     "name": "stdout",
     "output_type": "stream",
     "text": [
      "8007     @AmazonEve @TPostMillennial Homosexuality used to be called a mental disorder. Is pedophilia a neurological conditio...\n",
      "9265                                                                                                @Malorisa_ Kys, thats my kid\n",
      "7599     🎥Live Streaming\\n\\n⚽Argentina vs Croatia\\n\\n📺Live Streaming👉 https://t.co/uV8EaqYLON\\n  \\n📺Live Streaming👉 https://t...\n",
      "6175                                                                                         @AaronParnas Should be put to death\n",
      "4828                                                                   🎶 Potter your a cunt, your a cunt..  Potter your a cunt 🎶\n",
      "5735                                                                  @MattHancock @bbclaurak Kill some old people in care homes\n",
      "7800                                                                        @a_cup_of_sugar_ @AnxietySong Step down from a cliff\n",
      "8231                                                                    @Chinedu_Nlem @3bood021 @MBuhari Then go and kee ur self\n",
      "8215                                                                                 @umikyuu @Doggoking310 @fearnotism ok nigga\n",
      "7460                                @TOIMumbai The accused should be punished severely in the same way burn his ass with cigrate\n",
      "7534                                  @AbayomiAwotola @sensegiver1 @realFFK You deserve nothing but a resounding slap. Non-sense\n",
      "7216                                                                                @jordanbpeterson Chemically castrated I hope\n",
      "7390                                                                                                 @ishowspeedsui Nigga monkey\n",
      "8443                              @HectorV60883335 I’m down for hookup and body massage inbox me private if you are interested 😍\n",
      "7400     #Japan #Croatia #JapanVsCroatia #JPN #CRO #Qatar2022 #FIFAWorldCupQatar2022\\n\\n🎥Live Stream\\n\\n📺 Japan Vs Croatia\\n\\...\n",
      "7145     ◑ ON LINE ◑\\n\\nBrazil vs Switzerland🔭\\n\\nLive STREAMING HD\\n\\n 📺(((Live Stream)))) 📺↓↓↓↓\\n\\n▶LINK1➻ @redeAdd\\n\\n▶LIN...\n",
      "7904                          @TheRealBroChris 🤣\\n\\nA womanizing sexual deviant and Russian hag whore. Yes, so very “Christian”.\n",
      "7252     #TUNFRA #TUNvFRA  #FIFAWorldCup\\n\\n🅻🅸🆅🅴ᴴᴰ\\nFrance Tunisie en direct gratuit\\n\\n🔗Live Link=&gt; https://t.co/S5Y4deH7...\n",
      "4790                   Massage sex now what'up \\nDoha Home massage \\nWhatsapp：+97431248197\\n#dohamassage https://t.co/UDzeP7y2Wh\n",
      "2104     Massage full service in Mahboula Kuwait \\nChattingWhatsApp:❤❤\\nhttps://t.co/cM3uC8wf1u\\n#massage_in_kuwait \\n#massag...\n",
      "7293     Hi everyone😘\\nSex in Riyadh 💋💋\\nBody to body massage 😍\\nSucking, fucking 😋😋\\nAnus lick\\n\\nhttps://t.co/aLvg4c3usj\\n\\...\n",
      "2186     @elonmusk Don’t shoot yourself multiple times in the back of your head in an isolated place. It makes the Successful...\n",
      "10691                                                                                           @mchooyah stormy is a true whore\n",
      "9587                                                                                                     @aimeeterese KYS coward\n",
      "7256     💥⚽Footbal Stream Live TV &amp; Sports🤛⚽\\n📺watch FIFA Live🔴\\n🆚Tunisia 🇹🇳 VS France 🇫🇷  \\n🔴𝐋𝐢𝐯𝐞 𝐋𝐢𝐧𝐤:▶https://t.co/5Qy...\n",
      "6551                                                                                        @RlPSharp @xKrabsss Kys hope you dxe\n",
      "7823          @charliekirk11 Since they are a minority anyway, they deserve a good purging.  It would be a cathartic experience.\n",
      "5634     @newsmax While he does deserve the death penalty, this punk bitch has 60 years of being gang raped in the showers to...\n",
      "8498     #DatingRiyadh \\n#Dating-and-massage \\n#Dating-and-massage-in-vip\\n#massagefullservice in riyadh\\n#MassageFullBodyMas...\n",
      "8967     @whiotv All of you on here like “well this person died “ an “this congressman that Congress woman” .Someone could be...\n",
      "7719     All any of you and the rest of that white trash have shown is that you are racist gutter trash. @piersmorgan all thi...\n",
      "9387     @PolitiBunny @TrollingIsDumb @AdamKinzinger @elonmusk So you are effectively little more than a cyberbully? Good to ...\n",
      "5078     @SaadKhan1115 @ArslanM24471864 @toisports @BCCI Slut kid your country is a terrorist country 🤣🤣🤣🤣 and most wanted te...\n",
      "4830                 @daredevilgaurav Only a son of whore will defend whores. Indians get salty when we criticize whore culture.\n",
      "10413    @insanemustangs @TuckerCarlson So he licks Trumps boots for money and secretly hates him..yeah I think anyone with c...\n",
      "8600                                              @hevezzyy You put cha trust ina n*gga stupid hoe how you figuaaa 😂😂 khia voice\n",
      "7595     Live stream Here  👇💙\\n\\n⚽️🅻🅸🆅🅴:➤ 🏆 FIFA World Cup 2022\\n⚽Argentina 🇦🇷  vs  🇭🇷 Croatia \\n\\n🔴𝐋𝐢𝐯𝐞 𝐋𝐢𝐧𝐤 📺https://t.co/g...\n",
      "7110     #FIFAWorldCup #CMRSRB #CoupeDuMondeFIFA\\n\\n🔴🅻🅸🆅🅴\\nDIRECT..MATCH@!!..Cameroun Serbie En Direct\\n\\n🔗Live Link=&gt; htt...\n",
      "9157     @humble_swanky @TheTruthPanther Go jump off a cliff chief ungazosnyela la nabangan bakho enikaka nabo e straadin. Th...\n",
      "5594                                                                                                    Kys if u voted for b*den\n",
      "9896                                                                                    @WUTangKids I want to kick her dads butt\n",
      "6469     @khalil33n Available for girls of Syrian, Saudi, Moroccan, Filipino nationalities Services (Moroccan bath, Swedish m...\n",
      "8765     @adjnszales @elonmusk Lead by example, reduce your carbon footprint and jump off a cliff. If it goes well, maybe we ...\n",
      "9858                                                                                    @theMadridZone That man deserve beatings\n",
      "9260                                                @lavern_spicer @ZelenskyyUa @POTUS Cope and seethe you decaying stupid bitch\n",
      "7972                                                                                                    @NewsM101 Mental illness\n",
      "6070     Massage in dubai 🥰💗\\nMassage body to body\\nMassage in hotel🤩🥰😇\\nMassage in marina😍❤\\nMassage in downtown 🥰\\nMassage ...\n",
      "8439     #massageindubai  Massage in hotel 🏙🏛💥t #body to body💋🦋♥️..mm Massage full #Services 💥🤩😍 #Incall and #outcall 🏖💧💧  ht...\n",
      "9182                                                                                              @omartpkt @kenzie2silly ok kys\n",
      "4617                                                                                           @Glazerspissoff Glazers gonna die\n",
      "9302                                                                                           @KariLake @JDVance1 Stupid wench.\n",
      "9726                                                                                                     @ChessyHour kay why ess\n",
      "7598     🔴[LIVESTRIM]🔴\\n\\nArgentina vs Croatia Live macth\\n📺Live Stream👉 https://t.co/JqiVUA9UdO\\n\\nArgentina vs Croatia Live...\n",
      "8907                                                                                                           @itsyozu_ Suicide\n",
      "4487                                                                                        @NeuronaSV death to \"Salman Rushdie\"\n",
      "7137     IFA World Cup 2022 Live Streaming Link\\n\\nBrazil vs Switzerland Live \\n\\nIf Stream Stops 🔔\\n🔴𝐆𝐨 𝐋𝐢𝐯𝐞📺 https://t.co/R...\n",
      "9926                                                       @melaniejoly Why you cunt't select other option?\\n\\nWhat about PEACE?\n",
      "5259                                  Massage body to body and happy ending Dammam and Khobar 0547648095 https://t.co/AxwT4ybnZL\n",
      "9101                                                                                                             /kill @JoeBiden\n",
      "6329     Massage full service in Abu Dhabi WhatsApp +971523633586\\nhttps://t.co/vzi1TcLrQM\\n#massage_abu_dhabi \\n#massage_ful...\n",
      "7452     @goochick @Esqueer_ I hope he actually does something against LGTV for once. It's because she's bi that she cut hers...\n",
      "5996     @econcents @JeffJrichards91 @MBryanOK @GovStitt @sec_walters Maybe cause trans shit is a mental illness and shouldn’...\n",
      "1078                   Massage in Riyadh now 💆massage body to body 🍑💆https://t.co/dPuDrGPpzl #قمر_الليله https://t.co/i6CC1NJ4nh\n",
      "7402     Match ❁ Brazil vs South Korea \\n\\nWATCH||#️⃣🔴 #FIFAWorldCup #Qatar2022 #قطر_السينغال \\n\\nLive stream links↓↓↓ \\n\\nLi...\n",
      "8288                                                                                      I'm hot 🤪😜 kill yourself emiru 🤪🤪🤪😜😜😜😜\n",
      "10353                                                                                             @ClownWorld_ Go kill yourself.\n",
      "8559                                                                                                     @PsychoSaikou nigga die\n",
      "7328                                                                                           @PelosiTracker_ Stfu stinky bitch\n",
      "6023     @King__Solomon__ @tariqnasheed If you want to be a coon, be a coon. Stop using Tariq as a prop to justify your close...\n",
      "7967     @POTUS If only they would've trusted the science huh? Just like we trust the science and can say there is 100% no ch...\n",
      "8424                                                                             @Blue_Breed You Kys now https://t.co/k07JW5EeJk\n",
      "6944                                                                      @NeverTrumpTexan @binnahar85 Go suck on a rainbow dick\n",
      "5397              @MattyParks12 @WyattSchaefer7 @EelWayne @CoastalBendBern @JoshuaPotash matt parks more like fat farts kys scum\n",
      "9113                                                                                      @xemelysevilla @fishyinthesea4 kys lol\n",
      "7603     WORLD CUP LIVE: Argentina Vs Croatia Live ​Messi Di Maria Modric Coatie #TwitchRecap #ArgentinaVsCroatia #ARGCRO  #f...\n",
      "8156     @MrAndyNgo @AlissaAzar Death penalty upon conviction. Electric chair or firing squad.  Either way to take the Nazi b...\n",
      "7142     [[Live]]\\n\\nWatch FIFA World Cup 2022 Qatar Live\\n\\nBrazil vs Switzerland Live Stream\\n\\n🔴 Live Stream 📱▶ https://t....\n",
      "6421                                                      @yoonchip I don’t know but mozzies should just all die their pointless\n",
      "10616                                         @RickeySmiley Negro please that hoe for the streets aint no sticking around for me\n",
      "5565                                                                 @instablog9ja Omo 2023 go choke.....LP,,, #Obidiently ready\n",
      "7119     #FIFAWorldCup #CMRSRB #CoupeDuMondeFIFA\\n\\n🔴🅻🅸🆅🅴\\n[DIFFUSION/TV!*] Serbie Cameroun Match En Direct\\n\\n🔗Live Link=&gt...\n",
      "11019                                                                                      @MinaMendesTTV He isn’t wrong you hoe\n",
      "8538                                                                                 @Maggot_Edits Death to men and TRANS RIGHTS\n",
      "5635                      @robreiner He sure likes to tease the DOJ…let him go right ahead given enough rope he’ll hang himself!\n",
      "9864                     @KeithOlbermann @SpeakerMcCarthy @TuckerCarlson its time for u to jump off a bridge and leave us alone.\n",
      "7361                                                                                     @TogieTogedemaru @HYPEX Die immediately\n",
      "7185                           @RehamKhan1 To ab hum apko kia kahe Slut ya National Internationale ....🖕 https://t.co/ITcELeuH8B\n",
      "7474                                                                                            @imaIacat Hoe can i help you hoe\n",
      "7000                                                                               kill yourself... now! https://t.co/a9Fc0gIYic\n",
      "Name: Text, dtype: object\n"
     ]
    }
   ],
   "source": [
    "true_positive_records = df.loc[true_positive_indices_list]\n",
    "pd.set_option('display.max_colwidth', 120)\n",
    "print(true_positive_records['Text'])"
   ]
  },
  {
   "cell_type": "markdown",
   "id": "50dcb58c",
   "metadata": {},
   "source": [
    "### In general, I argue, relative to the false negatives, the true positives are bit more vulgar and have a tone of hate speech and threats, but there are still definitely tweets in the false negatives that should be considered in violation of Twitter's rules."
   ]
  },
  {
   "cell_type": "markdown",
   "id": "3c53925d",
   "metadata": {},
   "source": [
    "# Model 4 - Kmeans Clustering"
   ]
  },
  {
   "cell_type": "code",
   "execution_count": 78,
   "id": "08666c7e",
   "metadata": {},
   "outputs": [],
   "source": [
    "from sklearn.cluster import KMeans"
   ]
  },
  {
   "cell_type": "code",
   "execution_count": 79,
   "id": "3edc6df3",
   "metadata": {},
   "outputs": [
    {
     "name": "stderr",
     "output_type": "stream",
     "text": [
      "C:\\Users\\madec\\anaconda3\\lib\\site-packages\\sklearn\\cluster\\_kmeans.py:870: FutureWarning: The default value of `n_init` will change from 10 to 'auto' in 1.4. Set the value of `n_init` explicitly to suppress the warning\n",
      "  warnings.warn(\n"
     ]
    },
    {
     "name": "stdout",
     "output_type": "stream",
     "text": [
      "[2 2 2 ... 0 0 0]\n"
     ]
    }
   ],
   "source": [
    "# Create a KMeans instance with 3 clusters\n",
    "kmeans = KMeans(n_clusters=3, random_state=111)\n",
    "\n",
    "# Fit the model to the TF-IDF matrix\n",
    "kmeans.fit(vectordf_tfidf)\n",
    "\n",
    "# The cluster labels for each data point (document) in the TF-IDF matrix\n",
    "labels = kmeans.labels_\n",
    "\n",
    "# Print the cluster labels\n",
    "print(labels)"
   ]
  },
  {
   "cell_type": "code",
   "execution_count": 80,
   "id": "bb7e8548",
   "metadata": {},
   "outputs": [],
   "source": [
    "# Cluster centroids\n",
    "centroids = kmeans.cluster_centers_"
   ]
  },
  {
   "cell_type": "code",
   "execution_count": 81,
   "id": "d7b16d85",
   "metadata": {},
   "outputs": [
    {
     "data": {
      "text/plain": [
       "(3, 38293)"
      ]
     },
     "execution_count": 81,
     "metadata": {},
     "output_type": "execute_result"
    }
   ],
   "source": [
    "centroids.shape"
   ]
  },
  {
   "cell_type": "code",
   "execution_count": 82,
   "id": "dc43fb19",
   "metadata": {},
   "outputs": [],
   "source": [
    "documents = text.index.tolist()"
   ]
  },
  {
   "cell_type": "code",
   "execution_count": 83,
   "id": "57bfb1c8",
   "metadata": {},
   "outputs": [
    {
     "name": "stdout",
     "output_type": "stream",
     "text": [
      "[0, 1, 2, 3, 4, 5, 6, 7, 8, 9, 10, 11, 12, 13, 14, 15, 16, 17, 18, 19, 20, 21, 22, 23, 24, 25, 26, 27, 28, 29, 30, 31, 32, 33, 34, 35, 36, 37, 38, 39, 40, 41, 42, 43, 44, 45, 46, 47, 48, 49, 50, 51, 52, 53, 54, 55, 56, 57, 58, 59, 60, 61, 62, 63, 64, 65, 66, 67, 68, 69, 70, 71, 72, 73, 74, 75, 76, 77, 78, 79, 80, 81, 82, 83, 84, 85, 86, 87, 88, 89, 90, 91, 92, 93, 94, 95, 96, 97, 98, 99, 100, 101, 102, 103, 104, 105, 106, 107, 108, 109, 110, 111, 112, 113, 114, 115, 116, 117, 118, 119, 120, 121, 122, 123, 124, 125, 126, 127, 128, 129, 130, 131, 132, 133, 134, 135, 136, 137, 138, 139, 140, 141, 142, 143, 144, 145, 146, 147, 148, 149, 150, 151, 152, 153, 154, 155, 156, 157, 158, 159, 160, 161, 162, 163, 164, 165, 166, 167, 168, 169, 170, 171, 172, 173, 174, 175, 176, 177, 178, 179, 180, 181, 182, 183, 184, 185, 186, 187, 188, 189, 190, 191, 192, 193, 194, 195, 196, 197, 198, 199, 200, 201, 202, 203, 204, 205, 206, 207, 208, 209, 210, 211, 212, 213, 214, 215, 216, 217, 218, 219, 220, 221, 222, 223, 224, 225, 226, 227, 228, 229, 230, 231, 232, 233, 234, 235, 236, 237, 238, 239, 240, 241, 242, 243, 244, 245, 246, 247, 248, 249, 250, 251, 252, 253, 254, 255, 256, 257, 258, 259, 260, 261, 262, 263, 264, 265, 266, 267, 268, 269, 270, 271, 272, 273, 274, 275, 276, 277, 278, 279, 280, 281, 282, 283, 284, 285, 286, 287, 288, 289, 290, 291, 292, 293, 294, 295, 296, 297, 298, 299, 300, 301, 302, 303, 304, 305, 306, 307, 308, 309, 310, 311, 312, 313, 314, 315, 316, 317, 318, 319, 320, 321, 322, 323, 324, 325, 326, 327, 328, 329, 330, 331, 332, 333, 334, 335, 336, 337, 338, 339, 340, 341, 342, 343, 344, 345, 346, 347, 348, 349, 350, 351, 352, 353, 354, 355, 356, 357, 358, 359, 360, 361, 362, 363, 364, 365, 366, 367, 368, 369, 370, 371, 372, 373, 374, 375, 376, 377, 378, 379, 380, 381, 382, 383, 384, 385, 386, 387, 388, 389, 390, 391, 392, 393, 394, 395, 396, 397, 398, 399, 400, 401, 402, 403, 404, 405, 406, 407, 408, 409, 410, 411, 412, 413, 414, 415, 416, 417, 418, 419, 420, 421, 422, 423, 424, 425, 426, 427, 428, 429, 430, 431, 432, 433, 434, 435, 436, 437, 438, 439, 440, 441, 442, 443, 444, 445, 446, 447, 448, 449, 450, 451, 452, 453, 454, 455, 456, 457, 458, 459, 460, 461, 462, 463, 464, 465, 466, 467, 468, 469, 470, 471, 472, 473, 474, 475, 476, 477, 478, 479, 480, 481, 482, 483, 484, 485, 486, 487, 488, 489, 490, 491, 492, 493, 494, 495, 496, 497, 498, 499, 500, 501, 502, 503, 504, 505, 506, 507, 508, 509, 510, 511, 512, 513, 514, 515, 516, 517, 518, 519, 520, 521, 522, 523, 524, 525, 526, 527, 528, 529, 530, 531, 532, 533, 534, 535, 536, 537, 538, 539, 540, 541, 542, 543, 544, 545, 546, 547, 548, 549, 550, 551, 552, 553, 554, 555, 556, 557, 558, 559, 560, 561, 562, 563, 564, 565, 566, 567, 568, 569, 570, 571, 572, 573, 574, 575, 576, 577, 578, 579, 580, 581, 582, 583, 584, 585, 586, 587, 588, 589, 590, 591, 592, 593, 594, 595, 596, 597, 598, 599, 600, 601, 602, 603, 604, 605, 606, 607, 608, 609, 610, 611, 612, 613, 614, 615, 616, 617, 618, 619, 620, 621, 622, 623, 624, 625, 626, 627, 628, 629, 630, 631, 632, 633, 634, 635, 636, 637, 638, 639, 640, 641, 642, 643, 644, 645, 646, 647, 648, 649, 650, 651, 652, 653, 654, 655, 656, 657, 658, 659, 660, 661, 662, 663, 664, 665, 666, 667, 668, 669, 670, 671, 672, 673, 674, 675, 676, 677, 678, 679, 680, 681, 682, 683, 684, 685, 686, 687, 688, 689, 690, 691, 692, 693, 694, 695, 696, 697, 698, 699, 700, 701, 702, 703, 704, 705, 706, 707, 708, 709, 710, 711, 712, 713, 714, 715, 716, 717, 718, 719, 720, 721, 722, 723, 724, 725, 726, 727, 728, 729, 730, 731, 732, 733, 734, 735, 736, 737, 738, 739, 740, 741, 742, 743, 744, 745, 746, 747, 748, 749, 750, 751, 752, 753, 754, 755, 756, 757, 758, 759, 760, 761, 762, 763, 764, 765, 766, 767, 768, 769, 770, 771, 772, 773, 774, 775, 776, 777, 778, 779, 780, 781, 782, 783, 784, 785, 786, 787, 788, 789, 790, 791, 792, 793, 794, 795, 796, 797, 798, 799, 800, 801, 802, 803, 804, 805, 806, 807, 808, 809, 810, 811, 812, 813, 814, 815, 816, 817, 818, 819, 820, 821, 822, 823, 824, 825, 826, 827, 828, 829, 830, 831, 832, 833, 834, 835, 836, 837, 838, 839, 840, 841, 842, 843, 844, 845, 846, 847, 848, 849, 850, 851, 852, 853, 854, 855, 856, 857, 858, 859, 860, 861, 862, 863, 864, 865, 866, 867, 868, 869, 870, 871, 872, 873, 874, 875, 876, 877, 878, 879, 880, 881, 882, 883, 884, 885, 886, 887, 888, 889, 890, 891, 892, 893, 894, 895, 896, 897, 898, 899, 900, 901, 902, 903, 904, 905, 906, 907, 908, 909, 910, 911, 912, 913, 914, 915, 916, 917, 918, 919, 920, 921, 922, 923, 924, 925, 926, 927, 928, 929, 930, 931, 932, 933, 934, 935, 936, 937, 938, 939, 940, 941, 942, 943, 944, 945, 946, 947, 948, 949, 950, 951, 952, 953, 954, 955, 956, 957, 958, 959, 960, 961, 962, 963, 964, 965, 966, 967, 968, 969, 970, 971, 972, 973, 974, 975, 976, 977, 978, 979, 980, 981, 982, 983, 984, 985, 986, 987, 988, 989, 990, 991, 992, 993, 994, 995, 996, 997, 998, 999, 1000, 1001, 1002, 1003, 1004, 1005, 1006, 1007, 1008, 1009, 1010, 1011, 1012, 1013, 1014, 1015, 1016, 1017, 1018, 1019, 1020, 1021, 1022, 1023, 1024, 1025, 1026, 1027, 1028, 1029, 1030, 1031, 1032, 1033, 1034, 1035, 1036, 1037, 1038, 1039, 1040, 1041, 1042, 1043, 1044, 1045, 1046, 1047, 1048, 1049, 1050, 1051, 1052, 1053, 1054, 1055, 1056, 1057, 1058, 1059, 1060, 1061, 1062, 1063, 1064, 1065, 1066, 1067, 1068, 1069, 1070, 1071, 1072, 1073, 1074, 1075, 1076, 1077, 1078, 1079, 1080, 1081, 1082, 1083, 1084, 1085, 1086, 1087, 1088, 1089, 1090, 1091, 1092, 1093, 1094, 1095, 1096, 1097, 1098, 1099, 1100, 1101, 1102, 1103, 1104, 1105, 1106, 1107, 1108, 1109, 1110, 1111, 1112, 1113, 1114, 1115, 1116, 1117, 1118, 1119, 1120, 1121, 1122, 1123, 1124, 1125, 1126, 1127, 1128, 1129, 1130, 1131, 1132, 1133, 1134, 1135, 1136, 1137, 1138, 1139, 1140, 1141, 1142, 1143, 1144, 1145, 1146, 1147, 1148, 1149, 1150, 1151, 1152, 1153, 1154, 1155, 1156, 1157, 1158, 1159, 1160, 1161, 1162, 1163, 1164, 1165, 1166, 1167, 1168, 1169, 1170, 1171, 1172, 1173, 1174, 1175, 1176, 1177, 1178, 1179, 1180, 1181, 1182, 1183, 1184, 1185, 1186, 1187, 1188, 1189, 1190, 1191, 1192, 1193, 1194, 1195, 1196, 1197, 1198, 1199, 1200, 1201, 1202, 1203, 1204, 1205, 1206, 1207, 1208, 1209, 1210, 1211, 1212, 1213, 1214, 1215, 1216, 1217, 1218, 1219, 1220, 1221, 1222, 1223, 1224, 1225, 1226, 1227, 1228, 1229, 1230, 1231, 1232, 1233, 1234, 1235, 1236, 1237, 1238, 1239, 1240, 1241, 1242, 1243, 1244, 1245, 1246, 1247, 1248, 1249, 1250, 1251, 1252, 1253, 1254, 1255, 1256, 1257, 1258, 1259, 1260, 1261, 1262, 1263, 1264, 1265, 1266, 1267, 1268, 1269, 1270, 1271, 1272, 1273, 1274, 1275, 1276, 1277, 1278, 1279, 1280, 1281, 1282, 1283, 1284, 1285, 1286, 1287, 1288, 1289, 1290, 1291, 1292, 1293, 1294, 1295, 1296, 1297, 1298, 1299, 1300, 1301, 1302, 1303, 1304, 1305, 1306, 1307, 1308, 1309, 1310, 1311, 1312, 1313, 1314, 1315, 1316, 1317, 1318, 1319, 1320, 1321, 1322, 1323, 1324, 1325, 1326, 1327, 1328, 1329, 1330, 1331, 1332, 1333, 1334, 1335, 1336, 1337, 1338, 1339, 1340, 1341, 1342, 1343, 1344, 1345, 1346, 1347, 1348, 1349, 1350, 1351, 1352, 1353, 1354, 1355, 1356, 1357, 1358, 1359, 1360, 1361, 1362, 1363, 1364, 1365, 1366, 1367, 1368, 1369, 1370, 1371, 1372, 1373, 1374, 1375, 1376, 1377, 1378, 1379, 1380, 1381, 1382, 1383, 1384, 1385, 1386, 1387, 1388, 1389, 1390, 1391, 1392, 1393, 1394, 1395, 1396, 1397, 1398, 1399, 1400, 1401, 1402, 1403, 1404, 1405, 1406, 1407, 1408, 1409, 1410, 1411, 1412, 1413, 1414, 1415, 1416, 1417, 1418, 1419, 1420, 1421, 1422, 1423, 1424, 1425, 1426, 1427, 1428, 1429, 1430, 1431, 1432, 1433, 1434, 1435, 1436, 1437, 1438, 1439, 1440, 1441, 1442, 1443, 1444, 1445, 1446, 1447, 1448, 1449, 1450, 1451, 1452, 1453, 1454, 1455, 1456, 1457, 1458, 1459, 1460, 1461, 1462, 1463, 1464, 1465, 1466, 1467, 1468, 1469, 1470, 1471, 1472, 1473, 1474, 1475, 1476, 1477, 1478, 1479, 1480, 1481, 1482, 1483, 1484, 1485, 1486, 1487, 1488, 1489, 1490, 1491, 1492, 1493, 1494, 1495, 1496, 1497, 1498, 1499, 1500, 1501, 1502, 1503, 1504, 1505, 1506, 1507, 1508, 1509, 1510, 1511, 1512, 1513, 1514, 1515, 1516, 1517, 1518, 1519, 1520, 1521, 1522, 1523, 1524, 1525, 1526, 1527, 1528, 1529, 1530, 1531, 1532, 1533, 1534, 1535, 1536, 1537, 1538, 1539, 1540, 1541, 1542, 1543, 1544, 1545, 1546, 1547, 1548, 1549, 1550, 1551, 1552, 1553, 1554, 1555, 1556, 1557, 1558, 1559, 1560, 1561, 1562, 1563, 1564, 1565, 1566, 1567, 1568, 1569, 1570, 1571, 1572, 1573, 1574, 1575, 1576, 1577, 1578, 1579, 1580, 1581, 1582, 1583, 1584, 1585, 1586, 1587, 1588, 1589, 1590, 1591, 1592, 1593, 1594, 1595, 1596, 1597, 1598, 1599, 1600, 1601, 1602, 1603, 1604, 1605, 1606, 1607, 1608, 1609, 1610, 1611, 1612, 1613, 1614, 1615, 1616, 1617, 1618, 1619, 1620, 1621, 1622, 1623, 1624, 1625, 1626, 1627, 1628, 1629, 1630, 1631, 1632, 1633, 1634, 1635, 1636, 1637, 1638, 1639, 1640, 1641, 1642, 1643, 1644, 1645, 1646, 1647, 1648, 1649, 1650, 1651, 1652, 1653, 1654, 1655, 1656, 1657, 1658, 1659, 1660, 1661, 1662, 1663, 1664, 1665, 1666, 1667, 1668, 1669, 1670, 1671, 1672, 1673, 1674, 1675, 1676, 1677, 1678, 1679, 1680, 1681, 1682, 1683, 1684, 1685, 1686, 1687, 1688, 1689, 1690, 1691, 1692, 1693, 1694, 1695, 1696, 1697, 1698, 1699, 1700, 1701, 1702, 1703, 1704, 1705, 1706, 1707, 1708, 1709, 1710, 1711, 1712, 1713, 1714, 1715, 1716, 1717, 1718, 1719, 1720, 1721, 1722, 1723, 1724, 1725, 1726, 1727, 1728, 1729, 1730, 1731, 1732, 1733, 1734, 1735, 1736, 1737, 1738, 1739, 1740, 1741, 1742, 1743, 1744, 1745, 1746, 1747, 1748, 1749, 1750, 1751, 1752, 1753, 1754, 1755, 1756, 1757, 1758, 1759, 1760, 1761, 1762, 1763, 1764, 1765, 1766, 1767, 1768, 1769, 1770, 1771, 1772, 1773, 1774, 1775, 1776, 1777, 1778, 1779, 1780, 1781, 1782, 1783, 1784, 1785, 1786, 1787, 1788, 1789, 1790, 1791, 1792, 1793, 1794, 1795, 1796, 1797, 1798, 1799, 1800, 1801, 1802, 1803, 1804, 1805, 1806, 1807, 1808, 1809, 1810, 1811, 1812, 1813, 1814, 1815, 1816, 1817, 1818, 1819, 1820, 1821, 1822, 1823, 1824, 1825, 1826, 1827, 1828, 1829, 1830, 1831, 1832, 1833, 1834, 1835, 1836, 1837, 1838, 1839, 1840, 1841, 1842, 1843, 1844, 1845, 1846, 1847, 1848, 1849, 1850, 1851, 1852, 1853, 1854, 1855, 1856, 1857, 1858, 1859, 1860, 1861, 1862, 1863, 1864, 1865, 1866, 1867, 1868, 1869, 1870, 1871, 1872, 1873, 1874, 1875, 1876, 1877, 1878, 1879, 1880, 1881, 1882, 1883, 1884, 1885, 1886, 1887, 1888, 1889, 1890, 1891, 1892, 1893, 1894, 1895, 1896, 1897, 1898, 1899, 1900, 1901, 1902, 1903, 1904, 1905, 1906, 1907, 1908, 1909, 1910, 1911, 1912, 1913, 1914, 1915, 1916, 1917, 1918, 1919, 1920, 1921, 1922, 1923, 1924, 1925, 1926, 1927, 1928, 1929, 1930, 1931, 1932, 1933, 1934, 1935, 1936, 1937, 1938, 1939, 1940, 1941, 1942, 1943, 1944, 1945, 1946, 1947, 1948, 1949, 1950, 1951, 1952, 1953, 1954, 1955, 1956, 1957, 1958, 1959, 1960, 1961, 1962, 1963, 1964, 1965, 1966, 1967, 1968, 1969, 1970, 1971, 1972, 1973, 1974, 1975, 1976, 1977, 1978, 1979, 1980, 1981, 1982, 1983, 1984, 1985, 1986, 1987, 1988, 1989, 1990, 1991, 1992, 1993, 1994, 1995, 1996, 1997, 1998, 1999, 2000, 2001, 2002, 2003, 2004, 2005, 2006, 2007, 2008, 2009, 2010, 2011, 2012, 2013, 2014, 2015, 2016, 2017, 2018, 2019, 2020, 2021, 2022, 2023, 2024, 2025, 2026, 2027, 2028, 2029, 2030, 2031, 2032, 2033, 2034, 2035, 2036, 2037, 2038, 2039, 2040, 2041, 2042, 2043, 2044, 2045, 2046, 2047, 2048, 2049, 2050, 2051, 2052, 2053, 2054, 2055, 2056, 2057, 2058, 2059, 2060, 2061, 2062, 2063, 2064, 2065, 2066, 2067, 2068, 2069, 2070, 2071, 2072, 2073, 2074, 2075, 2076, 2077, 2078, 2079, 2080, 2081, 2082, 2083, 2084, 2085, 2086, 2087, 2088, 2089, 2090, 2091, 2092, 2093, 2094, 2095, 2096, 2097, 2098, 2099, 2100, 2101, 2102, 2103, 2104, 2105, 2106, 2107, 2108, 2109, 2110, 2111, 2112, 2113, 2114, 2115, 2116, 2117, 2118, 2119, 2120, 2121, 2122, 2123, 2124, 2125, 2126, 2127, 2128, 2129, 2130, 2131, 2132, 2133, 2134, 2135, 2136, 2137, 2138, 2139, 2140, 2141, 2142, 2143, 2144, 2145, 2146, 2147, 2148, 2149, 2150, 2151, 2152, 2153, 2154, 2155, 2156, 2157, 2158, 2159, 2160, 2161, 2162, 2163, 2164, 2165, 2166, 2167, 2168, 2169, 2170, 2171, 2172, 2173, 2174, 2175, 2176, 2177, 2178, 2179, 2180, 2181, 2182, 2183, 2184, 2185, 2186, 2187, 2188, 2189, 2190, 2191, 2192, 2193, 2194, 2195, 2196, 2197, 2198, 2199, 2200, 2201, 2202, 2203, 2204, 2205, 2206, 2207, 2208, 2209, 2210, 2211, 2212, 2213, 2214, 2215, 2216, 2217, 2218, 2219, 2220, 2221, 2222, 2223, 2224, 2225, 2226, 2227, 2228, 2229, 2230, 2231, 2232, 2233, 2234, 2235, 2236, 2237, 2238, 2239, 2240, 2241, 2242, 2243, 2244, 2245, 2246, 2247, 2248, 2249, 2250, 2251, 2252, 2253, 2254, 2255, 2256, 2257, 2258, 2259, 2260, 2261, 2262, 2263, 2264, 2265, 2266, 2267, 2268, 2269, 2270, 2271, 2272, 2273, 2274, 2275, 2276, 2277, 2278, 2279, 2280, 2281, 2282, 2283, 2284, 2285, 2286, 2287, 2288, 2289, 2290, 2291, 2292, 2293, 2294, 2295, 2296, 2297, 2298, 2299, 2300, 2301, 2302, 2303, 2304, 2305, 2306, 2307, 2308, 2309, 2310, 2311, 2312, 2313, 2314, 2315, 2316, 2317, 2318, 2319, 2320, 2321, 2322, 2323, 2324, 2325, 2326, 2327, 2328, 2329, 2330, 2331, 2332, 2333, 2334, 2335, 2336, 2337, 2338, 2339, 2340, 2341, 2342, 2343, 2344, 2345, 2346, 2347, 2348, 2349, 2350, 2351, 2352, 2353, 2354, 2355, 2356, 2357, 2358, 2359, 2360, 2361, 2362, 2363, 2364, 2365, 2366, 2367, 2368, 2369, 2370, 2371, 2372, 2373, 2374, 2375, 2376, 2377, 2378, 2379, 2380, 2381, 2382, 2383, 2384, 2385, 2386, 2387, 2388, 2389, 2390, 2391, 2392, 2393, 2394, 2395, 2396, 2397, 2398, 2399, 2400, 2401, 2402, 2403, 2404, 2405, 2406, 2407, 2408, 2409, 2410, 2411, 2412, 2413, 2414, 2415, 2416, 2417, 2418, 2419, 2420, 2421, 2422, 2423, 2424, 2425, 2426, 2427, 2428, 2429, 2430, 2431, 2432, 2433, 2434, 2435, 2436, 2437, 2438, 2439, 2440, 2441, 2442, 2443, 2444, 2445, 2446, 2447, 2448, 2449, 2450, 2451, 2452, 2453, 2454, 2455, 2456, 2457, 2458, 2459, 2460, 2461, 2462, 2463, 2464, 2465, 2466, 2467, 2468, 2469, 2470, 2471, 2472, 2473, 2474, 2475, 2476, 2477, 2478, 2479, 2480, 2481, 2482, 2483, 2484, 2485, 2486, 2487, 2488, 2489, 2490, 2491, 2492, 2493, 2494, 2495, 2496, 2497, 2498, 2499, 2500, 2501, 2502, 2503, 2504, 2505, 2506, 2507, 2508, 2509, 2510, 2511, 2512, 2513, 2514, 2515, 2516, 2517, 2518, 2519, 2520, 2521, 2522, 2523, 2524, 2525, 2526, 2527, 2528, 2529, 2530, 2531, 2532, 2533, 2534, 2535, 2536, 2537, 2538, 2539, 2540, 2541, 2542, 2543, 2544, 2545, 2546, 2547, 2548, 2549, 2550, 2551, 2552, 2553, 2554, 2555, 2556, 2557, 2558, 2559, 2560, 2561, 2562, 2563, 2564, 2565, 2566, 2567, 2568, 2569, 2570, 2571, 2572, 2573, 2574, 2575, 2576, 2577, 2578, 2579, 2580, 2581, 2582, 2583, 2584, 2585, 2586, 2587, 2588, 2589, 2590, 2591, 2592, 2593, 2594, 2595, 2596, 2597, 2598, 2599, 2600, 2601, 2602, 2603, 2604, 2605, 2606, 2607, 2608, 2609, 2610, 2611, 2612, 2613, 2614, 2615, 2616, 2617, 2618, 2619, 2620, 2621, 2622, 2623, 2624, 2625, 2626, 2627, 2628, 2629, 2630, 2631, 2632, 2633, 2634, 2635, 2636, 2637, 2638, 2639, 2640, 2641, 2642, 2643, 2644, 2645, 2646, 2647, 2648, 2649, 2650, 2651, 2652, 2653, 2654, 2655, 2656, 2657, 2658, 2659, 2660, 2661, 2662, 2663, 2664, 2665, 2666, 2667, 2668, 2669, 2670, 2671, 2672, 2673, 2674, 2675, 2676, 2677, 2678, 2679, 2680, 2681, 2682, 2683, 2684, 2685, 2686, 2687, 2688, 2689, 2690, 2691, 2692, 2693, 2694, 2695, 2696, 2697, 2698, 2699, 2700, 2701, 2702, 2703, 2704, 2705, 2706, 2707, 2708, 2709, 2710, 2711, 2712, 2713, 2714, 2715, 2716, 2717, 2718, 2719, 2720, 2721, 2722, 2723, 2724, 2725, 2726, 2727, 2728, 2729, 2730, 2731, 2732, 2733, 2734, 2735, 2736, 2737, 2738, 2739, 2740, 2741, 2742, 2743, 2744, 2745, 2746, 2747, 2748, 2749, 2750, 2751, 2752, 2753, 2754, 2755, 2756, 2757, 2758, 2759, 2760, 2761, 2762, 2763, 2764, 2765, 2766, 2767, 2768, 2769, 2770, 2771, 2772, 2773, 2774, 2775, 2776, 2777, 2778, 2779, 2780, 2781, 2782, 2783, 2784, 2785, 2786, 2787, 2788, 2789, 2790, 2791, 2792, 2793, 2794, 2795, 2796, 2797, 2798, 2799, 2800, 2801, 2802, 2803, 2804, 2805, 2806, 2807, 2808, 2809, 2810, 2811, 2812, 2813, 2814, 2815, 2816, 2817, 2818, 2819, 2820, 2821, 2822, 2823, 2824, 2825, 2826, 2827, 2828, 2829, 2830, 2831, 2832, 2833, 2834, 2835, 2836, 2837, 2838, 2839, 2840, 2841, 2842, 2843, 2844, 2845, 2846, 2847, 2848, 2849, 2850, 2851, 2852, 2853, 2854, 2855, 2856, 2857, 2858, 2859, 2860, 2861, 2862, 2863, 2864, 2865, 2866, 2867, 2868, 2869, 2870, 2871, 2872, 2873, 2874, 2875, 2876, 2877, 2878, 2879, 2880, 2881, 2882, 2883, 2884, 2885, 2886, 2887, 2888, 2889, 2890, 2891, 2892, 2893, 2894, 2895, 2896, 2897, 2898, 2899, 2900, 2901, 2902, 2903, 2904, 2905, 2906, 2907, 2908, 2909, 2910, 2911, 2912, 2913, 2914, 2915, 2916, 2917, 2918, 2919, 2920, 2921, 2922, 2923, 2924, 2925, 2926, 2927, 2928, 2929, 2930, 2931, 2932, 2933, 2934, 2935, 2936, 2937, 2938, 2939, 2940, 2941, 2942, 2943, 2944, 2945, 2946, 2947, 2948, 2949, 2950, 2951, 2952, 2953, 2954, 2955, 2956, 2957, 2958, 2959, 2960, 2961, 2962, 2963, 2964, 2965, 2966, 2967, 2968, 2969, 2970, 2971, 2972, 2973, 2974, 2975, 2976, 2977, 2978, 2979, 2980, 2981, 2982, 2983, 2984, 2985, 2986, 2987, 2988, 2989, 2990, 2991, 2992, 2993, 2994, 2995, 2996, 2997, 2998, 2999, 3000, 3001, 3002, 3003, 3004, 3005, 3006, 3007, 3008, 3009, 3010, 3011, 3012, 3013, 3014, 3015, 3016, 3017, 3018, 3019, 3020, 3021, 3022, 3023, 3024, 3025, 3026, 3027, 3028, 3029, 3030, 3031, 3032, 3033, 3034, 3035, 3036, 3037, 3038, 3039, 3040, 3041, 3042, 3043, 3044, 3045, 3046, 3047, 3048, 3049, 3050, 3051, 3052, 3053, 3054, 3055, 3056, 3057, 3058, 3059, 3060, 3061, 3062, 3063, 3064, 3065, 3066, 3067, 3068, 3069, 3070, 3071, 3072, 3073, 3074, 3075, 3076, 3077, 3078, 3079, 3080, 3081, 3082, 3083, 3084, 3085, 3086, 3087, 3088, 3089, 3090, 3091, 3092, 3093, 3094, 3095, 3096, 3097, 3098, 3099, 3100, 3101, 3102, 3103, 3104, 3105, 3106, 3107, 3108, 3109, 3110, 3111, 3112, 3113, 3114, 3115, 3116, 3117, 3118, 3119, 3120, 3121, 3122, 3123, 3124, 3125, 3126, 3127, 3128, 3129, 3130, 3131, 3132, 3133, 3134, 3135, 3136, 3137, 3138, 3139, 3140, 3141, 3142, 3143, 3144, 3145, 3146, 3147, 3148, 3149, 3150, 3151, 3152, 3153, 3154, 3155, 3156, 3157, 3158, 3159, 3160, 3161, 3162, 3163, 3164, 3165, 3166, 3167, 3168, 3169, 3170, 3171, 3172, 3173, 3174, 3175, 3176, 3177, 3178, 3179, 3180, 3181, 3182, 3183, 3184, 3185, 3186, 3187, 3188, 3189, 3190, 3191, 3192, 3193, 3194, 3195, 3196, 3197, 3198, 3199, 3200, 3201, 3202, 3203, 3204, 3205, 3206, 3207, 3208, 3209, 3210, 3211, 3212, 3213, 3214, 3215, 3216, 3217, 3218, 3219, 3220, 3221, 3222, 3223, 3224, 3225, 3226, 3227, 3228, 3229, 3230, 3231, 3232, 3233, 3234, 3235, 3236, 3237, 3238, 3239, 3240, 3241, 3242, 3243, 3244, 3245, 3246, 3247, 3248, 3249, 3250, 3251, 3252, 3253, 3254, 3255, 3256, 3257, 3258, 3259, 3260, 3261, 3262, 3263, 3264, 3265, 3266, 3267, 3268, 3269, 3270, 3271, 3272, 3273, 3274, 3275, 3276, 3277, 3278, 3279, 3280, 3281, 3282, 3283, 3284, 3285, 3286, 3287, 3288, 3289, 3290, 3291, 3292, 3293, 3294, 3295, 3296, 3297, 3298, 3299, 3300, 3301, 3302, 3303, 3304, 3305, 3306, 3307, 3308, 3309, 3310, 3311, 3312, 3313, 3314, 3315, 3316, 3317, 3318, 3319, 3320, 3321, 3322, 3323, 3324, 3325, 3326, 3327, 3328, 3329, 3330, 3331, 3332, 3333, 3334, 3335, 3336, 3337, 3338, 3339, 3340, 3341, 3342, 3343, 3344, 3345, 3346, 3347, 3348, 3349, 3350, 3351, 3352, 3353, 3354, 3355, 3356, 3357, 3358, 3359, 3360, 3361, 3362, 3363, 3364, 3365, 3366, 3367, 3368, 3369, 3370, 3371, 3372, 3373, 3374, 3375, 3376, 3377, 3378, 3379, 3380, 3381, 3382, 3383, 3384, 3385, 3386, 3387, 3388, 3389, 3390, 3391, 3392, 3393, 3394, 3395, 3396, 3397, 3398, 3399, 3400, 3401, 3402, 3403, 3404, 3405, 3406, 3407, 3408, 3409, 3410, 3411, 3412, 3413, 3414, 3415, 3416, 3417, 3418, 3419, 3420, 3421, 3422, 3423, 3424, 3425, 3426, 3427, 3428, 3429, 3430, 3431, 3432, 3433, 3434, 3435, 3436, 3437, 3438, 3439, 3440, 3441, 3442, 3443, 3444, 3445, 3446, 3447, 3448, 3449, 3450, 3451, 3452, 3453, 3454, 3455, 3456, 3457, 3458, 3459, 3460, 3461, 3462, 3463, 3464, 3465, 3466, 3467, 3468, 3469, 3470, 3471, 3472, 3473, 3474, 3475, 3476, 3477, 3478, 3479, 3480, 3481, 3482, 3483, 3484, 3485, 3486, 3487, 3488, 3489, 3490, 3491, 3492, 3493, 3494, 3495, 3496, 3497, 3498, 3499, 3500, 3501, 3502, 3503, 3504, 3505, 3506, 3507, 3508, 3509, 3510, 3511, 3512, 3513, 3514, 3515, 3516, 3517, 3518, 3519, 3520, 3521, 3522, 3523, 3524, 3525, 3526, 3527, 3528, 3529, 3530, 3531, 3532, 3533, 3534, 3535, 3536, 3537, 3538, 3539, 3540, 3541, 3542, 3543, 3544, 3545, 3546, 3547, 3548, 3549, 3550, 3551, 3552, 3553, 3554, 3555, 3556, 3557, 3558, 3559, 3560, 3561, 3562, 3563, 3564, 3565, 3566, 3567, 3568, 3569, 3570, 3571, 3572, 3573, 3574, 3575, 3576, 3577, 3578, 3579, 3580, 3581, 3582, 3583, 3584, 3585, 3586, 3587, 3588, 3589, 3590, 3591, 3592, 3593, 3594, 3595, 3596, 3597, 3598, 3599, 3600, 3601, 3602, 3603, 3604, 3605, 3606, 3607, 3608, 3609, 3610, 3611, 3612, 3613, 3614, 3615, 3616, 3617, 3618, 3619, 3620, 3621, 3622, 3623, 3624, 3625, 3626, 3627, 3628, 3629, 3630, 3631, 3632, 3633, 3634, 3635, 3636, 3637, 3638, 3639, 3640, 3641, 3642, 3643, 3644, 3645, 3646, 3647, 3648, 3649, 3650, 3651, 3652, 3653, 3654, 3655, 3656, 3657, 3658, 3659, 3660, 3661, 3662, 3663, 3664, 3665, 3666, 3667, 3668, 3669, 3670, 3671, 3672, 3673, 3674, 3675, 3676, 3677, 3678, 3679, 3680, 3681, 3682, 3683, 3684, 3685, 3686, 3687, 3688, 3689, 3690, 3691, 3692, 3693, 3694, 3695, 3696, 3697, 3698, 3699, 3700, 3701, 3702, 3703, 3704, 3705, 3706, 3707, 3708, 3709, 3710, 3711, 3712, 3713, 3714, 3715, 3716, 3717, 3718, 3719, 3720, 3721, 3722, 3723, 3724, 3725, 3726, 3727, 3728, 3729, 3730, 3731, 3732, 3733, 3734, 3735, 3736, 3737, 3738, 3739, 3740, 3741, 3742, 3743, 3744, 3745, 3746, 3747, 3748, 3749, 3750, 3751, 3752, 3753, 3754, 3755, 3756, 3757, 3758, 3759, 3760, 3761, 3762, 3763, 3764, 3765, 3766, 3767, 3768, 3769, 3770, 3771, 3772, 3773, 3774, 3775, 3776, 3777, 3778, 3779, 3780, 3781, 3782, 3783, 3784, 3785, 3786, 3787, 3788, 3789, 3790, 3791, 3792, 3793, 3794, 3795, 3796, 3797, 3798, 3799, 3800, 3801, 3802, 3803, 3804, 3805, 3806, 3807, 3808, 3809, 3810, 3811, 3812, 3813, 3814, 3815, 3816, 3817, 3818, 3819, 3820, 3821, 3822, 3823, 3824, 3825, 3826, 3827, 3828, 3829, 3830, 3831, 3832, 3833, 3834, 3835, 3836, 3837, 3838, 3839, 3840, 3841, 3842, 3843, 3844, 3845, 3846, 3847, 3848, 3849, 3850, 3851, 3852, 3853, 3854, 3855, 3856, 3857, 3858, 3859, 3860, 3861, 3862, 3863, 3864, 3865, 3866, 3867, 3868, 3869, 3870, 3871, 3872, 3873, 3874, 3875, 3876, 3877, 3878, 3879, 3880, 3881, 3882, 3883, 3884, 3885, 3886, 3887, 3888, 3889, 3890, 3891, 3892, 3893, 3894, 3895, 3896, 3897, 3898, 3899, 3900, 3901, 3902, 3903, 3904, 3905, 3906, 3907, 3908, 3909, 3910, 3911, 3912, 3913, 3914, 3915, 3916, 3917, 3918, 3919, 3920, 3921, 3922, 3923, 3924, 3925, 3926, 3927, 3928, 3929, 3930, 3931, 3932, 3933, 3934, 3935, 3936, 3937, 3938, 3939, 3940, 3941, 3942, 3943, 3944, 3945, 3946, 3947, 3948, 3949, 3950, 3951, 3952, 3953, 3954, 3955, 3956, 3957, 3958, 3959, 3960, 3961, 3962, 3963, 3964, 3965, 3966, 3967, 3968, 3969, 3970, 3971, 3972, 3973, 3974, 3975, 3976, 3977, 3978, 3979, 3980, 3981, 3982, 3983, 3984, 3985, 3986, 3987, 3988, 3989, 3990, 3991, 3992, 3993, 3994, 3995, 3996, 3997, 3998, 3999, 4000, 4001, 4002, 4003, 4004, 4005, 4006, 4007, 4008, 4009, 4010, 4011, 4012, 4013, 4014, 4015, 4016, 4017, 4018, 4019, 4020, 4021, 4022, 4023, 4024, 4025, 4026, 4027, 4028, 4029, 4030, 4031, 4032, 4033, 4034, 4035, 4036, 4037, 4038, 4039, 4040, 4041, 4042, 4043, 4044, 4045, 4046, 4047, 4048, 4049, 4050, 4051, 4052, 4053, 4054, 4055, 4056, 4057, 4058, 4059, 4060, 4061, 4062, 4063, 4064, 4065, 4066, 4067, 4068, 4069, 4070, 4071, 4072, 4073, 4074, 4075, 4076, 4077, 4078, 4079, 4080, 4081, 4082, 4083, 4084, 4085, 4086, 4087, 4088, 4089, 4090, 4091, 4092, 4093, 4094, 4095, 4096, 4097, 4098, 4099, 4100, 4101, 4102, 4103, 4104, 4105, 4106, 4107, 4108, 4109, 4110, 4111, 4112, 4113, 4114, 4115, 4116, 4117, 4118, 4119, 4120, 4121, 4122, 4123, 4124, 4125, 4126, 4127, 4128, 4129, 4130, 4131, 4132, 4133, 4134, 4135, 4136, 4137, 4138, 4139, 4140, 4141, 4142, 4143, 4144, 4145, 4146, 4147, 4148, 4149, 4150, 4151, 4152, 4153, 4154, 4155, 4156, 4157, 4158, 4159, 4160, 4161, 4162, 4163, 4164, 4165, 4166, 4167, 4168, 4169, 4170, 4171, 4172, 4173, 4174, 4175, 4176, 4177, 4178, 4179, 4180, 4181, 4182, 4183, 4184, 4185, 4186, 4187, 4188, 4189, 4190, 4191, 4192, 4193, 4194, 4195, 4196, 4197, 4198, 4199, 4200, 4201, 4202, 4203, 4204, 4205, 4206, 4207, 4208, 4209, 4210, 4211, 4212, 4213, 4214, 4215, 4216, 4217, 4218, 4219, 4220, 4221, 4222, 4223, 4224, 4225, 4226, 4227, 4228, 4229, 4230, 4231, 4232, 4233, 4234, 4235, 4236, 4237, 4238, 4239, 4240, 4241, 4242, 4243, 4244, 4245, 4246, 4247, 4248, 4249, 4250, 4251, 4252, 4253, 4254, 4255, 4256, 4257, 4258, 4259, 4260, 4261, 4262, 4263, 4264, 4265, 4266, 4267, 4268, 4269, 4270, 4271, 4272, 4273, 4274, 4275, 4276, 4277, 4278, 4279, 4280, 4281, 4282, 4283, 4284, 4285, 4286, 4287, 4288, 4289, 4290, 4291, 4292, 4293, 4294, 4295, 4296, 4297, 4298, 4299, 4300, 4301, 4302, 4303, 4304, 4305, 4306, 4307, 4308, 4309, 4310, 4311, 4312, 4313, 4314, 4315, 4316, 4317, 4318, 4319, 4320, 4321, 4322, 4323, 4324, 4325, 4326, 4327, 4328, 4329, 4330, 4331, 4332, 4333, 4334, 4335, 4336, 4337, 4338, 4339, 4340, 4341, 4342, 4343, 4344, 4345, 4346, 4347, 4348, 4349, 4350, 4351, 4352, 4353, 4354, 4355, 4356, 4357, 4358, 4359, 4360, 4361, 4362, 4363, 4364, 4365, 4366, 4367, 4368, 4369, 4370, 4371, 4372, 4373, 4374, 4375, 4376, 4377, 4378, 4379, 4380, 4381, 4382, 4383, 4384, 4385, 4386, 4387, 4388, 4389, 4390, 4391, 4392, 4393, 4394, 4395, 4396, 4397, 4398, 4399, 4400, 4401, 4402, 4403, 4404, 4405, 4406, 4407, 4408, 4409, 4410, 4411, 4412, 4413, 4414, 4415, 4416, 4417, 4418, 4419, 4420, 4421, 4422, 4423, 4424, 4425, 4426, 4427, 4428, 4429, 4430, 4431, 4432, 4433, 4434, 4435, 4436, 4437, 4438, 4439, 4440, 4441, 4442, 4443, 4444, 4445, 4446, 4447, 4448, 4449, 4450, 4451, 4452, 4453, 4454, 4455, 4456, 4457, 4458, 4459, 4460, 4461, 4462, 4463, 4464, 4465, 4466, 4467, 4468, 4469, 4470, 4471, 4472, 4473, 4474, 4475, 4476, 4477, 4478, 4479, 4480, 4481, 4482, 4483, 4484, 4485, 4486, 4487, 4488, 4489, 4490, 4491, 4492, 4493, 4494, 4495, 4496, 4497, 4498, 4499, 4500, 4501, 4502, 4503, 4504, 4505, 4506, 4507, 4508, 4509, 4510, 4511, 4512, 4513, 4514, 4515, 4516, 4517, 4518, 4519, 4520, 4521, 4522, 4523, 4524, 4525, 4526, 4527, 4528, 4529, 4530, 4531, 4532, 4533, 4534, 4535, 4536, 4537, 4538, 4539, 4540, 4541, 4542, 4543, 4544, 4545, 4546, 4547, 4548, 4549, 4550, 4551, 4552, 4553, 4554, 4555, 4556, 4557, 4558, 4559, 4560, 4561, 4562, 4563, 4564, 4565, 4566, 4567, 4568, 4569, 4570, 4571, 4572, 4573, 4574, 4575, 4576, 4577, 4578, 4579, 4580, 4581, 4582, 4583, 4584, 4585, 4586, 4587, 4588, 4589, 4590, 4591, 4592, 4593, 4594, 4595, 4596, 4597, 4598, 4599, 4600, 4601, 4602, 4603, 4604, 4605, 4606, 4607, 4608, 4609, 4610, 4611, 4612, 4613, 4614, 4615, 4616, 4617, 4618, 4619, 4620, 4621, 4622, 4623, 4624, 4625, 4626, 4627, 4628, 4629, 4630, 4631, 4632, 4633, 4634, 4635, 4636, 4637, 4638, 4639, 4640, 4641, 4642, 4643, 4644, 4645, 4646, 4647, 4648, 4649, 4650, 4651, 4652, 4653, 4654, 4655, 4656, 4657, 4658, 4659, 4660, 4661, 4662, 4663, 4664, 4665, 4666, 4667, 4668, 4669, 4670, 4671, 4672, 4673, 4674, 4675, 4676, 4677, 4678, 4679, 4680, 4681, 4682, 4683, 4684, 4685, 4686, 4687, 4688, 4689, 4690, 4691, 4692, 4693, 4694, 4695, 4696, 4697, 4698, 4699, 4700, 4701, 4702, 4703, 4704, 4705, 4706, 4707, 4708, 4709, 4710, 4711, 4712, 4713, 4714, 4715, 4716, 4717, 4718, 4719, 4720, 4721, 4722, 4723, 4724, 4725, 4726, 4727, 4728, 4729, 4730, 4731, 4732, 4733, 4734, 4735, 4736, 4737, 4738, 4739, 4740, 4741, 4742, 4743, 4744, 4745, 4746, 4747, 4748, 4749, 4750, 4751, 4752, 4753, 4754, 4755, 4756, 4757, 4758, 4759, 4760, 4761, 4762, 4763, 4764, 4765, 4766, 4767, 4768, 4769, 4770, 4771, 4772, 4773, 4774, 4775, 4776, 4777, 4778, 4779, 4780, 4781, 4782, 4783, 4784, 4785, 4786, 4787, 4788, 4789, 4790, 4791, 4792, 4793, 4794, 4795, 4796, 4797, 4798, 4799, 4800, 4801, 4802, 4803, 4804, 4805, 4806, 4807, 4808, 4809, 4810, 4811, 4812, 4813, 4814, 4815, 4816, 4817, 4818, 4819, 4820, 4821, 4822, 4823, 4824, 4825, 4826, 4827, 4828, 4829, 4830, 4831, 4832, 4833, 4834, 4835, 4836, 4837, 4838, 4839, 4840, 4841, 4842, 4843, 4844, 4845, 4846, 4847, 4848, 4849, 4850, 4851, 4852, 4853, 4854, 4855, 4856, 4857, 4858, 4859, 4860, 4861, 4862, 4863, 4864, 4865, 4866, 4867, 4868, 4869, 4870, 4871, 4872, 4873, 4874, 4875, 4876, 4877, 4878, 4879, 4880, 4881, 4882, 4883, 4884, 4885, 4886, 4887, 4888, 4889, 4890, 4891, 4892, 4893, 4894, 4895, 4896, 4897, 4898, 4899, 4900, 4901, 4902, 4903, 4904, 4905, 4906, 4907, 4908, 4909, 4910, 4911, 4912, 4913, 4914, 4915, 4916, 4917, 4918, 4919, 4920, 4921, 4922, 4923, 4924, 4925, 4926, 4927, 4928, 4929, 4930, 4931, 4932, 4933, 4934, 4935, 4936, 4937, 4938, 4939, 4940, 4941, 4942, 4943, 4944, 4945, 4946, 4947, 4948, 4949, 4950, 4951, 4952, 4953, 4954, 4955, 4956, 4957, 4958, 4959, 4960, 4961, 4962, 4963, 4964, 4965, 4966, 4967, 4968, 4969, 4970, 4971, 4972, 4973, 4974, 4975, 4976, 4977, 4978, 4979, 4980, 4981, 4982, 4983, 4984, 4985, 4986, 4987, 4988, 4989, 4990, 4991, 4992, 4993, 4994, 4995, 4996, 4997, 4998, 4999, 5000, 5001, 5002, 5003, 5004, 5005, 5006, 5007, 5008, 5009, 5010, 5011, 5012, 5013, 5014, 5015, 5016, 5017, 5018, 5019, 5020, 5021, 5022, 5023, 5024, 5025, 5026, 5027, 5028, 5029, 5030, 5031, 5032, 5033, 5034, 5035, 5036, 5037, 5038, 5039, 5040, 5041, 5042, 5043, 5044, 5045, 5046, 5047, 5048, 5049, 5050, 5051, 5052, 5053, 5054, 5055, 5056, 5057, 5058, 5059, 5060, 5061, 5062, 5063, 5064, 5065, 5066, 5067, 5068, 5069, 5070, 5071, 5072, 5073, 5074, 5075, 5076, 5077, 5078, 5079, 5080, 5081, 5082, 5083, 5084, 5085, 5086, 5087, 5088, 5089, 5090, 5091, 5092, 5093, 5094, 5095, 5096, 5097, 5098, 5099, 5100, 5101, 5102, 5103, 5104, 5105, 5106, 5107, 5108, 5109, 5110, 5111, 5112, 5113, 5114, 5115, 5116, 5117, 5118, 5119, 5120, 5121, 5122, 5123, 5124, 5125, 5126, 5127, 5128, 5129, 5130, 5131, 5132, 5133, 5134, 5135, 5136, 5137, 5138, 5139, 5140, 5141, 5142, 5143, 5144, 5145, 5146, 5147, 5148, 5149, 5150, 5151, 5152, 5153, 5154, 5155, 5156, 5157, 5158, 5159, 5160, 5161, 5162, 5163, 5164, 5165, 5166, 5167, 5168, 5169, 5170, 5171, 5172, 5173, 5174, 5175, 5176, 5177, 5178, 5179, 5180, 5181, 5182, 5183, 5184, 5185, 5186, 5187, 5188, 5189, 5190, 5191, 5192, 5193, 5194, 5195, 5196, 5197, 5198, 5199, 5200, 5201, 5202, 5203, 5204, 5205, 5206, 5207, 5208, 5209, 5210, 5211, 5212, 5213, 5214, 5215, 5216, 5217, 5218, 5219, 5220, 5221, 5222, 5223, 5224, 5225, 5226, 5227, 5228, 5229, 5230, 5231, 5232, 5233, 5234, 5235, 5236, 5237, 5238, 5239, 5240, 5241, 5242, 5243, 5244, 5245, 5246, 5247, 5248, 5249, 5250, 5251, 5252, 5253, 5254, 5255, 5256, 5257, 5258, 5259, 5260, 5261, 5262, 5263, 5264, 5265, 5266, 5267, 5268, 5269, 5270, 5271, 5272, 5273, 5274, 5275, 5276, 5277, 5278, 5279, 5280, 5281, 5282, 5283, 5284, 5285, 5286, 5287, 5288, 5289, 5290, 5291, 5292, 5293, 5294, 5295, 5296, 5297, 5298, 5299, 5300, 5301, 5302, 5303, 5304, 5305, 5306, 5307, 5308, 5309, 5310, 5311, 5312, 5313, 5314, 5315, 5316, 5317, 5318, 5319, 5320, 5321, 5322, 5323, 5324, 5325, 5326, 5327, 5328, 5329, 5330, 5331, 5332, 5333, 5334, 5335, 5336, 5337, 5338, 5339, 5340, 5341, 5342, 5343, 5344, 5345, 5346, 5347, 5348, 5349, 5350, 5351, 5352, 5353, 5354, 5355, 5356, 5357, 5358, 5359, 5360, 5361, 5362, 5363, 5364, 5365, 5366, 5367, 5368, 5369, 5370, 5371, 5372, 5373, 5374, 5375, 5376, 5377, 5378, 5379, 5380, 5381, 5382, 5383, 5384, 5385, 5386, 5387, 5388, 5389, 5390, 5391, 5392, 5393, 5394, 5395, 5396, 5397, 5398, 5399, 5400, 5401, 5402, 5403, 5404, 5405, 5406, 5407, 5408, 5409, 5410, 5411, 5412, 5413, 5414, 5415, 5416, 5417, 5418, 5419, 5420, 5421, 5422, 5423, 5424, 5425, 5426, 5427, 5428, 5429, 5430, 5431, 5432, 5433, 5434, 5435, 5436, 5437, 5438, 5439, 5440, 5441, 5442, 5443, 5444, 5445, 5446, 5447, 5448, 5449, 5450, 5451, 5452, 5453, 5454, 5455, 5456, 5457, 5458, 5459, 5460, 5461, 5462, 5463, 5464, 5465, 5466, 5467, 5468, 5469, 5470, 5471, 5472, 5473, 5474, 5475, 5476, 5477, 5478, 5479, 5480, 5481, 5482, 5483, 5484, 5485, 5486, 5487, 5488, 5489, 5490, 5491, 5492, 5493, 5494, 5495, 5496, 5497, 5498, 5499, 5500, 5501, 5502, 5503, 5504, 5505, 5506, 5507, 5508, 5509, 5510, 5511, 5512, 5513, 5514, 5515, 5516, 5517, 5518, 5519, 5520, 5521, 5522, 5523, 5524, 5525, 5526, 5527, 5528, 5529, 5530, 5531, 5532, 5533, 5534, 5535, 5536, 5537, 5538, 5539, 5540, 5541, 5542, 5543, 5544, 5545, 5546, 5547, 5548, 5549, 5550, 5551, 5552, 5553, 5554, 5555, 5556, 5557, 5558, 5559, 5560, 5561, 5562, 5563, 5564, 5565, 5566, 5567, 5568, 5569, 5570, 5571, 5572, 5573, 5574, 5575, 5576, 5577, 5578, 5579, 5580, 5581, 5582, 5583, 5584, 5585, 5586, 5587, 5588, 5589, 5590, 5591, 5592, 5593, 5594, 5595, 5596, 5597, 5598, 5599, 5600, 5601, 5602, 5603, 5604, 5605, 5606, 5607, 5608, 5609, 5610, 5611, 5612, 5613, 5614, 5615, 5616, 5617, 5618, 5619, 5620, 5621, 5622, 5623, 5624, 5625, 5626, 5627, 5628, 5629, 5630, 5631, 5632, 5633, 5634, 5635, 5636, 5637, 5638, 5639, 5640, 5641, 5642, 5643, 5644, 5645, 5646, 5647, 5648, 5649, 5650, 5651, 5652, 5653, 5654, 5655, 5656, 5657, 5658, 5659, 5660, 5661, 5662, 5663, 5664, 5665, 5666, 5667, 5668, 5669, 5670, 5671, 5672, 5673, 5674, 5675, 5676, 5677, 5678, 5679, 5680, 5681, 5682, 5683, 5684, 5685, 5686, 5687, 5688, 5689, 5690, 5691, 5692, 5693, 5694, 5695, 5696, 5697, 5698, 5699, 5700, 5701, 5702, 5703, 5704, 5705, 5706, 5707, 5708, 5709, 5710, 5711, 5712, 5713, 5714, 5715, 5716, 5717, 5718, 5719, 5720, 5721, 5722, 5723, 5724, 5725, 5726, 5727, 5728, 5729, 5730, 5731, 5732, 5733, 5734, 5735, 5736, 5737, 5738, 5739, 5740, 5741, 5742, 5743, 5744, 5745, 5746, 5747, 5748, 5749, 5750, 5751, 5752, 5753, 5754, 5755, 5756, 5757, 5758, 5759, 5760, 5761, 5762, 5763, 5764, 5765, 5766, 5767, 5768, 5769, 5770, 5771, 5772, 5773, 5774, 5775, 5776, 5777, 5778, 5779, 5780, 5781, 5782, 5783, 5784, 5785, 5786, 5787, 5788, 5789, 5790, 5791, 5792, 5793, 5794, 5795, 5796, 5797, 5798, 5799, 5800, 5801, 5802, 5803, 5804, 5805, 5806, 5807, 5808, 5809, 5810, 5811, 5812, 5813, 5814, 5815, 5816, 5817, 5818, 5819, 5820, 5821, 5822, 5823, 5824, 5825, 5826, 5827, 5828, 5829, 5830, 5831, 5832, 5833, 5834, 5835, 5836, 5837, 5838, 5839, 5840, 5841, 5842, 5843, 5844, 5845, 5846, 5847, 5848, 5849, 5850, 5851, 5852, 5853, 5854, 5855, 5856, 5857, 5858, 5859, 5860, 5861, 5862, 5863, 5864, 5865, 5866, 5867, 5868, 5869, 5870, 5871, 5872, 5873, 5874, 5875, 5876, 5877, 5878, 5879, 5880, 5881, 5882, 5883, 5884, 5885, 5886, 5887, 5888, 5889, 5890, 5891, 5892, 5893, 5894, 5895, 5896, 5897, 5898, 5899, 5900, 5901, 5902, 5903, 5904, 5905, 5906, 5907, 5908, 5909, 5910, 5911, 5912, 5913, 5914, 5915, 5916, 5917, 5918, 5919, 5920, 5921, 5922, 5923, 5924, 5925, 5926, 5927, 5928, 5929, 5930, 5931, 5932, 5933, 5934, 5935, 5936, 5937, 5938, 5939, 5940, 5941, 5942, 5943, 5944, 5945, 5946, 5947, 5948, 5949, 5950, 5951, 5952, 5953, 5954, 5955, 5956, 5957, 5958, 5959, 5960, 5961, 5962, 5963, 5964, 5965, 5966, 5967, 5968, 5969, 5970, 5971, 5972, 5973, 5974, 5975, 5976, 5977, 5978, 5979, 5980, 5981, 5982, 5983, 5984, 5985, 5986, 5987, 5988, 5989, 5990, 5991, 5992, 5993, 5994, 5995, 5996, 5997, 5998, 5999, 6000, 6001, 6002, 6003, 6004, 6005, 6006, 6007, 6008, 6009, 6010, 6011, 6012, 6013, 6014, 6015, 6016, 6017, 6018, 6019, 6020, 6021, 6022, 6023, 6024, 6025, 6026, 6027, 6028, 6029, 6030, 6031, 6032, 6033, 6034, 6035, 6036, 6037, 6038, 6039, 6040, 6041, 6042, 6043, 6044, 6045, 6046, 6047, 6048, 6049, 6050, 6051, 6052, 6053, 6054, 6055, 6056, 6057, 6058, 6059, 6060, 6061, 6062, 6063, 6064, 6065, 6066, 6067, 6068, 6069, 6070, 6071, 6072, 6073, 6074, 6075, 6076, 6077, 6078, 6079, 6080, 6081, 6082, 6083, 6084, 6085, 6086, 6087, 6088, 6089, 6090, 6091, 6092, 6093, 6094, 6095, 6096, 6097, 6098, 6099, 6100, 6101, 6102, 6103, 6104, 6105, 6106, 6107, 6108, 6109, 6110, 6111, 6112, 6113, 6114, 6115, 6116, 6117, 6118, 6119, 6120, 6121, 6122, 6123, 6124, 6125, 6126, 6127, 6128, 6129, 6130, 6131, 6132, 6133, 6134, 6135, 6136, 6137, 6138, 6139, 6140, 6141, 6142, 6143, 6144, 6145, 6146, 6147, 6148, 6149, 6150, 6151, 6152, 6153, 6154, 6155, 6156, 6157, 6158, 6159, 6160, 6161, 6162, 6163, 6164, 6165, 6166, 6167, 6168, 6169, 6170, 6171, 6172, 6173, 6174, 6175, 6176, 6177, 6178, 6179, 6180, 6181, 6182, 6183, 6184, 6185, 6186, 6187, 6188, 6189, 6190, 6191, 6192, 6193, 6194, 6195, 6196, 6197, 6198, 6199, 6200, 6201, 6202, 6203, 6204, 6205, 6206, 6207, 6208, 6209, 6210, 6211, 6212, 6213, 6214, 6215, 6216, 6217, 6218, 6219, 6220, 6221, 6222, 6223, 6224, 6225, 6226, 6227, 6228, 6229, 6230, 6231, 6232, 6233, 6234, 6235, 6236, 6237, 6238, 6239, 6240, 6241, 6242, 6243, 6244, 6245, 6246, 6247, 6248, 6249, 6250, 6251, 6252, 6253, 6254, 6255, 6256, 6257, 6258, 6259, 6260, 6261, 6262, 6263, 6264, 6265, 6266, 6267, 6268, 6269, 6270, 6271, 6272, 6273, 6274, 6275, 6276, 6277, 6278, 6279, 6280, 6281, 6282, 6283, 6284, 6285, 6286, 6287, 6288, 6289, 6290, 6291, 6292, 6293, 6294, 6295, 6296, 6297, 6298, 6299, 6300, 6301, 6302, 6303, 6304, 6305, 6306, 6307, 6308, 6309, 6310, 6311, 6312, 6313, 6314, 6315, 6316, 6317, 6318, 6319, 6320, 6321, 6322, 6323, 6324, 6325, 6326, 6327, 6328, 6329, 6330, 6331, 6332, 6333, 6334, 6335, 6336, 6337, 6338, 6339, 6340, 6341, 6342, 6343, 6344, 6345, 6346, 6347, 6348, 6349, 6350, 6351, 6352, 6353, 6354, 6355, 6356, 6357, 6358, 6359, 6360, 6361, 6362, 6363, 6364, 6365, 6366, 6367, 6368, 6369, 6370, 6371, 6372, 6373, 6374, 6375, 6376, 6377, 6378, 6379, 6380, 6381, 6382, 6383, 6384, 6385, 6386, 6387, 6388, 6389, 6390, 6391, 6392, 6393, 6394, 6395, 6396, 6397, 6398, 6399, 6400, 6401, 6402, 6403, 6404, 6405, 6406, 6407, 6408, 6409, 6410, 6411, 6412, 6413, 6414, 6415, 6416, 6417, 6418, 6419, 6420, 6421, 6422, 6423, 6424, 6425, 6426, 6427, 6428, 6429, 6430, 6431, 6432, 6433, 6434, 6435, 6436, 6437, 6438, 6439, 6440, 6441, 6442, 6443, 6444, 6445, 6446, 6447, 6448, 6449, 6450, 6451, 6452, 6453, 6454, 6455, 6456, 6457, 6458, 6459, 6460, 6461, 6462, 6463, 6464, 6465, 6466, 6467, 6468, 6469, 6470, 6471, 6472, 6473, 6474, 6475, 6476, 6477, 6478, 6479, 6480, 6481, 6482, 6483, 6484, 6485, 6486, 6487, 6488, 6489, 6490, 6491, 6492, 6493, 6494, 6495, 6496, 6497, 6498, 6499, 6500, 6501, 6502, 6503, 6504, 6505, 6506, 6507, 6508, 6509, 6510, 6511, 6512, 6513, 6514, 6515, 6516, 6517, 6518, 6519, 6520, 6521, 6522, 6523, 6524, 6525, 6526, 6527, 6528, 6529, 6530, 6531, 6532, 6533, 6534, 6535, 6536, 6537, 6538, 6539, 6540, 6541, 6542, 6543, 6544, 6545, 6546, 6547, 6548, 6549, 6550, 6551, 6552, 6553, 6554, 6555, 6556, 6557, 6558, 6559, 6560, 6561, 6562, 6563, 6564, 6565, 6566, 6567, 6568, 6569, 6570, 6571, 6572, 6573, 6574, 6575, 6576, 6577, 6578, 6579, 6580, 6581, 6582, 6583, 6584, 6585, 6586, 6587, 6588, 6589, 6590, 6591, 6592, 6593, 6594, 6595, 6596, 6597, 6598, 6599, 6600, 6601, 6602, 6603, 6604, 6605, 6606, 6607, 6608, 6609, 6610, 6611, 6612, 6613, 6614, 6615, 6616, 6617, 6618, 6619, 6620, 6621, 6622, 6623, 6624, 6625, 6626, 6627, 6628, 6629, 6630, 6631, 6632, 6633, 6634, 6635, 6636, 6637, 6638, 6639, 6640, 6641, 6642, 6643, 6644, 6645, 6646, 6647, 6648, 6649, 6650, 6651, 6652, 6653, 6654, 6655, 6656, 6657, 6658, 6659, 6660, 6661, 6662, 6663, 6664, 6665, 6666, 6667, 6668, 6669, 6670, 6671, 6672, 6673, 6674, 6675, 6676, 6677, 6678, 6679, 6680, 6681, 6682, 6683, 6684, 6685, 6686, 6687, 6688, 6689, 6690, 6691, 6692, 6693, 6694, 6695, 6696, 6697, 6698, 6699, 6700, 6701, 6702, 6703, 6704, 6705, 6706, 6707, 6708, 6709, 6710, 6711, 6712, 6713, 6714, 6715, 6716, 6717, 6718, 6719, 6720, 6721, 6722, 6723, 6724, 6725, 6726, 6727, 6728, 6729, 6730, 6731, 6732, 6733, 6734, 6735, 6736, 6737, 6738, 6739, 6740, 6741, 6742, 6743, 6744, 6745, 6746, 6747, 6748, 6749, 6750, 6751, 6752, 6753, 6754, 6755, 6756, 6757, 6758, 6759, 6760, 6761, 6762, 6763, 6764, 6765, 6766, 6767, 6768, 6769, 6770, 6771, 6772, 6773, 6774, 6775, 6776, 6777, 6778, 6779, 6780, 6781, 6782, 6783, 6784, 6785, 6786, 6787, 6788, 6789, 6790, 6791, 6792, 6793, 6794, 6795, 6796, 6797, 6798, 6799, 6800, 6801, 6802, 6803, 6804, 6805, 6806, 6807, 6808, 6809, 6810, 6811, 6812, 6813, 6814, 6815, 6816, 6817, 6818, 6819, 6820, 6821, 6822, 6823, 6824, 6825, 6826, 6827, 6828, 6829, 6830, 6831, 6832, 6833, 6834, 6835, 6836, 6837, 6838, 6839, 6840, 6841, 6842, 6843, 6844, 6845, 6846, 6847, 6848, 6849, 6850, 6851, 6852, 6853, 6854, 6855, 6856, 6857, 6858, 6859, 6860, 6861, 6862, 6863, 6864, 6865, 6866, 6867, 6868, 6869, 6870, 6871, 6872, 6873, 6874, 6875, 6876, 6877, 6878, 6879, 6880, 6881, 6882, 6883, 6884, 6885, 6886, 6887, 6888, 6889, 6890, 6891, 6892, 6893, 6894, 6895, 6896, 6897, 6898, 6899, 6900, 6901, 6902, 6903, 6904, 6905, 6906, 6907, 6908, 6909, 6910, 6911, 6912, 6913, 6914, 6915, 6916, 6917, 6918, 6919, 6920, 6921, 6922, 6923, 6924, 6925, 6926, 6927, 6928, 6929, 6930, 6931, 6932, 6933, 6934, 6935, 6936, 6937, 6938, 6939, 6940, 6941, 6942, 6943, 6944, 6945, 6946, 6947, 6948, 6949, 6950, 6951, 6952, 6953, 6954, 6955, 6956, 6957, 6958, 6959, 6960, 6961, 6962, 6963, 6964, 6965, 6966, 6967, 6968, 6969, 6970, 6971, 6972, 6973, 6974, 6975, 6976, 6977, 6978, 6979, 6980, 6981, 6982, 6983, 6984, 6985, 6986, 6987, 6988, 6989, 6990, 6991, 6992, 6993, 6994, 6995, 6996, 6997, 6998, 6999, 7000, 7001, 7002, 7003, 7004, 7005, 7006, 7007, 7008, 7009, 7010, 7011, 7012, 7013, 7014, 7015, 7016, 7017, 7018, 7019, 7020, 7021, 7022, 7023, 7024, 7025, 7026, 7027, 7028, 7029, 7030, 7031, 7032, 7033, 7034, 7035, 7036, 7037, 7038, 7039, 7040, 7041, 7042, 7043, 7044, 7045, 7046, 7047, 7048, 7049, 7050, 7051, 7052, 7053, 7054, 7055, 7056, 7057, 7058, 7059, 7060, 7061, 7062, 7063, 7064, 7065, 7066, 7067, 7068, 7069, 7070, 7071, 7072, 7073, 7074, 7075, 7076, 7077, 7078, 7079, 7080, 7081, 7082, 7083, 7084, 7085, 7086, 7087, 7088, 7089, 7090, 7091, 7092, 7093, 7094, 7095, 7096, 7097, 7098, 7099, 7100, 7101, 7102, 7103, 7104, 7105, 7106, 7107, 7108, 7109, 7110, 7111, 7112, 7113, 7114, 7115, 7116, 7117, 7118, 7119, 7120, 7121, 7122, 7123, 7124, 7125, 7126, 7127, 7128, 7129, 7130, 7131, 7132, 7133, 7134, 7135, 7136, 7137, 7138, 7139, 7140, 7141, 7142, 7143, 7144, 7145, 7146, 7147, 7148, 7149, 7150, 7151, 7152, 7153, 7154, 7155, 7156, 7157, 7158, 7159, 7160, 7161, 7162, 7163, 7164, 7165, 7166, 7167, 7168, 7169, 7170, 7171, 7172, 7173, 7174, 7175, 7176, 7177, 7178, 7179, 7180, 7181, 7182, 7183, 7184, 7185, 7186, 7187, 7188, 7189, 7190, 7191, 7192, 7193, 7194, 7195, 7196, 7197, 7198, 7199, 7200, 7201, 7202, 7203, 7204, 7205, 7206, 7207, 7208, 7209, 7210, 7211, 7212, 7213, 7214, 7215, 7216, 7217, 7218, 7219, 7220, 7221, 7222, 7223, 7224, 7225, 7226, 7227, 7228, 7229, 7230, 7231, 7232, 7233, 7234, 7235, 7236, 7237, 7238, 7239, 7240, 7241, 7242, 7243, 7244, 7245, 7246, 7247, 7248, 7249, 7250, 7251, 7252, 7253, 7254, 7255, 7256, 7257, 7258, 7259, 7260, 7261, 7262, 7263, 7264, 7265, 7266, 7267, 7268, 7269, 7270, 7271, 7272, 7273, 7274, 7275, 7276, 7277, 7278, 7279, 7280, 7281, 7282, 7283, 7284, 7285, 7286, 7287, 7288, 7289, 7290, 7291, 7292, 7293, 7294, 7295, 7296, 7297, 7298, 7299, 7300, 7301, 7302, 7303, 7304, 7305, 7306, 7307, 7308, 7309, 7310, 7311, 7312, 7313, 7314, 7315, 7316, 7317, 7318, 7319, 7320, 7321, 7322, 7323, 7324, 7325, 7326, 7327, 7328, 7329, 7330, 7331, 7332, 7333, 7334, 7335, 7336, 7337, 7338, 7339, 7340, 7341, 7342, 7343, 7344, 7345, 7346, 7347, 7348, 7349, 7350, 7351, 7352, 7353, 7354, 7355, 7356, 7357, 7358, 7359, 7360, 7361, 7362, 7363, 7364, 7365, 7366, 7367, 7368, 7369, 7370, 7371, 7372, 7373, 7374, 7375, 7376, 7377, 7378, 7379, 7380, 7381, 7382, 7383, 7384, 7385, 7386, 7387, 7388, 7389, 7390, 7391, 7392, 7393, 7394, 7395, 7396, 7397, 7398, 7399, 7400, 7401, 7402, 7403, 7404, 7405, 7406, 7407, 7408, 7409, 7410, 7411, 7412, 7413, 7414, 7415, 7416, 7417, 7418, 7419, 7420, 7421, 7422, 7423, 7424, 7425, 7426, 7427, 7428, 7429, 7430, 7431, 7432, 7433, 7434, 7435, 7436, 7437, 7438, 7439, 7440, 7441, 7442, 7443, 7444, 7445, 7446, 7447, 7448, 7449, 7450, 7451, 7452, 7453, 7454, 7455, 7456, 7457, 7458, 7459, 7460, 7461, 7462, 7463, 7464, 7465, 7466, 7467, 7468, 7469, 7470, 7471, 7472, 7473, 7474, 7475, 7476, 7477, 7478, 7479, 7480, 7481, 7482, 7483, 7484, 7485, 7486, 7487, 7488, 7489, 7490, 7491, 7492, 7493, 7494, 7495, 7496, 7497, 7498, 7499, 7500, 7501, 7502, 7503, 7504, 7505, 7506, 7507, 7508, 7509, 7510, 7511, 7512, 7513, 7514, 7515, 7516, 7517, 7518, 7519, 7520, 7521, 7522, 7523, 7524, 7525, 7526, 7527, 7528, 7529, 7530, 7531, 7532, 7533, 7534, 7535, 7536, 7537, 7538, 7539, 7540, 7541, 7542, 7543, 7544, 7545, 7546, 7547, 7548, 7549, 7550, 7551, 7552, 7553, 7554, 7555, 7556, 7557, 7558, 7559, 7560, 7561, 7562, 7563, 7564, 7565, 7566, 7567, 7568, 7569, 7570, 7571, 7572, 7573, 7574, 7575, 7576, 7577, 7578, 7579, 7580, 7581, 7582, 7583, 7584, 7585, 7586, 7587, 7588, 7589, 7590, 7591, 7592, 7593, 7594, 7595, 7596, 7597, 7598, 7599, 7600, 7601, 7602, 7603, 7604, 7605, 7606, 7607, 7608, 7609, 7610, 7611, 7612, 7613, 7614, 7615, 7616, 7617, 7618, 7619, 7620, 7621, 7622, 7623, 7624, 7625, 7626, 7627, 7628, 7629, 7630, 7631, 7632, 7633, 7634, 7635, 7636, 7637, 7638, 7639, 7640, 7641, 7642, 7643, 7644, 7645, 7646, 7647, 7648, 7649, 7650, 7651, 7652, 7653, 7654, 7655, 7656, 7657, 7658, 7659, 7660, 7661, 7662, 7663, 7664, 7665, 7666, 7667, 7668, 7669, 7670, 7671, 7672, 7673, 7674, 7675, 7676, 7677, 7678, 7679, 7680, 7681, 7682, 7683, 7684, 7685, 7686, 7687, 7688, 7689, 7690, 7691, 7692, 7693, 7694, 7695, 7696, 7697, 7698, 7699, 7700, 7701, 7702, 7703, 7704, 7705, 7706, 7707, 7708, 7709, 7710, 7711, 7712, 7713, 7714, 7715, 7716, 7717, 7718, 7719, 7720, 7721, 7722, 7723, 7724, 7725, 7726, 7727, 7728, 7729, 7730, 7731, 7732, 7733, 7734, 7735, 7736, 7737, 7738, 7739, 7740, 7741, 7742, 7743, 7744, 7745, 7746, 7747, 7748, 7749, 7750, 7751, 7752, 7753, 7754, 7755, 7756, 7757, 7758, 7759, 7760, 7761, 7762, 7763, 7764, 7765, 7766, 7767, 7768, 7769, 7770, 7771, 7772, 7773, 7774, 7775, 7776, 7777, 7778, 7779, 7780, 7781, 7782, 7783, 7784, 7785, 7786, 7787, 7788, 7789, 7790, 7791, 7792, 7793, 7794, 7795, 7796, 7797, 7798, 7799, 7800, 7801, 7802, 7803, 7804, 7805, 7806, 7807, 7808, 7809, 7810, 7811, 7812, 7813, 7814, 7815, 7816, 7817, 7818, 7819, 7820, 7821, 7822, 7823, 7824, 7825, 7826, 7827, 7828, 7829, 7830, 7831, 7832, 7833, 7834, 7835, 7836, 7837, 7838, 7839, 7840, 7841, 7842, 7843, 7844, 7845, 7846, 7847, 7848, 7849, 7850, 7851, 7852, 7853, 7854, 7855, 7856, 7857, 7858, 7859, 7860, 7861, 7862, 7863, 7864, 7865, 7866, 7867, 7868, 7869, 7870, 7871, 7872, 7873, 7874, 7875, 7876, 7877, 7878, 7879, 7880, 7881, 7882, 7883, 7884, 7885, 7886, 7887, 7888, 7889, 7890, 7891, 7892, 7893, 7894, 7895, 7896, 7897, 7898, 7899, 7900, 7901, 7902, 7903, 7904, 7905, 7906, 7907, 7908, 7909, 7910, 7911, 7912, 7913, 7914, 7915, 7916, 7917, 7918, 7919, 7920, 7921, 7922, 7923, 7924, 7925, 7926, 7927, 7928, 7929, 7930, 7931, 7932, 7933, 7934, 7935, 7936, 7937, 7938, 7939, 7940, 7941, 7942, 7943, 7944, 7945, 7946, 7947, 7948, 7949, 7950, 7951, 7952, 7953, 7954, 7955, 7956, 7957, 7958, 7959, 7960, 7961, 7962, 7963, 7964, 7965, 7966, 7967, 7968, 7969, 7970, 7971, 7972, 7973, 7974, 7975, 7976, 7977, 7978, 7979, 7980, 7981, 7982, 7983, 7984, 7985, 7986, 7987, 7988, 7989, 7990, 7991, 7992, 7993, 7994, 7995, 7996, 7997, 7998, 7999, 8000, 8001, 8002, 8003, 8004, 8005, 8006, 8007, 8008, 8009, 8010, 8011, 8012, 8013, 8014, 8015, 8016, 8017, 8018, 8019, 8020, 8021, 8022, 8023, 8024, 8025, 8026, 8027, 8028, 8029, 8030, 8031, 8032, 8033, 8034, 8035, 8036, 8037, 8038, 8039, 8040, 8041, 8042, 8043, 8044, 8045, 8046, 8047, 8048, 8049, 8050, 8051, 8052, 8053, 8054, 8055, 8056, 8057, 8058, 8059, 8060, 8061, 8062, 8063, 8064, 8065, 8066, 8067, 8068, 8069, 8070, 8071, 8072, 8073, 8074, 8075, 8076, 8077, 8078, 8079, 8080, 8081, 8082, 8083, 8084, 8085, 8086, 8087, 8088, 8089, 8090, 8091, 8092, 8093, 8094, 8095, 8096, 8097, 8098, 8099, 8100, 8101, 8102, 8103, 8104, 8105, 8106, 8107, 8108, 8109, 8110, 8111, 8112, 8113, 8114, 8115, 8116, 8117, 8118, 8119, 8120, 8121, 8122, 8123, 8124, 8125, 8126, 8127, 8128, 8129, 8130, 8131, 8132, 8133, 8134, 8135, 8136, 8137, 8138, 8139, 8140, 8141, 8142, 8143, 8144, 8145, 8146, 8147, 8148, 8149, 8150, 8151, 8152, 8153, 8154, 8155, 8156, 8157, 8158, 8159, 8160, 8161, 8162, 8163, 8164, 8165, 8166, 8167, 8168, 8169, 8170, 8171, 8172, 8173, 8174, 8175, 8176, 8177, 8178, 8179, 8180, 8181, 8182, 8183, 8184, 8185, 8186, 8187, 8188, 8189, 8190, 8191, 8192, 8193, 8194, 8195, 8196, 8197, 8198, 8199, 8200, 8201, 8202, 8203, 8204, 8205, 8206, 8207, 8208, 8209, 8210, 8211, 8212, 8213, 8214, 8215, 8216, 8217, 8218, 8219, 8220, 8221, 8222, 8223, 8224, 8225, 8226, 8227, 8228, 8229, 8230, 8231, 8232, 8233, 8234, 8235, 8236, 8237, 8238, 8239, 8240, 8241, 8242, 8243, 8244, 8245, 8246, 8247, 8248, 8249, 8250, 8251, 8252, 8253, 8254, 8255, 8256, 8257, 8258, 8259, 8260, 8261, 8262, 8263, 8264, 8265, 8266, 8267, 8268, 8269, 8270, 8271, 8272, 8273, 8274, 8275, 8276, 8277, 8278, 8279, 8280, 8281, 8282, 8283, 8284, 8285, 8286, 8287, 8288, 8289, 8290, 8291, 8292, 8293, 8294, 8295, 8296, 8297, 8298, 8299, 8300, 8301, 8302, 8303, 8304, 8305, 8306, 8307, 8308, 8309, 8310, 8311, 8312, 8313, 8314, 8315, 8316, 8317, 8318, 8319, 8320, 8321, 8322, 8323, 8324, 8325, 8326, 8327, 8328, 8329, 8330, 8331, 8332, 8333, 8334, 8335, 8336, 8337, 8338, 8339, 8340, 8341, 8342, 8343, 8344, 8345, 8346, 8347, 8348, 8349, 8350, 8351, 8352, 8353, 8354, 8355, 8356, 8357, 8358, 8359, 8360, 8361, 8362, 8363, 8364, 8365, 8366, 8367, 8368, 8369, 8370, 8371, 8372, 8373, 8374, 8375, 8376, 8377, 8378, 8379, 8380, 8381, 8382, 8383, 8384, 8385, 8386, 8387, 8388, 8389, 8390, 8391, 8392, 8393, 8394, 8395, 8396, 8397, 8398, 8399, 8400, 8401, 8402, 8403, 8404, 8405, 8406, 8407, 8408, 8409, 8410, 8411, 8412, 8413, 8414, 8415, 8416, 8417, 8418, 8419, 8420, 8421, 8422, 8423, 8424, 8425, 8426, 8427, 8428, 8429, 8430, 8431, 8432, 8433, 8434, 8435, 8436, 8437, 8438, 8439, 8440, 8441, 8442, 8443, 8444, 8445, 8446, 8447, 8448, 8449, 8450, 8451, 8452, 8453, 8454, 8455, 8456, 8457, 8458, 8459, 8460, 8461, 8462, 8463, 8464, 8465, 8466, 8467, 8468, 8469, 8470, 8471, 8472, 8473, 8474, 8475, 8476, 8477, 8478, 8479, 8480, 8481, 8482, 8483, 8484, 8485, 8486, 8487, 8488, 8489, 8490, 8491, 8492, 8493, 8494, 8495, 8496, 8497, 8498, 8499, 8500, 8501, 8502, 8503, 8504, 8505, 8506, 8507, 8508, 8509, 8510, 8511, 8512, 8513, 8514, 8515, 8516, 8517, 8518, 8519, 8520, 8521, 8522, 8523, 8524, 8525, 8526, 8527, 8528, 8529, 8530, 8531, 8532, 8533, 8534, 8535, 8536, 8537, 8538, 8539, 8540, 8541, 8542, 8543, 8544, 8545, 8546, 8547, 8548, 8549, 8550, 8551, 8552, 8553, 8554, 8555, 8556, 8557, 8558, 8559, 8560, 8561, 8562, 8563, 8564, 8565, 8566, 8567, 8568, 8569, 8570, 8571, 8572, 8573, 8574, 8575, 8576, 8577, 8578, 8579, 8580, 8581, 8582, 8583, 8584, 8585, 8586, 8587, 8588, 8589, 8590, 8591, 8592, 8593, 8594, 8595, 8596, 8597, 8598, 8599, 8600, 8601, 8602, 8603, 8604, 8605, 8606, 8607, 8608, 8609, 8610, 8611, 8612, 8613, 8614, 8615, 8616, 8617, 8618, 8619, 8620, 8621, 8622, 8623, 8624, 8625, 8626, 8627, 8628, 8629, 8630, 8631, 8632, 8633, 8634, 8635, 8636, 8637, 8638, 8639, 8640, 8641, 8642, 8643, 8644, 8645, 8646, 8647, 8648, 8649, 8650, 8651, 8652, 8653, 8654, 8655, 8656, 8657, 8658, 8659, 8660, 8661, 8662, 8663, 8664, 8665, 8666, 8667, 8668, 8669, 8670, 8671, 8672, 8673, 8674, 8675, 8676, 8677, 8678, 8679, 8680, 8681, 8682, 8683, 8684, 8685, 8686, 8687, 8688, 8689, 8690, 8691, 8692, 8693, 8694, 8695, 8696, 8697, 8698, 8699, 8700, 8701, 8702, 8703, 8704, 8705, 8706, 8707, 8708, 8709, 8710, 8711, 8712, 8713, 8714, 8715, 8716, 8717, 8718, 8719, 8720, 8721, 8722, 8723, 8724, 8725, 8726, 8727, 8728, 8729, 8730, 8731, 8732, 8733, 8734, 8735, 8736, 8737, 8738, 8739, 8740, 8741, 8742, 8743, 8744, 8745, 8746, 8747, 8748, 8749, 8750, 8751, 8752, 8753, 8754, 8755, 8756, 8757, 8758, 8759, 8760, 8761, 8762, 8763, 8764, 8765, 8766, 8767, 8768, 8769, 8770, 8771, 8772, 8773, 8774, 8775, 8776, 8777, 8778, 8779, 8780, 8781, 8782, 8783, 8784, 8785, 8786, 8787, 8788, 8789, 8790, 8791, 8792, 8793, 8794, 8795, 8796, 8797, 8798, 8799, 8800, 8801, 8802, 8803, 8804, 8805, 8806, 8807, 8808, 8809, 8810, 8811, 8812, 8813, 8814, 8815, 8816, 8817, 8818, 8819, 8820, 8821, 8822, 8823, 8824, 8825, 8826, 8827, 8828, 8829, 8830, 8831, 8832, 8833, 8834, 8835, 8836, 8837, 8838, 8839, 8840, 8841, 8842, 8843, 8844, 8845, 8846, 8847, 8848, 8849, 8850, 8851, 8852, 8853, 8854, 8855, 8856, 8857, 8858, 8859, 8860, 8861, 8862, 8863, 8864, 8865, 8866, 8867, 8868, 8869, 8870, 8871, 8872, 8873, 8874, 8875, 8876, 8877, 8878, 8879, 8880, 8881, 8882, 8883, 8884, 8885, 8886, 8887, 8888, 8889, 8890, 8891, 8892, 8893, 8894, 8895, 8896, 8897, 8898, 8899, 8900, 8901, 8902, 8903, 8904, 8905, 8906, 8907, 8908, 8909, 8910, 8911, 8912, 8913, 8914, 8915, 8916, 8917, 8918, 8919, 8920, 8921, 8922, 8923, 8924, 8925, 8926, 8927, 8928, 8929, 8930, 8931, 8932, 8933, 8934, 8935, 8936, 8937, 8938, 8939, 8940, 8941, 8942, 8943, 8944, 8945, 8946, 8947, 8948, 8949, 8950, 8951, 8952, 8953, 8954, 8955, 8956, 8957, 8958, 8959, 8960, 8961, 8962, 8963, 8964, 8965, 8966, 8967, 8968, 8969, 8970, 8971, 8972, 8973, 8974, 8975, 8976, 8977, 8978, 8979, 8980, 8981, 8982, 8983, 8984, 8985, 8986, 8987, 8988, 8989, 8990, 8991, 8992, 8993, 8994, 8995, 8996, 8997, 8998, 8999, 9000, 9001, 9002, 9003, 9004, 9005, 9006, 9007, 9008, 9009, 9010, 9011, 9012, 9013, 9014, 9015, 9016, 9017, 9018, 9019, 9020, 9021, 9022, 9023, 9024, 9025, 9026, 9027, 9028, 9029, 9030, 9031, 9032, 9033, 9034, 9035, 9036, 9037, 9038, 9039, 9040, 9041, 9042, 9043, 9044, 9045, 9046, 9047, 9048, 9049, 9050, 9051, 9052, 9053, 9054, 9055, 9056, 9057, 9058, 9059, 9060, 9061, 9062, 9063, 9064, 9065, 9066, 9067, 9068, 9069, 9070, 9071, 9072, 9073, 9074, 9075, 9076, 9077, 9078, 9079, 9080, 9081, 9082, 9083, 9084, 9085, 9086, 9087, 9088, 9089, 9090, 9091, 9092, 9093, 9094, 9095, 9096, 9097, 9098, 9099, 9100, 9101, 9102, 9103, 9104, 9105, 9106, 9107, 9108, 9109, 9110, 9111, 9112, 9113, 9114, 9115, 9116, 9117, 9118, 9119, 9120, 9121, 9122, 9123, 9124, 9125, 9126, 9127, 9128, 9129, 9130, 9131, 9132, 9133, 9134, 9135, 9136, 9137, 9138, 9139, 9140, 9141, 9142, 9143, 9144, 9145, 9146, 9147, 9148, 9149, 9150, 9151, 9152, 9153, 9154, 9155, 9156, 9157, 9158, 9159, 9160, 9161, 9162, 9163, 9164, 9165, 9166, 9167, 9168, 9169, 9170, 9171, 9172, 9173, 9174, 9175, 9176, 9177, 9178, 9179, 9180, 9181, 9182, 9183, 9184, 9185, 9186, 9187, 9188, 9189, 9190, 9191, 9192, 9193, 9194, 9195, 9196, 9197, 9198, 9199, 9200, 9201, 9202, 9203, 9204, 9205, 9206, 9207, 9208, 9209, 9210, 9211, 9212, 9213, 9214, 9215, 9216, 9217, 9218, 9219, 9220, 9221, 9222, 9223, 9224, 9225, 9226, 9227, 9228, 9229, 9230, 9231, 9232, 9233, 9234, 9235, 9236, 9237, 9238, 9239, 9240, 9241, 9242, 9243, 9244, 9245, 9246, 9247, 9248, 9249, 9250, 9251, 9252, 9253, 9254, 9255, 9256, 9257, 9258, 9259, 9260, 9261, 9262, 9263, 9264, 9265, 9266, 9267, 9268, 9269, 9270, 9271, 9272, 9273, 9274, 9275, 9276, 9277, 9278, 9279, 9280, 9281, 9282, 9283, 9284, 9285, 9286, 9287, 9288, 9289, 9290, 9291, 9292, 9293, 9294, 9295, 9296, 9297, 9298, 9299, 9300, 9301, 9302, 9303, 9304, 9305, 9306, 9307, 9308, 9309, 9310, 9311, 9312, 9313, 9314, 9315, 9316, 9317, 9318, 9319, 9320, 9321, 9322, 9323, 9324, 9325, 9326, 9327, 9328, 9329, 9330, 9331, 9332, 9333, 9334, 9335, 9336, 9337, 9338, 9339, 9340, 9341, 9342, 9343, 9344, 9345, 9346, 9347, 9348, 9349, 9350, 9351, 9352, 9353, 9354, 9355, 9356, 9357, 9358, 9359, 9360, 9361, 9362, 9363, 9364, 9365, 9366, 9367, 9368, 9369, 9370, 9371, 9372, 9373, 9374, 9375, 9376, 9377, 9378, 9379, 9380, 9381, 9382, 9383, 9384, 9385, 9386, 9387, 9388, 9389, 9390, 9391, 9392, 9393, 9394, 9395, 9396, 9397, 9398, 9399, 9400, 9401, 9402, 9403, 9404, 9405, 9406, 9407, 9408, 9409, 9410, 9411, 9412, 9413, 9414, 9415, 9416, 9417, 9418, 9419, 9420, 9421, 9422, 9423, 9424, 9425, 9426, 9427, 9428, 9429, 9430, 9431, 9432, 9433, 9434, 9435, 9436, 9437, 9438, 9439, 9440, 9441, 9442, 9443, 9444, 9445, 9446, 9447, 9448, 9449, 9450, 9451, 9452, 9453, 9454, 9455, 9456, 9457, 9458, 9459, 9460, 9461, 9462, 9463, 9464, 9465, 9466, 9467, 9468, 9469, 9470, 9471, 9472, 9473, 9474, 9475, 9476, 9477, 9478, 9479, 9480, 9481, 9482, 9483, 9484, 9485, 9486, 9487, 9488, 9489, 9490, 9491, 9492, 9493, 9494, 9495, 9496, 9497, 9498, 9499, 9500, 9501, 9502, 9503, 9504, 9505, 9506, 9507, 9508, 9509, 9510, 9511, 9512, 9513, 9514, 9515, 9516, 9517, 9518, 9519, 9520, 9521, 9522, 9523, 9524, 9525, 9526, 9527, 9528, 9529, 9530, 9531, 9532, 9533, 9534, 9535, 9536, 9537, 9538, 9539, 9540, 9541, 9542, 9543, 9544, 9545, 9546, 9547, 9548, 9549, 9550, 9551, 9552, 9553, 9554, 9555, 9556, 9557, 9558, 9559, 9560, 9561, 9562, 9563, 9564, 9565, 9566, 9567, 9568, 9569, 9570, 9571, 9572, 9573, 9574, 9575, 9576, 9577, 9578, 9579, 9580, 9581, 9582, 9583, 9584, 9585, 9586, 9587, 9588, 9589, 9590, 9591, 9592, 9593, 9594, 9595, 9596, 9597, 9598, 9599, 9600, 9601, 9602, 9603, 9604, 9605, 9606, 9607, 9608, 9609, 9610, 9611, 9612, 9613, 9614, 9615, 9616, 9617, 9618, 9619, 9620, 9621, 9622, 9623, 9624, 9625, 9626, 9627, 9628, 9629, 9630, 9631, 9632, 9633, 9634, 9635, 9636, 9637, 9638, 9639, 9640, 9641, 9642, 9643, 9644, 9645, 9646, 9647, 9648, 9649, 9650, 9651, 9652, 9653, 9654, 9655, 9656, 9657, 9658, 9659, 9660, 9661, 9662, 9663, 9664, 9665, 9666, 9667, 9668, 9669, 9670, 9671, 9672, 9673, 9674, 9675, 9676, 9677, 9678, 9679, 9680, 9681, 9682, 9683, 9684, 9685, 9686, 9687, 9688, 9689, 9690, 9691, 9692, 9693, 9694, 9695, 9696, 9697, 9698, 9699, 9700, 9701, 9702, 9703, 9704, 9705, 9706, 9707, 9708, 9709, 9710, 9711, 9712, 9713, 9714, 9715, 9716, 9717, 9718, 9719, 9720, 9721, 9722, 9723, 9724, 9725, 9726, 9727, 9728, 9729, 9730, 9731, 9732, 9733, 9734, 9735, 9736, 9737, 9738, 9739, 9740, 9741, 9742, 9743, 9744, 9745, 9746, 9747, 9748, 9749, 9750, 9751, 9752, 9753, 9754, 9755, 9756, 9757, 9758, 9759, 9760, 9761, 9762, 9763, 9764, 9765, 9766, 9767, 9768, 9769, 9770, 9771, 9772, 9773, 9774, 9775, 9776, 9777, 9778, 9779, 9780, 9781, 9782, 9783, 9784, 9785, 9786, 9787, 9788, 9789, 9790, 9791, 9792, 9793, 9794, 9795, 9796, 9797, 9798, 9799, 9800, 9801, 9802, 9803, 9804, 9805, 9806, 9807, 9808, 9809, 9810, 9811, 9812, 9813, 9814, 9815, 9816, 9817, 9818, 9819, 9820, 9821, 9822, 9823, 9824, 9825, 9826, 9827, 9828, 9829, 9830, 9831, 9832, 9833, 9834, 9835, 9836, 9837, 9838, 9839, 9840, 9841, 9842, 9843, 9844, 9845, 9846, 9847, 9848, 9849, 9850, 9851, 9852, 9853, 9854, 9855, 9856, 9857, 9858, 9859, 9860, 9861, 9862, 9863, 9864, 9865, 9866, 9867, 9868, 9869, 9870, 9871, 9872, 9873, 9874, 9875, 9876, 9877, 9878, 9879, 9880, 9881, 9882, 9883, 9884, 9885, 9886, 9887, 9888, 9889, 9890, 9891, 9892, 9893, 9894, 9895, 9896, 9897, 9898, 9899, 9900, 9901, 9902, 9903, 9904, 9905, 9906, 9907, 9908, 9909, 9910, 9911, 9912, 9913, 9914, 9915, 9916, 9917, 9918, 9919, 9920, 9921, 9922, 9923, 9924, 9925, 9926, 9927, 9928, 9929, 9930, 9931, 9932, 9933, 9934, 9935, 9936, 9937, 9938, 9939, 9940, 9941, 9942, 9943, 9944, 9945, 9946, 9947, 9948, 9949, 9950, 9951, 9952, 9953, 9954, 9955, 9956, 9957, 9958, 9959, 9960, 9961, 9962, 9963, 9964, 9965, 9966, 9967, 9968, 9969, 9970, 9971, 9972, 9973, 9974, 9975, 9976, 9977, 9978, 9979, 9980, 9981, 9982, 9983, 9984, 9985, 9986, 9987, 9988, 9989, 9990, 9991, 9992, 9993, 9994, 9995, 9996, 9997, 9998, 9999, 10000, 10001, 10002, 10003, 10004, 10005, 10006, 10007, 10008, 10009, 10010, 10011, 10012, 10013, 10014, 10015, 10016, 10017, 10018, 10019, 10020, 10021, 10022, 10023, 10024, 10025, 10026, 10027, 10028, 10029, 10030, 10031, 10032, 10033, 10034, 10035, 10036, 10037, 10038, 10039, 10040, 10041, 10042, 10043, 10044, 10045, 10046, 10047, 10048, 10049, 10050, 10051, 10052, 10053, 10054, 10055, 10056, 10057, 10058, 10059, 10060, 10061, 10062, 10063, 10064, 10065, 10066, 10067, 10068, 10069, 10070, 10071, 10072, 10073, 10074, 10075, 10076, 10077, 10078, 10079, 10080, 10081, 10082, 10083, 10084, 10085, 10086, 10087, 10088, 10089, 10090, 10091, 10092, 10093, 10094, 10095, 10096, 10097, 10098, 10099, 10100, 10101, 10102, 10103, 10104, 10105, 10106, 10107, 10108, 10109, 10110, 10111, 10112, 10113, 10114, 10115, 10116, 10117, 10118, 10119, 10120, 10121, 10122, 10123, 10124, 10125, 10126, 10127, 10128, 10129, 10130, 10131, 10132, 10133, 10134, 10135, 10136, 10137, 10138, 10139, 10140, 10141, 10142, 10143, 10144, 10145, 10146, 10147, 10148, 10149, 10150, 10151, 10152, 10153, 10154, 10155, 10156, 10157, 10158, 10159, 10160, 10161, 10162, 10163, 10164, 10165, 10166, 10167, 10168, 10169, 10170, 10171, 10172, 10173, 10174, 10175, 10176, 10177, 10178, 10179, 10180, 10181, 10182, 10183, 10184, 10185, 10186, 10187, 10188, 10189, 10190, 10191, 10192, 10193, 10194, 10195, 10196, 10197, 10198, 10199, 10200, 10201, 10202, 10203, 10204, 10205, 10206, 10207, 10208, 10209, 10210, 10211, 10212, 10213, 10214, 10215, 10216, 10217, 10218, 10219, 10220, 10221, 10222, 10223, 10224, 10225, 10226, 10227, 10228, 10229, 10230, 10231, 10232, 10233, 10234, 10235, 10236, 10237, 10238, 10239, 10240, 10241, 10242, 10243, 10244, 10245, 10246, 10247, 10248, 10249, 10250, 10251, 10252, 10253, 10254, 10255, 10256, 10257, 10258, 10259, 10260, 10261, 10262, 10263, 10264, 10265, 10266, 10267, 10268, 10269, 10270, 10271, 10272, 10273, 10274, 10275, 10276, 10277, 10278, 10279, 10280, 10281, 10282, 10283, 10284, 10285, 10286, 10287, 10288, 10289, 10290, 10291, 10292, 10293, 10294, 10295, 10296, 10297, 10298, 10299, 10300, 10301, 10302, 10303, 10304, 10305, 10306, 10307, 10308, 10309, 10310, 10311, 10312, 10313, 10314, 10315, 10316, 10317, 10318, 10319, 10320, 10321, 10322, 10323, 10324, 10325, 10326, 10327, 10328, 10329, 10330, 10331, 10332, 10333, 10334, 10335, 10336, 10337, 10338, 10339, 10340, 10341, 10342, 10343, 10344, 10345, 10346, 10347, 10348, 10349, 10350, 10351, 10352, 10353, 10354, 10355, 10356, 10357, 10358, 10359, 10360, 10361, 10362, 10363, 10364, 10365, 10366, 10367, 10368, 10369, 10370, 10371, 10372, 10373, 10374, 10375, 10376, 10377, 10378, 10379, 10380, 10381, 10382, 10383, 10384, 10385, 10386, 10387, 10388, 10389, 10390, 10391, 10392, 10393, 10394, 10395, 10396, 10397, 10398, 10399, 10400, 10401, 10402, 10403, 10404, 10405, 10406, 10407, 10408, 10409, 10410, 10411, 10412, 10413, 10414, 10415, 10416, 10417, 10418, 10419, 10420, 10421, 10422, 10423, 10424, 10425, 10426, 10427, 10428, 10429, 10430, 10431, 10432, 10433, 10434, 10435, 10436, 10437, 10438, 10439, 10440, 10441, 10442, 10443, 10444, 10445, 10446, 10447, 10448, 10449, 10450, 10451, 10452, 10453, 10454, 10455, 10456, 10457, 10458, 10459, 10460, 10461, 10462, 10463, 10464, 10465, 10466, 10467, 10468, 10469, 10470, 10471, 10472, 10473, 10474, 10475, 10476, 10477, 10478, 10479, 10480, 10481, 10482, 10483, 10484, 10485, 10486, 10487, 10488, 10489, 10490, 10491, 10492, 10493, 10494, 10495, 10496, 10497, 10498, 10499, 10500, 10501, 10502, 10503, 10504, 10505, 10506, 10507, 10508, 10509, 10510, 10511, 10512, 10513, 10514, 10515, 10516, 10517, 10518, 10519, 10520, 10521, 10522, 10523, 10524, 10525, 10526, 10527, 10528, 10529, 10530, 10531, 10532, 10533, 10534, 10535, 10536, 10537, 10538, 10539, 10540, 10541, 10542, 10543, 10544, 10545, 10546, 10547, 10548, 10549, 10550, 10551, 10552, 10553, 10554, 10555, 10556, 10557, 10558, 10559, 10560, 10561, 10562, 10563, 10564, 10565, 10566, 10567, 10568, 10569, 10570, 10571, 10572, 10573, 10574, 10575, 10576, 10577, 10578, 10579, 10580, 10581, 10582, 10583, 10584, 10585, 10586, 10587, 10588, 10589, 10590, 10591, 10592, 10593, 10594, 10595, 10596, 10597, 10598, 10599, 10600, 10601, 10602, 10603, 10604, 10605, 10606, 10607, 10608, 10609, 10610, 10611, 10612, 10613, 10614, 10615, 10616, 10617, 10618, 10619, 10620, 10621, 10622, 10623, 10624, 10625, 10626, 10627, 10628, 10629, 10630, 10631, 10632, 10633, 10634, 10635, 10636, 10637, 10638, 10639, 10640, 10641, 10642, 10643, 10644, 10645, 10646, 10647, 10648, 10649, 10650, 10651, 10652, 10653, 10654, 10655, 10656, 10657, 10658, 10659, 10660, 10661, 10662, 10663, 10664, 10665, 10666, 10667, 10668, 10669, 10670, 10671, 10672, 10673, 10674, 10675, 10676, 10677, 10678, 10679, 10680, 10681, 10682, 10683, 10684, 10685, 10686, 10687, 10688, 10689, 10690, 10691, 10692, 10693, 10694, 10695, 10696, 10697, 10698, 10699, 10700, 10701, 10702, 10703, 10704, 10705, 10706, 10707, 10708, 10709, 10710, 10711, 10712, 10713, 10714, 10715, 10716, 10717, 10718, 10719, 10720, 10721, 10722, 10723, 10724, 10725, 10726, 10727, 10728, 10729, 10730, 10731, 10732, 10733, 10734, 10735, 10736, 10737, 10738, 10739, 10740, 10741, 10742, 10743, 10744, 10745, 10746, 10747, 10748, 10749, 10750, 10751, 10752, 10753, 10754, 10755, 10756, 10757, 10758, 10759, 10760, 10761, 10762, 10763, 10764, 10765, 10766, 10767, 10768, 10769, 10770, 10771, 10772, 10773, 10774, 10775, 10776, 10777, 10778, 10779, 10780, 10781, 10782, 10783, 10784, 10785, 10786, 10787, 10788, 10789, 10790, 10791, 10792, 10793, 10794, 10795, 10796, 10797, 10798, 10799, 10800, 10801, 10802, 10803, 10804, 10805, 10806, 10807, 10808, 10809, 10810, 10811, 10812, 10813, 10814, 10815, 10816, 10817, 10818, 10819, 10820, 10821, 10822, 10823, 10824, 10825, 10826, 10827, 10828, 10829, 10830, 10831, 10832, 10833, 10834, 10835, 10836, 10837, 10838, 10839, 10840, 10841, 10842, 10843, 10844, 10845, 10846, 10847, 10848, 10849, 10850, 10851, 10852, 10853, 10854, 10855, 10856, 10857, 10858, 10859, 10860, 10861, 10862, 10863, 10864, 10865, 10866, 10867, 10868, 10869, 10870, 10871, 10872, 10873, 10874, 10875, 10876, 10877, 10878, 10879, 10880, 10881, 10882, 10883, 10884, 10885, 10886, 10887, 10888, 10889, 10890, 10891, 10892, 10893, 10894, 10895, 10896, 10897, 10898, 10899, 10900, 10901, 10902, 10903, 10904, 10905, 10906, 10907, 10908, 10909, 10910, 10911, 10912, 10913, 10914, 10915, 10916, 10917, 10918, 10919, 10920, 10921, 10922, 10923, 10924, 10925, 10926, 10927, 10928, 10929, 10930, 10931, 10932, 10933, 10934, 10935, 10936, 10937, 10938, 10939, 10940, 10941, 10942, 10943, 10944, 10945, 10946, 10947, 10948, 10949, 10950, 10951, 10952, 10953, 10954, 10955, 10956, 10957, 10958, 10959, 10960, 10961, 10962, 10963, 10964, 10965, 10966, 10967, 10968, 10969, 10970, 10971, 10972, 10973, 10974, 10975, 10976, 10977, 10978, 10979, 10980, 10981, 10982, 10983, 10984, 10985, 10986, 10987, 10988, 10989, 10990, 10991, 10992, 10993, 10994, 10995, 10996, 10997, 10998, 10999, 11000, 11001, 11002, 11003, 11004, 11005, 11006, 11007, 11008, 11009, 11010, 11011, 11012, 11013, 11014, 11015, 11016, 11017, 11018, 11019, 11020, 11021, 11022, 11023, 11024, 11025, 11026, 11027, 11028, 11029, 11030, 11031, 11032, 11033, 11034, 11035, 11036, 11037, 11038, 11039, 11040, 11041, 11042, 11043, 11044, 11045, 11046, 11047, 11048, 11049, 11050, 11051, 11052, 11053, 11054, 11055, 11056, 11057, 11058, 11059, 11060, 11061, 11062, 11063, 11064, 11065, 11066, 11067, 11068, 11069, 11070, 11071, 11072, 11073, 11074, 11075, 11076, 11077, 11078, 11079, 11080, 11081, 11082, 11083, 11084, 11085, 11086, 11087, 11088, 11089, 11090, 11091, 11092, 11093, 11094, 11095, 11096, 11097, 11098, 11099, 11100, 11101, 11102, 11103, 11104, 11105, 11106, 11107, 11108, 11109, 11110, 11111, 11112, 11113, 11114, 11115, 11116, 11117, 11118, 11119, 11120, 11121, 11122, 11123, 11124, 11125, 11126, 11127, 11128, 11129, 11130, 11131, 11132, 11133, 11134, 11135, 11136, 11137, 11138, 11139, 11140, 11141, 11142, 11143, 11144, 11145, 11146, 11147, 11148, 11149, 11150, 11151, 11152]\n"
     ]
    }
   ],
   "source": [
    "print (documents)"
   ]
  },
  {
   "cell_type": "code",
   "execution_count": 84,
   "id": "1302dd99",
   "metadata": {},
   "outputs": [],
   "source": [
    "# Create a DataFrame to store documents and their assigned clusters\n",
    "clustered_data = pd.DataFrame({'document': text['Text'], 'cluster': labels})"
   ]
  },
  {
   "cell_type": "code",
   "execution_count": 85,
   "id": "8de34609",
   "metadata": {},
   "outputs": [
    {
     "name": "stdout",
     "output_type": "stream",
     "text": [
      "2    7055\n",
      "0    3383\n",
      "1     715\n",
      "Name: cluster, dtype: int64\n"
     ]
    }
   ],
   "source": [
    "# Count the number of documents in each cluster\n",
    "cluster_counts = clustered_data['cluster'].value_counts()\n",
    "print(cluster_counts)"
   ]
  },
  {
   "cell_type": "code",
   "execution_count": 86,
   "id": "8e5ed446",
   "metadata": {},
   "outputs": [
    {
     "name": "stdout",
     "output_type": "stream",
     "text": [
      "                                                                                                                      document  \\\n",
      "21                         RT @MetaverseShib: 🔥🔥🔥🔥🔥🔥🔥🔥🔥🔥🔥🔥500.000.000.000.000 $SHIB Infinity Bruned at #Binance \\n\\nRt win ETH   \n",
      "36     @badsciencemonk @JimMFelton I expect that its an unintentional collaboration like when people brag: car speedo says ...   \n",
      "44     RT @winflrose: GIVEAWAY $10 | 140.000 IDR \\n\\n- retweet &amp; follow @ilyloziq\\n- like their recent tweet \\n\\nEnds i...   \n",
      "47     RT @metakidsclub: We Are Giving Away 30 WL Spots at 1,500 Followers!! \\n\\nTo Enter: \\n\\nFollow Us\\nLike &amp; Retwee...   \n",
      "48                         RT @prctiu: GIVEAWAY $15 | 210.000 IDR - 4HRS⛱\\n\\n- rt &amp; like on @adrian__chamber 📌\\n\\n- rt + A   \n",
      "...                                                                                                                        ...   \n",
      "11098  RT @Shill_Ronin: $100 • 24 hrs • rt ⚡️\\n\\n➡️ $50 - Follow @RichQuack \\n\\n✳️ Extra $50 - RT Like &amp; Comment with $...   \n",
      "11107                  RT @cikicikupawpaw: Giveaway 50.000 IDR 🐉💛\\n\\nFollow me and @WindYyWin 🐉💛\\nLike RT 🐉💛\\nEnds 24 hours 🐉💛   \n",
      "11112             RT @NickNFTn: 1 Winner $SOL or $ETH • 80 min\\n\\n• RT + 🔔\\n• Like &amp; RT &amp; Comment on my last retweet 👇   \n",
      "11113  RT @ddeonumail: ✮ SMALL BIRTHJAY GIVEAWAY ✮\\n\\n1 winner of 22 pesos gcash !\\n\\nrules:\\nmbf,like,rt\\nreply the tags a...   \n",
      "11133  RT @sof1azara03: $50 or 730rb Giveaway ~ 12 hrs 🚑\\n\\nRT this + RT &amp; Comment #BabyPepe #Pepe on @BabyPepeCoinErc ...   \n",
      "\n",
      "       cluster  \n",
      "21           1  \n",
      "36           1  \n",
      "44           1  \n",
      "47           1  \n",
      "48           1  \n",
      "...        ...  \n",
      "11098        1  \n",
      "11107        1  \n",
      "11112        1  \n",
      "11113        1  \n",
      "11133        1  \n",
      "\n",
      "[715 rows x 2 columns]\n"
     ]
    }
   ],
   "source": [
    "# Example: print documents in cluster 1\n",
    "cluster_1_docs = clustered_data[clustered_data['cluster'] == 1]\n",
    "print(cluster_1_docs)"
   ]
  },
  {
   "cell_type": "markdown",
   "id": "60edb0ff",
   "metadata": {},
   "source": [
    "### I printed cluster 1 to see if there appeared to be anything that may be considered a violation, but I do not see the kind of threatening tones here like I did from KNN Classifier."
   ]
  },
  {
   "cell_type": "code",
   "execution_count": 87,
   "id": "090a1c0a",
   "metadata": {},
   "outputs": [],
   "source": [
    "def top_terms_in_cluster(centroid, feature_names, n_terms=10):\n",
    "    top_indices = centroid.argsort()[-n_terms:][::-1]\n",
    "    top_terms = [feature_names[i] for i in top_indices]\n",
    "    return top_terms"
   ]
  },
  {
   "cell_type": "code",
   "execution_count": 88,
   "id": "9e0751fe",
   "metadata": {},
   "outputs": [
    {
     "name": "stdout",
     "output_type": "stream",
     "text": [
      "Cluster 0: ['https', 'rt', 'live', 'love', 'massage', 'just', 'link', 'new', 'vs', 'day']\n",
      "Cluster 1: ['like', 'rt', 'follow', 'amp', 'hours', 'giveaway', 'idr', '000', 'https', '50']\n",
      "Cluster 2: ['rt', 'just', 'people', 'don', 'love', 'good', 'know', 'time', 'amp', 'want']\n"
     ]
    }
   ],
   "source": [
    "feature_names = td_tfidf.index.tolist()\n",
    "\n",
    "# Print top terms for each cluster\n",
    "for i, centroid in enumerate(centroids):\n",
    "    print(f\"Cluster {i}: {top_terms_in_cluster(centroid, feature_names)}\")"
   ]
  },
  {
   "cell_type": "markdown",
   "id": "733f3e2d",
   "metadata": {},
   "source": [
    "### Nothing worth noting with these results. My hope was that a cluster would emerge that is \"more vulgar\" like we saw a bit in the true positives of the KNN Classify function, but that did not happen here."
   ]
  },
  {
   "cell_type": "code",
   "execution_count": null,
   "id": "ace7131b",
   "metadata": {},
   "outputs": [],
   "source": []
  }
 ],
 "metadata": {
  "kernelspec": {
   "display_name": "Python 3 (ipykernel)",
   "language": "python",
   "name": "python3"
  },
  "language_info": {
   "codemirror_mode": {
    "name": "ipython",
    "version": 3
   },
   "file_extension": ".py",
   "mimetype": "text/x-python",
   "name": "python",
   "nbconvert_exporter": "python",
   "pygments_lexer": "ipython3",
   "version": "3.10.9"
  }
 },
 "nbformat": 4,
 "nbformat_minor": 5
}
