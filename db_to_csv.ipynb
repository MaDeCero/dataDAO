{
 "cells": [
  {
   "cell_type": "markdown",
   "id": "3c6c0f1b",
   "metadata": {},
   "source": [
    "# Michael DeCero\n",
    "# DSC 540\n",
    "# Final Project: Predicting Tweets Deleted by X"
   ]
  },
  {
   "cell_type": "markdown",
   "id": "09fdafc7",
   "metadata": {},
   "source": [
    "X, formerly known as Twitter, has a set of rules they expect the users of the platform to abide by. Last year, I scraped over 64M tweets and wrote a set of programs to identify which of those tweets were deleted by (then) Twitter. I explored this project to verify that the platform was following their rules when determining what tweets to delete and not being biased in their approach. I documented my findings in a blog that can be found linked below.\n",
    "\n",
    "I believe there is an opportunity for private and/or public communities to develop their own algorithms to essentially audit social media companies. The crux of my project is to train a model to identify text content on social media platforms that should be considered in violation of our shared vision of what we consider inappropriate. \n",
    " \n",
    "For more information about how I gathered this data, check out my blog and github:\n",
    " - Blog: https://inthegraey.com/\n",
    " - Github: https://github.com/madecero/thegraey\n",
    " \n",
    "This notebook is used to select a sample of over 50k tweets from my local database and create a csv that will be used to transform the tweets to tfidf weights and train a series of ML models. Refer to DSC540_Final.py for the model results using the tfidf vectorized tweets."
   ]
  },
  {
   "cell_type": "markdown",
   "id": "8c922539",
   "metadata": {},
   "source": [
    "### Query local database to obtain all tweets along with their delete reason code (if applicable)"
   ]
  },
  {
   "cell_type": "code",
   "execution_count": 2,
   "id": "a2351a91",
   "metadata": {},
   "outputs": [],
   "source": [
    "import sqlite3\n",
    "import pandas as pd\n",
    "import numpy as np"
   ]
  },
  {
   "cell_type": "code",
   "execution_count": 3,
   "id": "b33d4d95",
   "metadata": {},
   "outputs": [],
   "source": [
    "# Establish a connection to the SQLite database\n",
    "conn = sqlite3.connect('de0project.db')\n",
    "\n",
    "# Define your SQL query\n",
    "query = 'SELECT ID, Text, CreatedAt, deleteReason FROM deleteView'\n",
    "\n",
    "# Execute the query and store the results in a Pandas DataFrame\n",
    "df = pd.read_sql_query(query, conn)\n",
    "\n",
    "# Close the database connection\n",
    "conn.close()"
   ]
  },
  {
   "cell_type": "code",
   "execution_count": 4,
   "id": "876e2dd6",
   "metadata": {},
   "outputs": [
    {
     "data": {
      "text/html": [
       "<div>\n",
       "<style scoped>\n",
       "    .dataframe tbody tr th:only-of-type {\n",
       "        vertical-align: middle;\n",
       "    }\n",
       "\n",
       "    .dataframe tbody tr th {\n",
       "        vertical-align: top;\n",
       "    }\n",
       "\n",
       "    .dataframe thead th {\n",
       "        text-align: right;\n",
       "    }\n",
       "</style>\n",
       "<table border=\"1\" class=\"dataframe\">\n",
       "  <thead>\n",
       "    <tr style=\"text-align: right;\">\n",
       "      <th></th>\n",
       "      <th>ID</th>\n",
       "      <th>Text</th>\n",
       "      <th>CreatedAt</th>\n",
       "      <th>deleteReason</th>\n",
       "    </tr>\n",
       "  </thead>\n",
       "  <tbody>\n",
       "    <tr>\n",
       "      <th>0</th>\n",
       "      <td>1474541784210362368</td>\n",
       "      <td>RT @Fukkard: Top Two Belongs to Pra’BOSS’✊\\n\\n...</td>\n",
       "      <td>Sat Dec 25 00:45:31 2021</td>\n",
       "      <td>None</td>\n",
       "    </tr>\n",
       "    <tr>\n",
       "      <th>1</th>\n",
       "      <td>1474541784181182468</td>\n",
       "      <td>RT @texan40: I swear... only in south Texas 😂 ...</td>\n",
       "      <td>Sat Dec 25 00:45:31 2021</td>\n",
       "      <td>None</td>\n",
       "    </tr>\n",
       "    <tr>\n",
       "      <th>2</th>\n",
       "      <td>1474541784176861185</td>\n",
       "      <td>RT @kdramadaisy: choi woong is the standard.\\n...</td>\n",
       "      <td>Sat Dec 25 00:45:31 2021</td>\n",
       "      <td>None</td>\n",
       "    </tr>\n",
       "    <tr>\n",
       "      <th>3</th>\n",
       "      <td>1474541784156020741</td>\n",
       "      <td>RT @nft_ray: ANY #MAYC OWNERS INTERESTED IN TR...</td>\n",
       "      <td>Sat Dec 25 00:45:31 2021</td>\n",
       "      <td>None</td>\n",
       "    </tr>\n",
       "    <tr>\n",
       "      <th>4</th>\n",
       "      <td>1474541784155963396</td>\n",
       "      <td>RT @methnpizza: Spare 11? 1k would be a wonder...</td>\n",
       "      <td>Sat Dec 25 00:45:31 2021</td>\n",
       "      <td>None</td>\n",
       "    </tr>\n",
       "  </tbody>\n",
       "</table>\n",
       "</div>"
      ],
      "text/plain": [
       "                    ID                                               Text  \\\n",
       "0  1474541784210362368  RT @Fukkard: Top Two Belongs to Pra’BOSS’✊\\n\\n...   \n",
       "1  1474541784181182468  RT @texan40: I swear... only in south Texas 😂 ...   \n",
       "2  1474541784176861185  RT @kdramadaisy: choi woong is the standard.\\n...   \n",
       "3  1474541784156020741  RT @nft_ray: ANY #MAYC OWNERS INTERESTED IN TR...   \n",
       "4  1474541784155963396  RT @methnpizza: Spare 11? 1k would be a wonder...   \n",
       "\n",
       "                  CreatedAt deleteReason  \n",
       "0  Sat Dec 25 00:45:31 2021         None  \n",
       "1  Sat Dec 25 00:45:31 2021         None  \n",
       "2  Sat Dec 25 00:45:31 2021         None  \n",
       "3  Sat Dec 25 00:45:31 2021         None  \n",
       "4  Sat Dec 25 00:45:31 2021         None  "
      ]
     },
     "execution_count": 4,
     "metadata": {},
     "output_type": "execute_result"
    }
   ],
   "source": [
    "#What does this dataframe look like?\n",
    "df.head()"
   ]
  },
  {
   "cell_type": "code",
   "execution_count": 5,
   "id": "fbca6964",
   "metadata": {},
   "outputs": [
    {
     "data": {
      "text/plain": [
       "(64163912, 4)"
      ]
     },
     "execution_count": 5,
     "metadata": {},
     "output_type": "execute_result"
    }
   ],
   "source": [
    "#What is the shape?\n",
    "df.shape"
   ]
  },
  {
   "cell_type": "code",
   "execution_count": 6,
   "id": "e19d6f03",
   "metadata": {},
   "outputs": [],
   "source": [
    "#Let's make sure the delete reasons we care about came through\n",
    "deletedf = df[df['deleteReason'] == 'Twitter API returned a 404 (Not Found), This Tweet is no longer available because it violated the Twitter Rules.']"
   ]
  },
  {
   "cell_type": "code",
   "execution_count": 7,
   "id": "1957f117",
   "metadata": {},
   "outputs": [
    {
     "data": {
      "text/html": [
       "<div>\n",
       "<style scoped>\n",
       "    .dataframe tbody tr th:only-of-type {\n",
       "        vertical-align: middle;\n",
       "    }\n",
       "\n",
       "    .dataframe tbody tr th {\n",
       "        vertical-align: top;\n",
       "    }\n",
       "\n",
       "    .dataframe thead th {\n",
       "        text-align: right;\n",
       "    }\n",
       "</style>\n",
       "<table border=\"1\" class=\"dataframe\">\n",
       "  <thead>\n",
       "    <tr style=\"text-align: right;\">\n",
       "      <th></th>\n",
       "      <th>ID</th>\n",
       "      <th>Text</th>\n",
       "      <th>CreatedAt</th>\n",
       "      <th>deleteReason</th>\n",
       "    </tr>\n",
       "  </thead>\n",
       "  <tbody>\n",
       "    <tr>\n",
       "      <th>2468695</th>\n",
       "      <td>1485894286365368328</td>\n",
       "      <td>That will really help stop the huge surge of m...</td>\n",
       "      <td>Tue Jan 25 08:36:19 2022</td>\n",
       "      <td>Twitter API returned a 404 (Not Found), This T...</td>\n",
       "    </tr>\n",
       "    <tr>\n",
       "      <th>2524858</th>\n",
       "      <td>1485996263380238341</td>\n",
       "      <td>@ebonykayxxxx Scotland: fried mars bar, Gordon...</td>\n",
       "      <td>Tue Jan 25 15:21:32 2022</td>\n",
       "      <td>Twitter API returned a 404 (Not Found), This T...</td>\n",
       "    </tr>\n",
       "    <tr>\n",
       "      <th>2536038</th>\n",
       "      <td>1486011588780134400</td>\n",
       "      <td>Hey Sunghoon! Don't you dare to be closer with...</td>\n",
       "      <td>Tue Jan 25 16:22:26 2022</td>\n",
       "      <td>Twitter API returned a 404 (Not Found), This T...</td>\n",
       "    </tr>\n",
       "    <tr>\n",
       "      <th>2632183</th>\n",
       "      <td>1486939783540588544</td>\n",
       "      <td>@BevSutphin78 @MethyNurse @catherinenunya @Can...</td>\n",
       "      <td>Fri Jan 28 05:50:45 2022</td>\n",
       "      <td>Twitter API returned a 404 (Not Found), This T...</td>\n",
       "    </tr>\n",
       "    <tr>\n",
       "      <th>2710292</th>\n",
       "      <td>1487083580220186625</td>\n",
       "      <td>@Kasoulis1 @pskrill @Gala_heart @tariqnasheed ...</td>\n",
       "      <td>Fri Jan 28 15:22:08 2022</td>\n",
       "      <td>Twitter API returned a 404 (Not Found), This T...</td>\n",
       "    </tr>\n",
       "  </tbody>\n",
       "</table>\n",
       "</div>"
      ],
      "text/plain": [
       "                          ID  \\\n",
       "2468695  1485894286365368328   \n",
       "2524858  1485996263380238341   \n",
       "2536038  1486011588780134400   \n",
       "2632183  1486939783540588544   \n",
       "2710292  1487083580220186625   \n",
       "\n",
       "                                                      Text  \\\n",
       "2468695  That will really help stop the huge surge of m...   \n",
       "2524858  @ebonykayxxxx Scotland: fried mars bar, Gordon...   \n",
       "2536038  Hey Sunghoon! Don't you dare to be closer with...   \n",
       "2632183  @BevSutphin78 @MethyNurse @catherinenunya @Can...   \n",
       "2710292  @Kasoulis1 @pskrill @Gala_heart @tariqnasheed ...   \n",
       "\n",
       "                        CreatedAt  \\\n",
       "2468695  Tue Jan 25 08:36:19 2022   \n",
       "2524858  Tue Jan 25 15:21:32 2022   \n",
       "2536038  Tue Jan 25 16:22:26 2022   \n",
       "2632183  Fri Jan 28 05:50:45 2022   \n",
       "2710292  Fri Jan 28 15:22:08 2022   \n",
       "\n",
       "                                              deleteReason  \n",
       "2468695  Twitter API returned a 404 (Not Found), This T...  \n",
       "2524858  Twitter API returned a 404 (Not Found), This T...  \n",
       "2536038  Twitter API returned a 404 (Not Found), This T...  \n",
       "2632183  Twitter API returned a 404 (Not Found), This T...  \n",
       "2710292  Twitter API returned a 404 (Not Found), This T...  "
      ]
     },
     "execution_count": 7,
     "metadata": {},
     "output_type": "execute_result"
    }
   ],
   "source": [
    "deletedf.head()"
   ]
  },
  {
   "cell_type": "code",
   "execution_count": 8,
   "id": "1bb41c77",
   "metadata": {},
   "outputs": [
    {
     "data": {
      "text/plain": [
       "(1153, 4)"
      ]
     },
     "execution_count": 8,
     "metadata": {},
     "output_type": "execute_result"
    }
   ],
   "source": [
    "deletedf.shape"
   ]
  },
  {
   "cell_type": "markdown",
   "id": "54d42377",
   "metadata": {},
   "source": [
    "### Transform our target variable to binary"
   ]
  },
  {
   "cell_type": "code",
   "execution_count": 9,
   "id": "278a2b01",
   "metadata": {},
   "outputs": [],
   "source": [
    "# Convert the Target column based on substring presence\n",
    "df['deleteReason'] = df['deleteReason'].apply(\n",
    "    lambda x: 1 if x is not None and \"Twitter API returned a 404 (Not Found), This Tweet is no longer available because it violated the Twitter Rules.\" in x else 0)"
   ]
  },
  {
   "cell_type": "code",
   "execution_count": 10,
   "id": "96b68407",
   "metadata": {},
   "outputs": [
    {
     "data": {
      "text/html": [
       "<div>\n",
       "<style scoped>\n",
       "    .dataframe tbody tr th:only-of-type {\n",
       "        vertical-align: middle;\n",
       "    }\n",
       "\n",
       "    .dataframe tbody tr th {\n",
       "        vertical-align: top;\n",
       "    }\n",
       "\n",
       "    .dataframe thead th {\n",
       "        text-align: right;\n",
       "    }\n",
       "</style>\n",
       "<table border=\"1\" class=\"dataframe\">\n",
       "  <thead>\n",
       "    <tr style=\"text-align: right;\">\n",
       "      <th></th>\n",
       "      <th>ID</th>\n",
       "      <th>Text</th>\n",
       "      <th>CreatedAt</th>\n",
       "      <th>deleteReason</th>\n",
       "    </tr>\n",
       "  </thead>\n",
       "  <tbody>\n",
       "    <tr>\n",
       "      <th>0</th>\n",
       "      <td>1474541784210362368</td>\n",
       "      <td>RT @Fukkard: Top Two Belongs to Pra’BOSS’✊\\n\\n...</td>\n",
       "      <td>Sat Dec 25 00:45:31 2021</td>\n",
       "      <td>0</td>\n",
       "    </tr>\n",
       "    <tr>\n",
       "      <th>1</th>\n",
       "      <td>1474541784181182468</td>\n",
       "      <td>RT @texan40: I swear... only in south Texas 😂 ...</td>\n",
       "      <td>Sat Dec 25 00:45:31 2021</td>\n",
       "      <td>0</td>\n",
       "    </tr>\n",
       "    <tr>\n",
       "      <th>2</th>\n",
       "      <td>1474541784176861185</td>\n",
       "      <td>RT @kdramadaisy: choi woong is the standard.\\n...</td>\n",
       "      <td>Sat Dec 25 00:45:31 2021</td>\n",
       "      <td>0</td>\n",
       "    </tr>\n",
       "    <tr>\n",
       "      <th>3</th>\n",
       "      <td>1474541784156020741</td>\n",
       "      <td>RT @nft_ray: ANY #MAYC OWNERS INTERESTED IN TR...</td>\n",
       "      <td>Sat Dec 25 00:45:31 2021</td>\n",
       "      <td>0</td>\n",
       "    </tr>\n",
       "    <tr>\n",
       "      <th>4</th>\n",
       "      <td>1474541784155963396</td>\n",
       "      <td>RT @methnpizza: Spare 11? 1k would be a wonder...</td>\n",
       "      <td>Sat Dec 25 00:45:31 2021</td>\n",
       "      <td>0</td>\n",
       "    </tr>\n",
       "  </tbody>\n",
       "</table>\n",
       "</div>"
      ],
      "text/plain": [
       "                    ID                                               Text  \\\n",
       "0  1474541784210362368  RT @Fukkard: Top Two Belongs to Pra’BOSS’✊\\n\\n...   \n",
       "1  1474541784181182468  RT @texan40: I swear... only in south Texas 😂 ...   \n",
       "2  1474541784176861185  RT @kdramadaisy: choi woong is the standard.\\n...   \n",
       "3  1474541784156020741  RT @nft_ray: ANY #MAYC OWNERS INTERESTED IN TR...   \n",
       "4  1474541784155963396  RT @methnpizza: Spare 11? 1k would be a wonder...   \n",
       "\n",
       "                  CreatedAt  deleteReason  \n",
       "0  Sat Dec 25 00:45:31 2021             0  \n",
       "1  Sat Dec 25 00:45:31 2021             0  \n",
       "2  Sat Dec 25 00:45:31 2021             0  \n",
       "3  Sat Dec 25 00:45:31 2021             0  \n",
       "4  Sat Dec 25 00:45:31 2021             0  "
      ]
     },
     "execution_count": 10,
     "metadata": {},
     "output_type": "execute_result"
    }
   ],
   "source": [
    "df.head()"
   ]
  },
  {
   "cell_type": "code",
   "execution_count": 11,
   "id": "1d44517b",
   "metadata": {},
   "outputs": [],
   "source": [
    "deletedf = df[df['deleteReason'] == 1]"
   ]
  },
  {
   "cell_type": "code",
   "execution_count": 12,
   "id": "e3076612",
   "metadata": {},
   "outputs": [
    {
     "data": {
      "text/html": [
       "<div>\n",
       "<style scoped>\n",
       "    .dataframe tbody tr th:only-of-type {\n",
       "        vertical-align: middle;\n",
       "    }\n",
       "\n",
       "    .dataframe tbody tr th {\n",
       "        vertical-align: top;\n",
       "    }\n",
       "\n",
       "    .dataframe thead th {\n",
       "        text-align: right;\n",
       "    }\n",
       "</style>\n",
       "<table border=\"1\" class=\"dataframe\">\n",
       "  <thead>\n",
       "    <tr style=\"text-align: right;\">\n",
       "      <th></th>\n",
       "      <th>ID</th>\n",
       "      <th>Text</th>\n",
       "      <th>CreatedAt</th>\n",
       "      <th>deleteReason</th>\n",
       "    </tr>\n",
       "  </thead>\n",
       "  <tbody>\n",
       "    <tr>\n",
       "      <th>2468695</th>\n",
       "      <td>1485894286365368328</td>\n",
       "      <td>That will really help stop the huge surge of m...</td>\n",
       "      <td>Tue Jan 25 08:36:19 2022</td>\n",
       "      <td>1</td>\n",
       "    </tr>\n",
       "    <tr>\n",
       "      <th>2524858</th>\n",
       "      <td>1485996263380238341</td>\n",
       "      <td>@ebonykayxxxx Scotland: fried mars bar, Gordon...</td>\n",
       "      <td>Tue Jan 25 15:21:32 2022</td>\n",
       "      <td>1</td>\n",
       "    </tr>\n",
       "    <tr>\n",
       "      <th>2536038</th>\n",
       "      <td>1486011588780134400</td>\n",
       "      <td>Hey Sunghoon! Don't you dare to be closer with...</td>\n",
       "      <td>Tue Jan 25 16:22:26 2022</td>\n",
       "      <td>1</td>\n",
       "    </tr>\n",
       "    <tr>\n",
       "      <th>2632183</th>\n",
       "      <td>1486939783540588544</td>\n",
       "      <td>@BevSutphin78 @MethyNurse @catherinenunya @Can...</td>\n",
       "      <td>Fri Jan 28 05:50:45 2022</td>\n",
       "      <td>1</td>\n",
       "    </tr>\n",
       "    <tr>\n",
       "      <th>2710292</th>\n",
       "      <td>1487083580220186625</td>\n",
       "      <td>@Kasoulis1 @pskrill @Gala_heart @tariqnasheed ...</td>\n",
       "      <td>Fri Jan 28 15:22:08 2022</td>\n",
       "      <td>1</td>\n",
       "    </tr>\n",
       "  </tbody>\n",
       "</table>\n",
       "</div>"
      ],
      "text/plain": [
       "                          ID  \\\n",
       "2468695  1485894286365368328   \n",
       "2524858  1485996263380238341   \n",
       "2536038  1486011588780134400   \n",
       "2632183  1486939783540588544   \n",
       "2710292  1487083580220186625   \n",
       "\n",
       "                                                      Text  \\\n",
       "2468695  That will really help stop the huge surge of m...   \n",
       "2524858  @ebonykayxxxx Scotland: fried mars bar, Gordon...   \n",
       "2536038  Hey Sunghoon! Don't you dare to be closer with...   \n",
       "2632183  @BevSutphin78 @MethyNurse @catherinenunya @Can...   \n",
       "2710292  @Kasoulis1 @pskrill @Gala_heart @tariqnasheed ...   \n",
       "\n",
       "                        CreatedAt  deleteReason  \n",
       "2468695  Tue Jan 25 08:36:19 2022             1  \n",
       "2524858  Tue Jan 25 15:21:32 2022             1  \n",
       "2536038  Tue Jan 25 16:22:26 2022             1  \n",
       "2632183  Fri Jan 28 05:50:45 2022             1  \n",
       "2710292  Fri Jan 28 15:22:08 2022             1  "
      ]
     },
     "execution_count": 12,
     "metadata": {},
     "output_type": "execute_result"
    }
   ],
   "source": [
    "deletedf.head()"
   ]
  },
  {
   "cell_type": "code",
   "execution_count": 13,
   "id": "5bc0b799",
   "metadata": {},
   "outputs": [
    {
     "data": {
      "text/plain": [
       "(64163912, 4)"
      ]
     },
     "execution_count": 13,
     "metadata": {},
     "output_type": "execute_result"
    }
   ],
   "source": [
    "df.shape"
   ]
  },
  {
   "cell_type": "code",
   "execution_count": 14,
   "id": "71bc892e",
   "metadata": {},
   "outputs": [
    {
     "data": {
      "text/plain": [
       "(1153, 4)"
      ]
     },
     "execution_count": 14,
     "metadata": {},
     "output_type": "execute_result"
    }
   ],
   "source": [
    "deletedf.shape"
   ]
  },
  {
   "cell_type": "markdown",
   "id": "1d1a4ea9",
   "metadata": {},
   "source": [
    "### Let's create a df that is only records that have a target variable of 0 (not deleted by X)"
   ]
  },
  {
   "cell_type": "code",
   "execution_count": 15,
   "id": "02ef65b6",
   "metadata": {},
   "outputs": [],
   "source": [
    "sampledf = df[df['deleteReason'] == 0]"
   ]
  },
  {
   "cell_type": "code",
   "execution_count": 16,
   "id": "10f19d36",
   "metadata": {},
   "outputs": [
    {
     "data": {
      "text/html": [
       "<div>\n",
       "<style scoped>\n",
       "    .dataframe tbody tr th:only-of-type {\n",
       "        vertical-align: middle;\n",
       "    }\n",
       "\n",
       "    .dataframe tbody tr th {\n",
       "        vertical-align: top;\n",
       "    }\n",
       "\n",
       "    .dataframe thead th {\n",
       "        text-align: right;\n",
       "    }\n",
       "</style>\n",
       "<table border=\"1\" class=\"dataframe\">\n",
       "  <thead>\n",
       "    <tr style=\"text-align: right;\">\n",
       "      <th></th>\n",
       "      <th>ID</th>\n",
       "      <th>Text</th>\n",
       "      <th>CreatedAt</th>\n",
       "      <th>deleteReason</th>\n",
       "    </tr>\n",
       "  </thead>\n",
       "  <tbody>\n",
       "    <tr>\n",
       "      <th>0</th>\n",
       "      <td>1474541784210362368</td>\n",
       "      <td>RT @Fukkard: Top Two Belongs to Pra’BOSS’✊\\n\\n...</td>\n",
       "      <td>Sat Dec 25 00:45:31 2021</td>\n",
       "      <td>0</td>\n",
       "    </tr>\n",
       "    <tr>\n",
       "      <th>1</th>\n",
       "      <td>1474541784181182468</td>\n",
       "      <td>RT @texan40: I swear... only in south Texas 😂 ...</td>\n",
       "      <td>Sat Dec 25 00:45:31 2021</td>\n",
       "      <td>0</td>\n",
       "    </tr>\n",
       "    <tr>\n",
       "      <th>2</th>\n",
       "      <td>1474541784176861185</td>\n",
       "      <td>RT @kdramadaisy: choi woong is the standard.\\n...</td>\n",
       "      <td>Sat Dec 25 00:45:31 2021</td>\n",
       "      <td>0</td>\n",
       "    </tr>\n",
       "    <tr>\n",
       "      <th>3</th>\n",
       "      <td>1474541784156020741</td>\n",
       "      <td>RT @nft_ray: ANY #MAYC OWNERS INTERESTED IN TR...</td>\n",
       "      <td>Sat Dec 25 00:45:31 2021</td>\n",
       "      <td>0</td>\n",
       "    </tr>\n",
       "    <tr>\n",
       "      <th>4</th>\n",
       "      <td>1474541784155963396</td>\n",
       "      <td>RT @methnpizza: Spare 11? 1k would be a wonder...</td>\n",
       "      <td>Sat Dec 25 00:45:31 2021</td>\n",
       "      <td>0</td>\n",
       "    </tr>\n",
       "  </tbody>\n",
       "</table>\n",
       "</div>"
      ],
      "text/plain": [
       "                    ID                                               Text  \\\n",
       "0  1474541784210362368  RT @Fukkard: Top Two Belongs to Pra’BOSS’✊\\n\\n...   \n",
       "1  1474541784181182468  RT @texan40: I swear... only in south Texas 😂 ...   \n",
       "2  1474541784176861185  RT @kdramadaisy: choi woong is the standard.\\n...   \n",
       "3  1474541784156020741  RT @nft_ray: ANY #MAYC OWNERS INTERESTED IN TR...   \n",
       "4  1474541784155963396  RT @methnpizza: Spare 11? 1k would be a wonder...   \n",
       "\n",
       "                  CreatedAt  deleteReason  \n",
       "0  Sat Dec 25 00:45:31 2021             0  \n",
       "1  Sat Dec 25 00:45:31 2021             0  \n",
       "2  Sat Dec 25 00:45:31 2021             0  \n",
       "3  Sat Dec 25 00:45:31 2021             0  \n",
       "4  Sat Dec 25 00:45:31 2021             0  "
      ]
     },
     "execution_count": 16,
     "metadata": {},
     "output_type": "execute_result"
    }
   ],
   "source": [
    "sampledf.head()"
   ]
  },
  {
   "cell_type": "code",
   "execution_count": 17,
   "id": "17afae3a",
   "metadata": {},
   "outputs": [
    {
     "data": {
      "text/plain": [
       "(64162759, 4)"
      ]
     },
     "execution_count": 17,
     "metadata": {},
     "output_type": "execute_result"
    }
   ],
   "source": [
    "sampledf.shape"
   ]
  },
  {
   "cell_type": "markdown",
   "id": "a71f27ac",
   "metadata": {},
   "source": [
    "### Let's pull a sample of rows of the sampledf so that our algorithms can handle the smaller load. 65M rows takes too long to run, and we are not distributing this load for this project because we want to keep costs at $0."
   ]
  },
  {
   "cell_type": "code",
   "execution_count": 18,
   "id": "80553df3",
   "metadata": {},
   "outputs": [],
   "source": [
    "sampledf = sampledf.sample(n=5000)"
   ]
  },
  {
   "cell_type": "code",
   "execution_count": 19,
   "id": "5ea58f24",
   "metadata": {},
   "outputs": [
    {
     "data": {
      "text/html": [
       "<div>\n",
       "<style scoped>\n",
       "    .dataframe tbody tr th:only-of-type {\n",
       "        vertical-align: middle;\n",
       "    }\n",
       "\n",
       "    .dataframe tbody tr th {\n",
       "        vertical-align: top;\n",
       "    }\n",
       "\n",
       "    .dataframe thead th {\n",
       "        text-align: right;\n",
       "    }\n",
       "</style>\n",
       "<table border=\"1\" class=\"dataframe\">\n",
       "  <thead>\n",
       "    <tr style=\"text-align: right;\">\n",
       "      <th></th>\n",
       "      <th>ID</th>\n",
       "      <th>Text</th>\n",
       "      <th>CreatedAt</th>\n",
       "      <th>deleteReason</th>\n",
       "    </tr>\n",
       "  </thead>\n",
       "  <tbody>\n",
       "    <tr>\n",
       "      <th>30843473</th>\n",
       "      <td>1575129780986388485</td>\n",
       "      <td>RT @milepluto: No matter the ending is perfect...</td>\n",
       "      <td>Wed Sep 28 14:26:18 2022</td>\n",
       "      <td>0</td>\n",
       "    </tr>\n",
       "    <tr>\n",
       "      <th>26321096</th>\n",
       "      <td>1546240962506129408</td>\n",
       "      <td>@Mmcintoshmerc89 the movie completely glides o...</td>\n",
       "      <td>Sun Jul 10 21:12:27 2022</td>\n",
       "      <td>0</td>\n",
       "    </tr>\n",
       "    <tr>\n",
       "      <th>34358526</th>\n",
       "      <td>1581465328856420352</td>\n",
       "      <td>@ImRusselsSlut @LoveRussel2799 @Russel2799 rus...</td>\n",
       "      <td>Sun Oct 16 02:01:31 2022</td>\n",
       "      <td>0</td>\n",
       "    </tr>\n",
       "    <tr>\n",
       "      <th>63753568</th>\n",
       "      <td>1648476562340323328</td>\n",
       "      <td>@cofeads goodbye</td>\n",
       "      <td>Wed Apr 19 00:00:14 2023</td>\n",
       "      <td>0</td>\n",
       "    </tr>\n",
       "    <tr>\n",
       "      <th>22636401</th>\n",
       "      <td>1538466330399088641</td>\n",
       "      <td>RT @Auto_Porn: blacked out… https://t.co/hcrNh...</td>\n",
       "      <td>Sun Jun 19 10:18:51 2022</td>\n",
       "      <td>0</td>\n",
       "    </tr>\n",
       "  </tbody>\n",
       "</table>\n",
       "</div>"
      ],
      "text/plain": [
       "                           ID  \\\n",
       "30843473  1575129780986388485   \n",
       "26321096  1546240962506129408   \n",
       "34358526  1581465328856420352   \n",
       "63753568  1648476562340323328   \n",
       "22636401  1538466330399088641   \n",
       "\n",
       "                                                       Text  \\\n",
       "30843473  RT @milepluto: No matter the ending is perfect...   \n",
       "26321096  @Mmcintoshmerc89 the movie completely glides o...   \n",
       "34358526  @ImRusselsSlut @LoveRussel2799 @Russel2799 rus...   \n",
       "63753568                                   @cofeads goodbye   \n",
       "22636401  RT @Auto_Porn: blacked out… https://t.co/hcrNh...   \n",
       "\n",
       "                         CreatedAt  deleteReason  \n",
       "30843473  Wed Sep 28 14:26:18 2022             0  \n",
       "26321096  Sun Jul 10 21:12:27 2022             0  \n",
       "34358526  Sun Oct 16 02:01:31 2022             0  \n",
       "63753568  Wed Apr 19 00:00:14 2023             0  \n",
       "22636401  Sun Jun 19 10:18:51 2022             0  "
      ]
     },
     "execution_count": 19,
     "metadata": {},
     "output_type": "execute_result"
    }
   ],
   "source": [
    "sampledf.head()"
   ]
  },
  {
   "cell_type": "code",
   "execution_count": 20,
   "id": "d56ed3dd",
   "metadata": {},
   "outputs": [],
   "source": [
    "#let's sort it by index\n",
    "\n",
    "sampledf = sampledf.sort_index()"
   ]
  },
  {
   "cell_type": "code",
   "execution_count": 21,
   "id": "2a495b15",
   "metadata": {},
   "outputs": [
    {
     "data": {
      "text/html": [
       "<div>\n",
       "<style scoped>\n",
       "    .dataframe tbody tr th:only-of-type {\n",
       "        vertical-align: middle;\n",
       "    }\n",
       "\n",
       "    .dataframe tbody tr th {\n",
       "        vertical-align: top;\n",
       "    }\n",
       "\n",
       "    .dataframe thead th {\n",
       "        text-align: right;\n",
       "    }\n",
       "</style>\n",
       "<table border=\"1\" class=\"dataframe\">\n",
       "  <thead>\n",
       "    <tr style=\"text-align: right;\">\n",
       "      <th></th>\n",
       "      <th>ID</th>\n",
       "      <th>Text</th>\n",
       "      <th>CreatedAt</th>\n",
       "      <th>deleteReason</th>\n",
       "    </tr>\n",
       "  </thead>\n",
       "  <tbody>\n",
       "    <tr>\n",
       "      <th>16863</th>\n",
       "      <td>1474572081517973504</td>\n",
       "      <td>RT @Mag_ho: Holy night⭐️ https://t.co/MD7lPwSqNz</td>\n",
       "      <td>Sat Dec 25 02:45:55 2021</td>\n",
       "      <td>0</td>\n",
       "    </tr>\n",
       "    <tr>\n",
       "      <th>31648</th>\n",
       "      <td>1474598575699021826</td>\n",
       "      <td>@TahrFantastico me too!</td>\n",
       "      <td>Sat Dec 25 04:31:11 2021</td>\n",
       "      <td>0</td>\n",
       "    </tr>\n",
       "    <tr>\n",
       "      <th>50353</th>\n",
       "      <td>1474640092933365762</td>\n",
       "      <td>@arseinall reimu will comfort me now from my r...</td>\n",
       "      <td>Sat Dec 25 07:16:10 2021</td>\n",
       "      <td>0</td>\n",
       "    </tr>\n",
       "    <tr>\n",
       "      <th>59865</th>\n",
       "      <td>1474658865333424128</td>\n",
       "      <td>aromantic rights !</td>\n",
       "      <td>Sat Dec 25 08:30:45 2021</td>\n",
       "      <td>0</td>\n",
       "    </tr>\n",
       "    <tr>\n",
       "      <th>73431</th>\n",
       "      <td>1474685352078372864</td>\n",
       "      <td>RT @TXT__News: TOMORROW X TOGETHER COMING SOON...</td>\n",
       "      <td>Sat Dec 25 10:16:00 2021</td>\n",
       "      <td>0</td>\n",
       "    </tr>\n",
       "  </tbody>\n",
       "</table>\n",
       "</div>"
      ],
      "text/plain": [
       "                        ID                                               Text  \\\n",
       "16863  1474572081517973504   RT @Mag_ho: Holy night⭐️ https://t.co/MD7lPwSqNz   \n",
       "31648  1474598575699021826                            @TahrFantastico me too!   \n",
       "50353  1474640092933365762  @arseinall reimu will comfort me now from my r...   \n",
       "59865  1474658865333424128                                 aromantic rights !   \n",
       "73431  1474685352078372864  RT @TXT__News: TOMORROW X TOGETHER COMING SOON...   \n",
       "\n",
       "                      CreatedAt  deleteReason  \n",
       "16863  Sat Dec 25 02:45:55 2021             0  \n",
       "31648  Sat Dec 25 04:31:11 2021             0  \n",
       "50353  Sat Dec 25 07:16:10 2021             0  \n",
       "59865  Sat Dec 25 08:30:45 2021             0  \n",
       "73431  Sat Dec 25 10:16:00 2021             0  "
      ]
     },
     "execution_count": 21,
     "metadata": {},
     "output_type": "execute_result"
    }
   ],
   "source": [
    "sampledf.head()"
   ]
  },
  {
   "cell_type": "code",
   "execution_count": 22,
   "id": "3731f762",
   "metadata": {},
   "outputs": [
    {
     "data": {
      "text/plain": [
       "(5000, 4)"
      ]
     },
     "execution_count": 22,
     "metadata": {},
     "output_type": "execute_result"
    }
   ],
   "source": [
    "sampledf.shape"
   ]
  },
  {
   "cell_type": "markdown",
   "id": "d72a54ff",
   "metadata": {},
   "source": [
    "### We now have a dataframe of tweets that were not deleted. Let's concatenate it with the 1153 tweets that were deleted to make our dataframe we will use to run our models"
   ]
  },
  {
   "cell_type": "code",
   "execution_count": 23,
   "id": "e70d64c2",
   "metadata": {},
   "outputs": [],
   "source": [
    "tweetdf = pd.concat([sampledf, deletedf])"
   ]
  },
  {
   "cell_type": "code",
   "execution_count": 24,
   "id": "bbe31fb0",
   "metadata": {},
   "outputs": [],
   "source": [
    "tweetdf = tweetdf.sort_index()"
   ]
  },
  {
   "cell_type": "code",
   "execution_count": 25,
   "id": "3f48ed67",
   "metadata": {},
   "outputs": [
    {
     "data": {
      "text/html": [
       "<div>\n",
       "<style scoped>\n",
       "    .dataframe tbody tr th:only-of-type {\n",
       "        vertical-align: middle;\n",
       "    }\n",
       "\n",
       "    .dataframe tbody tr th {\n",
       "        vertical-align: top;\n",
       "    }\n",
       "\n",
       "    .dataframe thead th {\n",
       "        text-align: right;\n",
       "    }\n",
       "</style>\n",
       "<table border=\"1\" class=\"dataframe\">\n",
       "  <thead>\n",
       "    <tr style=\"text-align: right;\">\n",
       "      <th></th>\n",
       "      <th>ID</th>\n",
       "      <th>Text</th>\n",
       "      <th>CreatedAt</th>\n",
       "      <th>deleteReason</th>\n",
       "    </tr>\n",
       "  </thead>\n",
       "  <tbody>\n",
       "    <tr>\n",
       "      <th>16863</th>\n",
       "      <td>1474572081517973504</td>\n",
       "      <td>RT @Mag_ho: Holy night⭐️ https://t.co/MD7lPwSqNz</td>\n",
       "      <td>Sat Dec 25 02:45:55 2021</td>\n",
       "      <td>0</td>\n",
       "    </tr>\n",
       "    <tr>\n",
       "      <th>31648</th>\n",
       "      <td>1474598575699021826</td>\n",
       "      <td>@TahrFantastico me too!</td>\n",
       "      <td>Sat Dec 25 04:31:11 2021</td>\n",
       "      <td>0</td>\n",
       "    </tr>\n",
       "    <tr>\n",
       "      <th>50353</th>\n",
       "      <td>1474640092933365762</td>\n",
       "      <td>@arseinall reimu will comfort me now from my r...</td>\n",
       "      <td>Sat Dec 25 07:16:10 2021</td>\n",
       "      <td>0</td>\n",
       "    </tr>\n",
       "    <tr>\n",
       "      <th>59865</th>\n",
       "      <td>1474658865333424128</td>\n",
       "      <td>aromantic rights !</td>\n",
       "      <td>Sat Dec 25 08:30:45 2021</td>\n",
       "      <td>0</td>\n",
       "    </tr>\n",
       "    <tr>\n",
       "      <th>73431</th>\n",
       "      <td>1474685352078372864</td>\n",
       "      <td>RT @TXT__News: TOMORROW X TOGETHER COMING SOON...</td>\n",
       "      <td>Sat Dec 25 10:16:00 2021</td>\n",
       "      <td>0</td>\n",
       "    </tr>\n",
       "  </tbody>\n",
       "</table>\n",
       "</div>"
      ],
      "text/plain": [
       "                        ID                                               Text  \\\n",
       "16863  1474572081517973504   RT @Mag_ho: Holy night⭐️ https://t.co/MD7lPwSqNz   \n",
       "31648  1474598575699021826                            @TahrFantastico me too!   \n",
       "50353  1474640092933365762  @arseinall reimu will comfort me now from my r...   \n",
       "59865  1474658865333424128                                 aromantic rights !   \n",
       "73431  1474685352078372864  RT @TXT__News: TOMORROW X TOGETHER COMING SOON...   \n",
       "\n",
       "                      CreatedAt  deleteReason  \n",
       "16863  Sat Dec 25 02:45:55 2021             0  \n",
       "31648  Sat Dec 25 04:31:11 2021             0  \n",
       "50353  Sat Dec 25 07:16:10 2021             0  \n",
       "59865  Sat Dec 25 08:30:45 2021             0  \n",
       "73431  Sat Dec 25 10:16:00 2021             0  "
      ]
     },
     "execution_count": 25,
     "metadata": {},
     "output_type": "execute_result"
    }
   ],
   "source": [
    "tweetdf.head()"
   ]
  },
  {
   "cell_type": "code",
   "execution_count": 26,
   "id": "18a3cdf2",
   "metadata": {},
   "outputs": [
    {
     "data": {
      "text/plain": [
       "(6153, 4)"
      ]
     },
     "execution_count": 26,
     "metadata": {},
     "output_type": "execute_result"
    }
   ],
   "source": [
    "tweetdf.shape"
   ]
  },
  {
   "cell_type": "markdown",
   "id": "aa28cc6f",
   "metadata": {},
   "source": [
    "### Print to a csv that will be used for ML models"
   ]
  },
  {
   "cell_type": "code",
   "execution_count": 27,
   "id": "63e0a171",
   "metadata": {},
   "outputs": [],
   "source": [
    "tweetdf.to_csv('projectdf.csv', index = False)"
   ]
  },
  {
   "cell_type": "markdown",
   "id": "544699d8",
   "metadata": {},
   "source": [
    "# Please now refer to DSC540_final.py for ML model deployment. This notebook was simply to create a csv to be used for the rest of the assignment. This way, the grader can replicate the steps using the produced CSV as opposed to the source being a local database that he or she will not have access to."
   ]
  },
  {
   "cell_type": "code",
   "execution_count": null,
   "id": "d2e4e1b2",
   "metadata": {},
   "outputs": [],
   "source": []
  }
 ],
 "metadata": {
  "kernelspec": {
   "display_name": "Python 3 (ipykernel)",
   "language": "python",
   "name": "python3"
  },
  "language_info": {
   "codemirror_mode": {
    "name": "ipython",
    "version": 3
   },
   "file_extension": ".py",
   "mimetype": "text/x-python",
   "name": "python",
   "nbconvert_exporter": "python",
   "pygments_lexer": "ipython3",
   "version": "3.10.9"
  }
 },
 "nbformat": 4,
 "nbformat_minor": 5
}
