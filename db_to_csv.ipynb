{
 "cells": [
  {
   "cell_type": "markdown",
   "id": "09fdafc7",
   "metadata": {},
   "source": [
    "X, formerly known as Twitter, has a set of rules they expect the users of the platform to abide by. Last year, I scraped over 64M tweets and wrote a set of programs to identify which of those tweets were deleted by (then) Twitter. I explored this project to verify that the platform was following their rules when determining what tweets to delete and not being biased in their approach. I documented my findings in a blog that can be found here. In summary, a majority, if not all, of the tweets I found to be deleted could be labelled as some sort of hate speech, and my concerns about bias in Twitter’s approach dissipated. \n",
    "\n",
    "When reading through some of the “censored” tweets, I wiped the blood from my eyes that came from all the hate speech, and I found some tweets that the author may have benefited from some sort of warning to tell them that their tweet may be deleted. For example, an author may be trying to get a point across to a congress person about something he or she felt strongly about; unfortunately, they probably felt too strongly, and their rhetoric “crossed the line.” I thought, “wouldn’t it be cool if a tweet author was prompted to consider re-writing their tweet so that it does not get taken down from the platform team?” This is the crux of my project proposal: train a model to predict a tweet will be deleted from the platform.\n",
    "\n",
    "In this project, I will use two different techniques to vectorize the tweet data: \n",
    " - spaCy\n",
    " - Scikit Learn's TFIDF vectorizer\n",
    "\n",
    "From there, we will deploy 4 techniques to each of these vectorizers:\n",
    " - Custom built KNN Classifier using cosine similarity\n",
    " - Scikit KNN Classifier using PCA\n",
    " - Cross-Validation using RandomForestClassifier\n",
    " - Kmeans Clustering\n",
    " \n",
    "For more information about how I gathered this data, check out my blog and github:\n",
    " - Blog: https://inthegraey.com/\n",
    " - Github: https://github.com/madecero/thegraey\n",
    " \n",
    "NOTE: This notebook is only used to take data from my local database and produce a csv that will be used for the model development. Refer to predictions.ipynb for the analysis using the csv produced via the code below."
   ]
  },
  {
   "cell_type": "markdown",
   "id": "8c922539",
   "metadata": {},
   "source": [
    "### Query local database to obtain all tweets along with their delete reason code (if applicable)"
   ]
  },
  {
   "cell_type": "code",
   "execution_count": 52,
   "id": "a2351a91",
   "metadata": {},
   "outputs": [],
   "source": [
    "import sqlite3\n",
    "import pandas as pd"
   ]
  },
  {
   "cell_type": "code",
   "execution_count": 53,
   "id": "b33d4d95",
   "metadata": {},
   "outputs": [],
   "source": [
    "# Establish a connection to the SQLite database\n",
    "conn = sqlite3.connect('de0project.db')\n",
    "\n",
    "# Define your SQL query\n",
    "query = 'SELECT ID, Text, CreatedAt, deleteReason FROM deleteView'\n",
    "\n",
    "# Execute the query and store the results in a Pandas DataFrame\n",
    "df = pd.read_sql_query(query, conn)\n",
    "\n",
    "# Close the database connection\n",
    "conn.close()"
   ]
  },
  {
   "cell_type": "code",
   "execution_count": 54,
   "id": "876e2dd6",
   "metadata": {},
   "outputs": [
    {
     "data": {
      "text/html": [
       "<div>\n",
       "<style scoped>\n",
       "    .dataframe tbody tr th:only-of-type {\n",
       "        vertical-align: middle;\n",
       "    }\n",
       "\n",
       "    .dataframe tbody tr th {\n",
       "        vertical-align: top;\n",
       "    }\n",
       "\n",
       "    .dataframe thead th {\n",
       "        text-align: right;\n",
       "    }\n",
       "</style>\n",
       "<table border=\"1\" class=\"dataframe\">\n",
       "  <thead>\n",
       "    <tr style=\"text-align: right;\">\n",
       "      <th></th>\n",
       "      <th>ID</th>\n",
       "      <th>Text</th>\n",
       "      <th>CreatedAt</th>\n",
       "      <th>deleteReason</th>\n",
       "    </tr>\n",
       "  </thead>\n",
       "  <tbody>\n",
       "    <tr>\n",
       "      <th>0</th>\n",
       "      <td>1474541784210362368</td>\n",
       "      <td>RT @Fukkard: Top Two Belongs to Pra’BOSS’✊\\n\\n...</td>\n",
       "      <td>Sat Dec 25 00:45:31 2021</td>\n",
       "      <td>None</td>\n",
       "    </tr>\n",
       "    <tr>\n",
       "      <th>1</th>\n",
       "      <td>1474541784181182468</td>\n",
       "      <td>RT @texan40: I swear... only in south Texas 😂 ...</td>\n",
       "      <td>Sat Dec 25 00:45:31 2021</td>\n",
       "      <td>None</td>\n",
       "    </tr>\n",
       "    <tr>\n",
       "      <th>2</th>\n",
       "      <td>1474541784176861185</td>\n",
       "      <td>RT @kdramadaisy: choi woong is the standard.\\n...</td>\n",
       "      <td>Sat Dec 25 00:45:31 2021</td>\n",
       "      <td>None</td>\n",
       "    </tr>\n",
       "    <tr>\n",
       "      <th>3</th>\n",
       "      <td>1474541784156020741</td>\n",
       "      <td>RT @nft_ray: ANY #MAYC OWNERS INTERESTED IN TR...</td>\n",
       "      <td>Sat Dec 25 00:45:31 2021</td>\n",
       "      <td>None</td>\n",
       "    </tr>\n",
       "    <tr>\n",
       "      <th>4</th>\n",
       "      <td>1474541784155963396</td>\n",
       "      <td>RT @methnpizza: Spare 11? 1k would be a wonder...</td>\n",
       "      <td>Sat Dec 25 00:45:31 2021</td>\n",
       "      <td>None</td>\n",
       "    </tr>\n",
       "  </tbody>\n",
       "</table>\n",
       "</div>"
      ],
      "text/plain": [
       "                    ID                                               Text  \\\n",
       "0  1474541784210362368  RT @Fukkard: Top Two Belongs to Pra’BOSS’✊\\n\\n...   \n",
       "1  1474541784181182468  RT @texan40: I swear... only in south Texas 😂 ...   \n",
       "2  1474541784176861185  RT @kdramadaisy: choi woong is the standard.\\n...   \n",
       "3  1474541784156020741  RT @nft_ray: ANY #MAYC OWNERS INTERESTED IN TR...   \n",
       "4  1474541784155963396  RT @methnpizza: Spare 11? 1k would be a wonder...   \n",
       "\n",
       "                  CreatedAt deleteReason  \n",
       "0  Sat Dec 25 00:45:31 2021         None  \n",
       "1  Sat Dec 25 00:45:31 2021         None  \n",
       "2  Sat Dec 25 00:45:31 2021         None  \n",
       "3  Sat Dec 25 00:45:31 2021         None  \n",
       "4  Sat Dec 25 00:45:31 2021         None  "
      ]
     },
     "execution_count": 54,
     "metadata": {},
     "output_type": "execute_result"
    }
   ],
   "source": [
    "#What does this dataframe look like?\n",
    "df.head()"
   ]
  },
  {
   "cell_type": "code",
   "execution_count": 55,
   "id": "fbca6964",
   "metadata": {},
   "outputs": [
    {
     "data": {
      "text/plain": [
       "(64163912, 4)"
      ]
     },
     "execution_count": 55,
     "metadata": {},
     "output_type": "execute_result"
    }
   ],
   "source": [
    "#What is the shape?\n",
    "df.shape"
   ]
  },
  {
   "cell_type": "code",
   "execution_count": 56,
   "id": "e19d6f03",
   "metadata": {},
   "outputs": [],
   "source": [
    "#Let's make sure the delete reasons we care about came through\n",
    "deletedf = df[df['deleteReason'] == 'Twitter API returned a 404 (Not Found), This Tweet is no longer available because it violated the Twitter Rules.']"
   ]
  },
  {
   "cell_type": "code",
   "execution_count": 57,
   "id": "1957f117",
   "metadata": {},
   "outputs": [
    {
     "data": {
      "text/html": [
       "<div>\n",
       "<style scoped>\n",
       "    .dataframe tbody tr th:only-of-type {\n",
       "        vertical-align: middle;\n",
       "    }\n",
       "\n",
       "    .dataframe tbody tr th {\n",
       "        vertical-align: top;\n",
       "    }\n",
       "\n",
       "    .dataframe thead th {\n",
       "        text-align: right;\n",
       "    }\n",
       "</style>\n",
       "<table border=\"1\" class=\"dataframe\">\n",
       "  <thead>\n",
       "    <tr style=\"text-align: right;\">\n",
       "      <th></th>\n",
       "      <th>ID</th>\n",
       "      <th>Text</th>\n",
       "      <th>CreatedAt</th>\n",
       "      <th>deleteReason</th>\n",
       "    </tr>\n",
       "  </thead>\n",
       "  <tbody>\n",
       "    <tr>\n",
       "      <th>2468695</th>\n",
       "      <td>1485894286365368328</td>\n",
       "      <td>That will really help stop the huge surge of m...</td>\n",
       "      <td>Tue Jan 25 08:36:19 2022</td>\n",
       "      <td>Twitter API returned a 404 (Not Found), This T...</td>\n",
       "    </tr>\n",
       "    <tr>\n",
       "      <th>2524858</th>\n",
       "      <td>1485996263380238341</td>\n",
       "      <td>@ebonykayxxxx Scotland: fried mars bar, Gordon...</td>\n",
       "      <td>Tue Jan 25 15:21:32 2022</td>\n",
       "      <td>Twitter API returned a 404 (Not Found), This T...</td>\n",
       "    </tr>\n",
       "    <tr>\n",
       "      <th>2536038</th>\n",
       "      <td>1486011588780134400</td>\n",
       "      <td>Hey Sunghoon! Don't you dare to be closer with...</td>\n",
       "      <td>Tue Jan 25 16:22:26 2022</td>\n",
       "      <td>Twitter API returned a 404 (Not Found), This T...</td>\n",
       "    </tr>\n",
       "    <tr>\n",
       "      <th>2632183</th>\n",
       "      <td>1486939783540588544</td>\n",
       "      <td>@BevSutphin78 @MethyNurse @catherinenunya @Can...</td>\n",
       "      <td>Fri Jan 28 05:50:45 2022</td>\n",
       "      <td>Twitter API returned a 404 (Not Found), This T...</td>\n",
       "    </tr>\n",
       "    <tr>\n",
       "      <th>2710292</th>\n",
       "      <td>1487083580220186625</td>\n",
       "      <td>@Kasoulis1 @pskrill @Gala_heart @tariqnasheed ...</td>\n",
       "      <td>Fri Jan 28 15:22:08 2022</td>\n",
       "      <td>Twitter API returned a 404 (Not Found), This T...</td>\n",
       "    </tr>\n",
       "  </tbody>\n",
       "</table>\n",
       "</div>"
      ],
      "text/plain": [
       "                          ID  \\\n",
       "2468695  1485894286365368328   \n",
       "2524858  1485996263380238341   \n",
       "2536038  1486011588780134400   \n",
       "2632183  1486939783540588544   \n",
       "2710292  1487083580220186625   \n",
       "\n",
       "                                                      Text  \\\n",
       "2468695  That will really help stop the huge surge of m...   \n",
       "2524858  @ebonykayxxxx Scotland: fried mars bar, Gordon...   \n",
       "2536038  Hey Sunghoon! Don't you dare to be closer with...   \n",
       "2632183  @BevSutphin78 @MethyNurse @catherinenunya @Can...   \n",
       "2710292  @Kasoulis1 @pskrill @Gala_heart @tariqnasheed ...   \n",
       "\n",
       "                        CreatedAt  \\\n",
       "2468695  Tue Jan 25 08:36:19 2022   \n",
       "2524858  Tue Jan 25 15:21:32 2022   \n",
       "2536038  Tue Jan 25 16:22:26 2022   \n",
       "2632183  Fri Jan 28 05:50:45 2022   \n",
       "2710292  Fri Jan 28 15:22:08 2022   \n",
       "\n",
       "                                              deleteReason  \n",
       "2468695  Twitter API returned a 404 (Not Found), This T...  \n",
       "2524858  Twitter API returned a 404 (Not Found), This T...  \n",
       "2536038  Twitter API returned a 404 (Not Found), This T...  \n",
       "2632183  Twitter API returned a 404 (Not Found), This T...  \n",
       "2710292  Twitter API returned a 404 (Not Found), This T...  "
      ]
     },
     "execution_count": 57,
     "metadata": {},
     "output_type": "execute_result"
    }
   ],
   "source": [
    "deletedf.head()"
   ]
  },
  {
   "cell_type": "code",
   "execution_count": 58,
   "id": "1bb41c77",
   "metadata": {},
   "outputs": [
    {
     "data": {
      "text/plain": [
       "(1153, 4)"
      ]
     },
     "execution_count": 58,
     "metadata": {},
     "output_type": "execute_result"
    }
   ],
   "source": [
    "deletedf.shape"
   ]
  },
  {
   "cell_type": "markdown",
   "id": "54d42377",
   "metadata": {},
   "source": [
    "### Transform our target variable to binary"
   ]
  },
  {
   "cell_type": "code",
   "execution_count": 59,
   "id": "278a2b01",
   "metadata": {},
   "outputs": [],
   "source": [
    "# Convert the Target column based on substring presence\n",
    "df['deleteReason'] = df['deleteReason'].apply(\n",
    "    lambda x: 1 if x is not None and \"Twitter API returned a 404 (Not Found), This Tweet is no longer available because it violated the Twitter Rules.\" in x else 0)"
   ]
  },
  {
   "cell_type": "code",
   "execution_count": 60,
   "id": "96b68407",
   "metadata": {},
   "outputs": [
    {
     "data": {
      "text/html": [
       "<div>\n",
       "<style scoped>\n",
       "    .dataframe tbody tr th:only-of-type {\n",
       "        vertical-align: middle;\n",
       "    }\n",
       "\n",
       "    .dataframe tbody tr th {\n",
       "        vertical-align: top;\n",
       "    }\n",
       "\n",
       "    .dataframe thead th {\n",
       "        text-align: right;\n",
       "    }\n",
       "</style>\n",
       "<table border=\"1\" class=\"dataframe\">\n",
       "  <thead>\n",
       "    <tr style=\"text-align: right;\">\n",
       "      <th></th>\n",
       "      <th>ID</th>\n",
       "      <th>Text</th>\n",
       "      <th>CreatedAt</th>\n",
       "      <th>deleteReason</th>\n",
       "    </tr>\n",
       "  </thead>\n",
       "  <tbody>\n",
       "    <tr>\n",
       "      <th>0</th>\n",
       "      <td>1474541784210362368</td>\n",
       "      <td>RT @Fukkard: Top Two Belongs to Pra’BOSS’✊\\n\\n...</td>\n",
       "      <td>Sat Dec 25 00:45:31 2021</td>\n",
       "      <td>0</td>\n",
       "    </tr>\n",
       "    <tr>\n",
       "      <th>1</th>\n",
       "      <td>1474541784181182468</td>\n",
       "      <td>RT @texan40: I swear... only in south Texas 😂 ...</td>\n",
       "      <td>Sat Dec 25 00:45:31 2021</td>\n",
       "      <td>0</td>\n",
       "    </tr>\n",
       "    <tr>\n",
       "      <th>2</th>\n",
       "      <td>1474541784176861185</td>\n",
       "      <td>RT @kdramadaisy: choi woong is the standard.\\n...</td>\n",
       "      <td>Sat Dec 25 00:45:31 2021</td>\n",
       "      <td>0</td>\n",
       "    </tr>\n",
       "    <tr>\n",
       "      <th>3</th>\n",
       "      <td>1474541784156020741</td>\n",
       "      <td>RT @nft_ray: ANY #MAYC OWNERS INTERESTED IN TR...</td>\n",
       "      <td>Sat Dec 25 00:45:31 2021</td>\n",
       "      <td>0</td>\n",
       "    </tr>\n",
       "    <tr>\n",
       "      <th>4</th>\n",
       "      <td>1474541784155963396</td>\n",
       "      <td>RT @methnpizza: Spare 11? 1k would be a wonder...</td>\n",
       "      <td>Sat Dec 25 00:45:31 2021</td>\n",
       "      <td>0</td>\n",
       "    </tr>\n",
       "  </tbody>\n",
       "</table>\n",
       "</div>"
      ],
      "text/plain": [
       "                    ID                                               Text  \\\n",
       "0  1474541784210362368  RT @Fukkard: Top Two Belongs to Pra’BOSS’✊\\n\\n...   \n",
       "1  1474541784181182468  RT @texan40: I swear... only in south Texas 😂 ...   \n",
       "2  1474541784176861185  RT @kdramadaisy: choi woong is the standard.\\n...   \n",
       "3  1474541784156020741  RT @nft_ray: ANY #MAYC OWNERS INTERESTED IN TR...   \n",
       "4  1474541784155963396  RT @methnpizza: Spare 11? 1k would be a wonder...   \n",
       "\n",
       "                  CreatedAt  deleteReason  \n",
       "0  Sat Dec 25 00:45:31 2021             0  \n",
       "1  Sat Dec 25 00:45:31 2021             0  \n",
       "2  Sat Dec 25 00:45:31 2021             0  \n",
       "3  Sat Dec 25 00:45:31 2021             0  \n",
       "4  Sat Dec 25 00:45:31 2021             0  "
      ]
     },
     "execution_count": 60,
     "metadata": {},
     "output_type": "execute_result"
    }
   ],
   "source": [
    "df.head()"
   ]
  },
  {
   "cell_type": "code",
   "execution_count": 61,
   "id": "1d44517b",
   "metadata": {},
   "outputs": [],
   "source": [
    "deletedf = df[df['deleteReason'] == 1]"
   ]
  },
  {
   "cell_type": "code",
   "execution_count": 62,
   "id": "e3076612",
   "metadata": {},
   "outputs": [
    {
     "data": {
      "text/html": [
       "<div>\n",
       "<style scoped>\n",
       "    .dataframe tbody tr th:only-of-type {\n",
       "        vertical-align: middle;\n",
       "    }\n",
       "\n",
       "    .dataframe tbody tr th {\n",
       "        vertical-align: top;\n",
       "    }\n",
       "\n",
       "    .dataframe thead th {\n",
       "        text-align: right;\n",
       "    }\n",
       "</style>\n",
       "<table border=\"1\" class=\"dataframe\">\n",
       "  <thead>\n",
       "    <tr style=\"text-align: right;\">\n",
       "      <th></th>\n",
       "      <th>ID</th>\n",
       "      <th>Text</th>\n",
       "      <th>CreatedAt</th>\n",
       "      <th>deleteReason</th>\n",
       "    </tr>\n",
       "  </thead>\n",
       "  <tbody>\n",
       "    <tr>\n",
       "      <th>2468695</th>\n",
       "      <td>1485894286365368328</td>\n",
       "      <td>That will really help stop the huge surge of m...</td>\n",
       "      <td>Tue Jan 25 08:36:19 2022</td>\n",
       "      <td>1</td>\n",
       "    </tr>\n",
       "    <tr>\n",
       "      <th>2524858</th>\n",
       "      <td>1485996263380238341</td>\n",
       "      <td>@ebonykayxxxx Scotland: fried mars bar, Gordon...</td>\n",
       "      <td>Tue Jan 25 15:21:32 2022</td>\n",
       "      <td>1</td>\n",
       "    </tr>\n",
       "    <tr>\n",
       "      <th>2536038</th>\n",
       "      <td>1486011588780134400</td>\n",
       "      <td>Hey Sunghoon! Don't you dare to be closer with...</td>\n",
       "      <td>Tue Jan 25 16:22:26 2022</td>\n",
       "      <td>1</td>\n",
       "    </tr>\n",
       "    <tr>\n",
       "      <th>2632183</th>\n",
       "      <td>1486939783540588544</td>\n",
       "      <td>@BevSutphin78 @MethyNurse @catherinenunya @Can...</td>\n",
       "      <td>Fri Jan 28 05:50:45 2022</td>\n",
       "      <td>1</td>\n",
       "    </tr>\n",
       "    <tr>\n",
       "      <th>2710292</th>\n",
       "      <td>1487083580220186625</td>\n",
       "      <td>@Kasoulis1 @pskrill @Gala_heart @tariqnasheed ...</td>\n",
       "      <td>Fri Jan 28 15:22:08 2022</td>\n",
       "      <td>1</td>\n",
       "    </tr>\n",
       "  </tbody>\n",
       "</table>\n",
       "</div>"
      ],
      "text/plain": [
       "                          ID  \\\n",
       "2468695  1485894286365368328   \n",
       "2524858  1485996263380238341   \n",
       "2536038  1486011588780134400   \n",
       "2632183  1486939783540588544   \n",
       "2710292  1487083580220186625   \n",
       "\n",
       "                                                      Text  \\\n",
       "2468695  That will really help stop the huge surge of m...   \n",
       "2524858  @ebonykayxxxx Scotland: fried mars bar, Gordon...   \n",
       "2536038  Hey Sunghoon! Don't you dare to be closer with...   \n",
       "2632183  @BevSutphin78 @MethyNurse @catherinenunya @Can...   \n",
       "2710292  @Kasoulis1 @pskrill @Gala_heart @tariqnasheed ...   \n",
       "\n",
       "                        CreatedAt  deleteReason  \n",
       "2468695  Tue Jan 25 08:36:19 2022             1  \n",
       "2524858  Tue Jan 25 15:21:32 2022             1  \n",
       "2536038  Tue Jan 25 16:22:26 2022             1  \n",
       "2632183  Fri Jan 28 05:50:45 2022             1  \n",
       "2710292  Fri Jan 28 15:22:08 2022             1  "
      ]
     },
     "execution_count": 62,
     "metadata": {},
     "output_type": "execute_result"
    }
   ],
   "source": [
    "deletedf.head()"
   ]
  },
  {
   "cell_type": "code",
   "execution_count": 63,
   "id": "5bc0b799",
   "metadata": {},
   "outputs": [
    {
     "data": {
      "text/plain": [
       "(64163912, 4)"
      ]
     },
     "execution_count": 63,
     "metadata": {},
     "output_type": "execute_result"
    }
   ],
   "source": [
    "df.shape"
   ]
  },
  {
   "cell_type": "code",
   "execution_count": 64,
   "id": "71bc892e",
   "metadata": {},
   "outputs": [
    {
     "data": {
      "text/plain": [
       "(1153, 4)"
      ]
     },
     "execution_count": 64,
     "metadata": {},
     "output_type": "execute_result"
    }
   ],
   "source": [
    "deletedf.shape"
   ]
  },
  {
   "cell_type": "markdown",
   "id": "1d1a4ea9",
   "metadata": {},
   "source": [
    "### Let's create a df that is only records that have a target variable of 0 (not deleted by X)"
   ]
  },
  {
   "cell_type": "code",
   "execution_count": 65,
   "id": "02ef65b6",
   "metadata": {},
   "outputs": [],
   "source": [
    "sampledf = df[df['deleteReason'] == 0]"
   ]
  },
  {
   "cell_type": "code",
   "execution_count": 66,
   "id": "10f19d36",
   "metadata": {},
   "outputs": [
    {
     "data": {
      "text/html": [
       "<div>\n",
       "<style scoped>\n",
       "    .dataframe tbody tr th:only-of-type {\n",
       "        vertical-align: middle;\n",
       "    }\n",
       "\n",
       "    .dataframe tbody tr th {\n",
       "        vertical-align: top;\n",
       "    }\n",
       "\n",
       "    .dataframe thead th {\n",
       "        text-align: right;\n",
       "    }\n",
       "</style>\n",
       "<table border=\"1\" class=\"dataframe\">\n",
       "  <thead>\n",
       "    <tr style=\"text-align: right;\">\n",
       "      <th></th>\n",
       "      <th>ID</th>\n",
       "      <th>Text</th>\n",
       "      <th>CreatedAt</th>\n",
       "      <th>deleteReason</th>\n",
       "    </tr>\n",
       "  </thead>\n",
       "  <tbody>\n",
       "    <tr>\n",
       "      <th>0</th>\n",
       "      <td>1474541784210362368</td>\n",
       "      <td>RT @Fukkard: Top Two Belongs to Pra’BOSS’✊\\n\\n...</td>\n",
       "      <td>Sat Dec 25 00:45:31 2021</td>\n",
       "      <td>0</td>\n",
       "    </tr>\n",
       "    <tr>\n",
       "      <th>1</th>\n",
       "      <td>1474541784181182468</td>\n",
       "      <td>RT @texan40: I swear... only in south Texas 😂 ...</td>\n",
       "      <td>Sat Dec 25 00:45:31 2021</td>\n",
       "      <td>0</td>\n",
       "    </tr>\n",
       "    <tr>\n",
       "      <th>2</th>\n",
       "      <td>1474541784176861185</td>\n",
       "      <td>RT @kdramadaisy: choi woong is the standard.\\n...</td>\n",
       "      <td>Sat Dec 25 00:45:31 2021</td>\n",
       "      <td>0</td>\n",
       "    </tr>\n",
       "    <tr>\n",
       "      <th>3</th>\n",
       "      <td>1474541784156020741</td>\n",
       "      <td>RT @nft_ray: ANY #MAYC OWNERS INTERESTED IN TR...</td>\n",
       "      <td>Sat Dec 25 00:45:31 2021</td>\n",
       "      <td>0</td>\n",
       "    </tr>\n",
       "    <tr>\n",
       "      <th>4</th>\n",
       "      <td>1474541784155963396</td>\n",
       "      <td>RT @methnpizza: Spare 11? 1k would be a wonder...</td>\n",
       "      <td>Sat Dec 25 00:45:31 2021</td>\n",
       "      <td>0</td>\n",
       "    </tr>\n",
       "  </tbody>\n",
       "</table>\n",
       "</div>"
      ],
      "text/plain": [
       "                    ID                                               Text  \\\n",
       "0  1474541784210362368  RT @Fukkard: Top Two Belongs to Pra’BOSS’✊\\n\\n...   \n",
       "1  1474541784181182468  RT @texan40: I swear... only in south Texas 😂 ...   \n",
       "2  1474541784176861185  RT @kdramadaisy: choi woong is the standard.\\n...   \n",
       "3  1474541784156020741  RT @nft_ray: ANY #MAYC OWNERS INTERESTED IN TR...   \n",
       "4  1474541784155963396  RT @methnpizza: Spare 11? 1k would be a wonder...   \n",
       "\n",
       "                  CreatedAt  deleteReason  \n",
       "0  Sat Dec 25 00:45:31 2021             0  \n",
       "1  Sat Dec 25 00:45:31 2021             0  \n",
       "2  Sat Dec 25 00:45:31 2021             0  \n",
       "3  Sat Dec 25 00:45:31 2021             0  \n",
       "4  Sat Dec 25 00:45:31 2021             0  "
      ]
     },
     "execution_count": 66,
     "metadata": {},
     "output_type": "execute_result"
    }
   ],
   "source": [
    "sampledf.head()"
   ]
  },
  {
   "cell_type": "code",
   "execution_count": 67,
   "id": "17afae3a",
   "metadata": {},
   "outputs": [
    {
     "data": {
      "text/plain": [
       "(64162759, 4)"
      ]
     },
     "execution_count": 67,
     "metadata": {},
     "output_type": "execute_result"
    }
   ],
   "source": [
    "sampledf.shape"
   ]
  },
  {
   "cell_type": "markdown",
   "id": "a71f27ac",
   "metadata": {},
   "source": [
    "### Let's pull a sample of 10k rows of the sampledf so that our algorithms can handle the smaller load. 65M rows takes too long to run, and we are not distributing this load for this project because we want to keep costs at $0."
   ]
  },
  {
   "cell_type": "code",
   "execution_count": 68,
   "id": "80553df3",
   "metadata": {},
   "outputs": [],
   "source": [
    "sampledf_10k = sampledf.sample(n=10000)"
   ]
  },
  {
   "cell_type": "code",
   "execution_count": 69,
   "id": "5ea58f24",
   "metadata": {},
   "outputs": [
    {
     "data": {
      "text/html": [
       "<div>\n",
       "<style scoped>\n",
       "    .dataframe tbody tr th:only-of-type {\n",
       "        vertical-align: middle;\n",
       "    }\n",
       "\n",
       "    .dataframe tbody tr th {\n",
       "        vertical-align: top;\n",
       "    }\n",
       "\n",
       "    .dataframe thead th {\n",
       "        text-align: right;\n",
       "    }\n",
       "</style>\n",
       "<table border=\"1\" class=\"dataframe\">\n",
       "  <thead>\n",
       "    <tr style=\"text-align: right;\">\n",
       "      <th></th>\n",
       "      <th>ID</th>\n",
       "      <th>Text</th>\n",
       "      <th>CreatedAt</th>\n",
       "      <th>deleteReason</th>\n",
       "    </tr>\n",
       "  </thead>\n",
       "  <tbody>\n",
       "    <tr>\n",
       "      <th>12040219</th>\n",
       "      <td>1521947259306491904</td>\n",
       "      <td>RT @ogm4xb_: women with good pussy can’t drive</td>\n",
       "      <td>Wed May 04 20:17:57 2022</td>\n",
       "      <td>0</td>\n",
       "    </tr>\n",
       "    <tr>\n",
       "      <th>30815750</th>\n",
       "      <td>1575088295302012929</td>\n",
       "      <td>RT @LisaPeruBP: Typa girl that came straight o...</td>\n",
       "      <td>Wed Sep 28 11:41:27 2022</td>\n",
       "      <td>0</td>\n",
       "    </tr>\n",
       "    <tr>\n",
       "      <th>20688716</th>\n",
       "      <td>1539416811099328513</td>\n",
       "      <td>@StrictLiable @ClaireFosterPHD @Timcast she's ...</td>\n",
       "      <td>Wed Jun 22 01:15:43 2022</td>\n",
       "      <td>0</td>\n",
       "    </tr>\n",
       "    <tr>\n",
       "      <th>6171573</th>\n",
       "      <td>1498186913702084608</td>\n",
       "      <td>RT @Pradeep_Dmk: Women priceless Bus  🔥\\n#Stal...</td>\n",
       "      <td>Mon Feb 28 06:42:49 2022</td>\n",
       "      <td>0</td>\n",
       "    </tr>\n",
       "    <tr>\n",
       "      <th>19794827</th>\n",
       "      <td>1532365059241832448</td>\n",
       "      <td>RT @ladyincrypto: $50 GIVEAWAY ~ 4 HOURS ⏳️ \\n...</td>\n",
       "      <td>Thu Jun 02 14:14:34 2022</td>\n",
       "      <td>0</td>\n",
       "    </tr>\n",
       "  </tbody>\n",
       "</table>\n",
       "</div>"
      ],
      "text/plain": [
       "                           ID  \\\n",
       "12040219  1521947259306491904   \n",
       "30815750  1575088295302012929   \n",
       "20688716  1539416811099328513   \n",
       "6171573   1498186913702084608   \n",
       "19794827  1532365059241832448   \n",
       "\n",
       "                                                       Text  \\\n",
       "12040219     RT @ogm4xb_: women with good pussy can’t drive   \n",
       "30815750  RT @LisaPeruBP: Typa girl that came straight o...   \n",
       "20688716  @StrictLiable @ClaireFosterPHD @Timcast she's ...   \n",
       "6171573   RT @Pradeep_Dmk: Women priceless Bus  🔥\\n#Stal...   \n",
       "19794827  RT @ladyincrypto: $50 GIVEAWAY ~ 4 HOURS ⏳️ \\n...   \n",
       "\n",
       "                         CreatedAt  deleteReason  \n",
       "12040219  Wed May 04 20:17:57 2022             0  \n",
       "30815750  Wed Sep 28 11:41:27 2022             0  \n",
       "20688716  Wed Jun 22 01:15:43 2022             0  \n",
       "6171573   Mon Feb 28 06:42:49 2022             0  \n",
       "19794827  Thu Jun 02 14:14:34 2022             0  "
      ]
     },
     "execution_count": 69,
     "metadata": {},
     "output_type": "execute_result"
    }
   ],
   "source": [
    "sampledf_10k.head()"
   ]
  },
  {
   "cell_type": "code",
   "execution_count": 70,
   "id": "d56ed3dd",
   "metadata": {},
   "outputs": [],
   "source": [
    "#let's sort it by index\n",
    "\n",
    "sampledf_10k = sampledf_10k.sort_index()"
   ]
  },
  {
   "cell_type": "code",
   "execution_count": 71,
   "id": "2a495b15",
   "metadata": {},
   "outputs": [
    {
     "data": {
      "text/html": [
       "<div>\n",
       "<style scoped>\n",
       "    .dataframe tbody tr th:only-of-type {\n",
       "        vertical-align: middle;\n",
       "    }\n",
       "\n",
       "    .dataframe tbody tr th {\n",
       "        vertical-align: top;\n",
       "    }\n",
       "\n",
       "    .dataframe thead th {\n",
       "        text-align: right;\n",
       "    }\n",
       "</style>\n",
       "<table border=\"1\" class=\"dataframe\">\n",
       "  <thead>\n",
       "    <tr style=\"text-align: right;\">\n",
       "      <th></th>\n",
       "      <th>ID</th>\n",
       "      <th>Text</th>\n",
       "      <th>CreatedAt</th>\n",
       "      <th>deleteReason</th>\n",
       "    </tr>\n",
       "  </thead>\n",
       "  <tbody>\n",
       "    <tr>\n",
       "      <th>1315</th>\n",
       "      <td>1474541778120450049</td>\n",
       "      <td>RT @McQueenRH: new active list now! come get a...</td>\n",
       "      <td>Sat Dec 25 00:45:30 2021</td>\n",
       "      <td>0</td>\n",
       "    </tr>\n",
       "    <tr>\n",
       "      <th>4328</th>\n",
       "      <td>1474549365578645506</td>\n",
       "      <td>RT @thatboicandy: @mooncat2878 @tezos @TempleW...</td>\n",
       "      <td>Sat Dec 25 01:15:39 2021</td>\n",
       "      <td>0</td>\n",
       "    </tr>\n",
       "    <tr>\n",
       "      <th>6789</th>\n",
       "      <td>1474553150841376770</td>\n",
       "      <td>RT @btsvotingorg: Collect more hearts and regi...</td>\n",
       "      <td>Sat Dec 25 01:30:41 2021</td>\n",
       "      <td>0</td>\n",
       "    </tr>\n",
       "    <tr>\n",
       "      <th>21157</th>\n",
       "      <td>1474579650475134983</td>\n",
       "      <td>Instead of saying English is not a desi langua...</td>\n",
       "      <td>Sat Dec 25 03:15:59 2021</td>\n",
       "      <td>0</td>\n",
       "    </tr>\n",
       "    <tr>\n",
       "      <th>40552</th>\n",
       "      <td>1474621084993343494</td>\n",
       "      <td>🎶 It came upon a midnight cloudy...\\n\\n...the ...</td>\n",
       "      <td>Sat Dec 25 06:00:38 2021</td>\n",
       "      <td>0</td>\n",
       "    </tr>\n",
       "  </tbody>\n",
       "</table>\n",
       "</div>"
      ],
      "text/plain": [
       "                        ID                                               Text  \\\n",
       "1315   1474541778120450049  RT @McQueenRH: new active list now! come get a...   \n",
       "4328   1474549365578645506  RT @thatboicandy: @mooncat2878 @tezos @TempleW...   \n",
       "6789   1474553150841376770  RT @btsvotingorg: Collect more hearts and regi...   \n",
       "21157  1474579650475134983  Instead of saying English is not a desi langua...   \n",
       "40552  1474621084993343494  🎶 It came upon a midnight cloudy...\\n\\n...the ...   \n",
       "\n",
       "                      CreatedAt  deleteReason  \n",
       "1315   Sat Dec 25 00:45:30 2021             0  \n",
       "4328   Sat Dec 25 01:15:39 2021             0  \n",
       "6789   Sat Dec 25 01:30:41 2021             0  \n",
       "21157  Sat Dec 25 03:15:59 2021             0  \n",
       "40552  Sat Dec 25 06:00:38 2021             0  "
      ]
     },
     "execution_count": 71,
     "metadata": {},
     "output_type": "execute_result"
    }
   ],
   "source": [
    "sampledf_10k.head()"
   ]
  },
  {
   "cell_type": "markdown",
   "id": "d72a54ff",
   "metadata": {},
   "source": [
    "### We now have a dataframe of 10k tweets that were not deleted. Let's concatenate it with the 1153 tweets that were deleted to make our dataframe we will use to run our models"
   ]
  },
  {
   "cell_type": "code",
   "execution_count": 72,
   "id": "e70d64c2",
   "metadata": {},
   "outputs": [],
   "source": [
    "projectdf = pd.concat([sampledf_10k, deletedf])"
   ]
  },
  {
   "cell_type": "code",
   "execution_count": 73,
   "id": "bbe31fb0",
   "metadata": {},
   "outputs": [],
   "source": [
    "projectdf = projectdf.sort_index()"
   ]
  },
  {
   "cell_type": "code",
   "execution_count": 74,
   "id": "3f48ed67",
   "metadata": {},
   "outputs": [
    {
     "data": {
      "text/html": [
       "<div>\n",
       "<style scoped>\n",
       "    .dataframe tbody tr th:only-of-type {\n",
       "        vertical-align: middle;\n",
       "    }\n",
       "\n",
       "    .dataframe tbody tr th {\n",
       "        vertical-align: top;\n",
       "    }\n",
       "\n",
       "    .dataframe thead th {\n",
       "        text-align: right;\n",
       "    }\n",
       "</style>\n",
       "<table border=\"1\" class=\"dataframe\">\n",
       "  <thead>\n",
       "    <tr style=\"text-align: right;\">\n",
       "      <th></th>\n",
       "      <th>ID</th>\n",
       "      <th>Text</th>\n",
       "      <th>CreatedAt</th>\n",
       "      <th>deleteReason</th>\n",
       "    </tr>\n",
       "  </thead>\n",
       "  <tbody>\n",
       "    <tr>\n",
       "      <th>1315</th>\n",
       "      <td>1474541778120450049</td>\n",
       "      <td>RT @McQueenRH: new active list now! come get a...</td>\n",
       "      <td>Sat Dec 25 00:45:30 2021</td>\n",
       "      <td>0</td>\n",
       "    </tr>\n",
       "    <tr>\n",
       "      <th>4328</th>\n",
       "      <td>1474549365578645506</td>\n",
       "      <td>RT @thatboicandy: @mooncat2878 @tezos @TempleW...</td>\n",
       "      <td>Sat Dec 25 01:15:39 2021</td>\n",
       "      <td>0</td>\n",
       "    </tr>\n",
       "    <tr>\n",
       "      <th>6789</th>\n",
       "      <td>1474553150841376770</td>\n",
       "      <td>RT @btsvotingorg: Collect more hearts and regi...</td>\n",
       "      <td>Sat Dec 25 01:30:41 2021</td>\n",
       "      <td>0</td>\n",
       "    </tr>\n",
       "    <tr>\n",
       "      <th>21157</th>\n",
       "      <td>1474579650475134983</td>\n",
       "      <td>Instead of saying English is not a desi langua...</td>\n",
       "      <td>Sat Dec 25 03:15:59 2021</td>\n",
       "      <td>0</td>\n",
       "    </tr>\n",
       "    <tr>\n",
       "      <th>40552</th>\n",
       "      <td>1474621084993343494</td>\n",
       "      <td>🎶 It came upon a midnight cloudy...\\n\\n...the ...</td>\n",
       "      <td>Sat Dec 25 06:00:38 2021</td>\n",
       "      <td>0</td>\n",
       "    </tr>\n",
       "  </tbody>\n",
       "</table>\n",
       "</div>"
      ],
      "text/plain": [
       "                        ID                                               Text  \\\n",
       "1315   1474541778120450049  RT @McQueenRH: new active list now! come get a...   \n",
       "4328   1474549365578645506  RT @thatboicandy: @mooncat2878 @tezos @TempleW...   \n",
       "6789   1474553150841376770  RT @btsvotingorg: Collect more hearts and regi...   \n",
       "21157  1474579650475134983  Instead of saying English is not a desi langua...   \n",
       "40552  1474621084993343494  🎶 It came upon a midnight cloudy...\\n\\n...the ...   \n",
       "\n",
       "                      CreatedAt  deleteReason  \n",
       "1315   Sat Dec 25 00:45:30 2021             0  \n",
       "4328   Sat Dec 25 01:15:39 2021             0  \n",
       "6789   Sat Dec 25 01:30:41 2021             0  \n",
       "21157  Sat Dec 25 03:15:59 2021             0  \n",
       "40552  Sat Dec 25 06:00:38 2021             0  "
      ]
     },
     "execution_count": 74,
     "metadata": {},
     "output_type": "execute_result"
    }
   ],
   "source": [
    "projectdf.head()"
   ]
  },
  {
   "cell_type": "code",
   "execution_count": 75,
   "id": "18a3cdf2",
   "metadata": {},
   "outputs": [
    {
     "data": {
      "text/plain": [
       "(11153, 4)"
      ]
     },
     "execution_count": 75,
     "metadata": {},
     "output_type": "execute_result"
    }
   ],
   "source": [
    "projectdf.shape"
   ]
  },
  {
   "cell_type": "markdown",
   "id": "aa28cc6f",
   "metadata": {},
   "source": [
    "### Print to a csv to be used for our final project analysis"
   ]
  },
  {
   "cell_type": "code",
   "execution_count": 76,
   "id": "63e0a171",
   "metadata": {},
   "outputs": [],
   "source": [
    "projectdf.to_csv('projectdf.csv', index = False)"
   ]
  },
  {
   "cell_type": "markdown",
   "id": "544699d8",
   "metadata": {},
   "source": [
    "# Please now refer to DSC478_FinalProject_mdecero.ipynb for the rest of the project. This notebook was simply to create a csv for us to do the analysis on. This way, the grader can replicate the steps using the produced CSV as opposed to the source being a local database that he or she will not have access to."
   ]
  }
 ],
 "metadata": {
  "kernelspec": {
   "display_name": "Python 3 (ipykernel)",
   "language": "python",
   "name": "python3"
  },
  "language_info": {
   "codemirror_mode": {
    "name": "ipython",
    "version": 3
   },
   "file_extension": ".py",
   "mimetype": "text/x-python",
   "name": "python",
   "nbconvert_exporter": "python",
   "pygments_lexer": "ipython3",
   "version": "3.10.9"
  }
 },
 "nbformat": 4,
 "nbformat_minor": 5
}
